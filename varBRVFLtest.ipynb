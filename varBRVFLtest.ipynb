{
 "cells": [
  {
   "cell_type": "code",
   "execution_count": 1,
   "metadata": {},
   "outputs": [],
   "source": [
    "import numpy as np\n",
    "from sklearn.model_selection import train_test_split, KFold\n",
    "from scipy.io import loadmat\n",
    "import pymc3 as pm\n",
    "import theano.tensor as T\n",
    "import matplotlib.pyplot as plt"
   ]
  },
  {
   "cell_type": "code",
   "execution_count": 7,
   "metadata": {},
   "outputs": [],
   "source": [
    "n_node = 10 # num of nodes in hidden layer\n",
    "w_range = [-1, 1] # range of random weights\n",
    "b_range = [0, 1] # range of random biases\n",
    "\n",
    "class VariationalBRVFL:\n",
    "    \"\"\" BRVFL Classifier \"\"\"\n",
    "\n",
    "    def __init__(self, n_node, alpha_1=10**(-5), alpha_2=10**(-5), alpha_3=10**(-5), alpha_4=10**(-5), n_iter=1000, tol=1.0e-3, activation='sigmoid', same_feature=False):\n",
    "        self.n_node = n_node\n",
    "        self.w_range = w_range\n",
    "        self.b_range = b_range\n",
    "        \n",
    "        self.alpha_1 = alpha_1 # Gamma distribution parameter\n",
    "        self.alpha_2 = alpha_2\n",
    "        self.alpha_3 = alpha_3\n",
    "        self.alpha_4 = alpha_4\n",
    "        self.n_iter = n_iter\n",
    "        self.tol = tol\n",
    "\n",
    "        self.model = None\n",
    "        self.weight = None\n",
    "        self.bias = None\n",
    "        self.beta = None\n",
    "        self.prec = None\n",
    "        self.var = None\n",
    "        a = Activation()\n",
    "        self.activation_function = getattr(a, activation)\n",
    "        self.data_std = None\n",
    "        self.data_mean = None\n",
    "        self.same_feature = same_feature\n",
    "        self.trace = None\n",
    "    \n",
    "    def kernel(self, data, beta, weights, bias):\n",
    "        h = self.activation_function(T.dot(data, weights) + bias)\n",
    "        d = T.concatenate([h, data], axis=1)\n",
    "        d = T.concatenate([d, T.ones_like(d[:, 0:1])], axis=1)\n",
    "        out = T.dot(d, beta)\n",
    "        return out\n",
    "\n",
    "    def train(self, data, label, n_class):\n",
    "        assert len(data.shape) > 1\n",
    "        assert len(data) == len(label)\n",
    "        assert len(label.shape) == 1\n",
    "\n",
    "        data = self.standardize(data)\n",
    "        n_sample, n_feature = np.shape(data)\n",
    "        y = self.one_hot_encoding(label, n_class)\n",
    "\n",
    "        # Initialize variance and precision using Evidence approximation\n",
    "        self.model = pm.Model()\n",
    "        with self.model:\n",
    "            # make model data aware\n",
    "            input = pm.Data(\"input\", data)\n",
    "            output = pm.Data(\"output\", y)\n",
    "\n",
    "            # build model\n",
    "            bias = pm.Normal('bias', mu=0, tau=1, shape=(1, self.n_node))\n",
    "            weights =pm.Normal('weights', mu=0, tau=1, shape=(n_feature, self.n_node))\n",
    "            precision = pm.Gamma('precision', alpha=self.alpha_1, beta=self.alpha_2)\n",
    "            variance = pm.Gamma('variance', alpha=self.alpha_3, beta=self.alpha_4)\n",
    "            beta = pm.Normal('beta', mu=0, tau=precision, shape=(n_feature+self.n_node+1, n_class))\n",
    "            y_obs = pm.Normal('y_obs', mu=self.kernel(input, beta, weights, bias), tau=variance, observed=output)\n",
    "            \n",
    "            # start = pm.find_MAP()\n",
    "            inference = pm.ADVI()\n",
    "            approx = pm.fit(n=self.n_iter, method=inference)\n",
    "            self.trace = approx.sample(draws=5000)\n",
    "\n",
    "            # train accuracy\n",
    "            post_pred = pm.sample_posterior_predictive(self.trace, samples=5000)\n",
    "            y_pred = np.mean(post_pred['y_obs'], axis=0)\n",
    "            y_pred = np.argmax(y_pred, axis=1)\n",
    "            acc = np.sum(np.equal(label, y_pred))/len(label)\n",
    "            print(\"Train accuracy: \", acc)\n",
    "\n",
    "    def predict(self, data, raw_output=False):\n",
    "        data = self.standardize(data) # Normalize\n",
    "\n",
    "        with self.model:\n",
    "            # replace data with test set\n",
    "            pm.set_data({'input': data})\n",
    "            post_pred = pm.sample_posterior_predictive(self.trace, samples=5000)\n",
    "            y_pred = np.mean(post_pred['y_obs'], axis=0)\n",
    "            y_pred = np.argmax(y_pred, axis=1)\n",
    "        \n",
    "        return y_pred\n",
    "\n",
    "    def eval(self, data, label):\n",
    "        assert len(data.shape) > 1\n",
    "        assert len(data) == len(label)\n",
    "        assert len(label.shape) == 1\n",
    "\n",
    "        y_pred = self.predict(data, False)\n",
    "\n",
    "        acc = np.sum(np.equal(label, y_pred))/len(label)\n",
    "        return acc\n",
    "\n",
    "    def one_hot_encoding(self, label, n_class):\n",
    "        y = np.zeros([len(label), n_class])\n",
    "        for i in range(len(label)):\n",
    "            y[i, label[i]] = 1\n",
    "        return y\n",
    "\n",
    "    def standardize(self, x):\n",
    "        if self.same_feature is True:\n",
    "            if self.data_std is None:\n",
    "                self.data_std = np.maximum(np.std(x), 1/np.sqrt(len(x)))\n",
    "            if self.data_mean is None:\n",
    "                self.data_mean = np.mean(x)\n",
    "            return (x - self.data_mean) / self.data_std\n",
    "        else:\n",
    "            if self.data_std is None:\n",
    "                self.data_std = np.maximum(np.std(x, axis=0), 1/np.sqrt(len(x)))\n",
    "            if self.data_mean is None:\n",
    "                self.data_mean = np.mean(x, axis=0)\n",
    "            return (x - self.data_mean) / self.data_std\n",
    "\n",
    "    def softmax(self, x):\n",
    "        return np.exp(x) / np.repeat((np.sum(np.exp(x), axis=1))[:, np.newaxis], len(x[0]), axis=1)\n",
    "\n",
    "class Activation:\n",
    "    def sigmoid(self, x):\n",
    "        return 1 / (1 + np.e ** (-x))\n",
    "    \n",
    "    def sine(self, x):\n",
    "        return np.sin(x)\n",
    "    \n",
    "    def sign(self, x):\n",
    "        return np.sign(x)\n",
    "    \n",
    "    def relu(self, x):\n",
    "        return T.maximum(0, x)"
   ]
  },
  {
   "cell_type": "code",
   "execution_count": 8,
   "metadata": {},
   "outputs": [
    {
     "data": {
      "text/html": [
       "\n",
       "    <div>\n",
       "        <style>\n",
       "            /* Turns off some styling */\n",
       "            progress {\n",
       "                /* gets rid of default border in Firefox and Opera. */\n",
       "                border: none;\n",
       "                /* Needs to be in here for Safari polyfill so background images work as expected. */\n",
       "                background-size: auto;\n",
       "            }\n",
       "            .progress-bar-interrupted, .progress-bar-interrupted::-webkit-progress-bar {\n",
       "                background: #F44336;\n",
       "            }\n",
       "        </style>\n",
       "      <progress value='1000' class='' max='1000' style='width:300px; height:20px; vertical-align: middle;'></progress>\n",
       "      100.00% [1000/1000 00:27<00:00 Average Loss = 5.9423e+06]\n",
       "    </div>\n",
       "    "
      ],
      "text/plain": [
       "<IPython.core.display.HTML object>"
      ]
     },
     "metadata": {},
     "output_type": "display_data"
    },
    {
     "name": "stderr",
     "output_type": "stream",
     "text": [
      "Finished [100%]: Average Loss = 5.9277e+06\n"
     ]
    },
    {
     "data": {
      "text/html": [
       "\n",
       "    <div>\n",
       "        <style>\n",
       "            /* Turns off some styling */\n",
       "            progress {\n",
       "                /* gets rid of default border in Firefox and Opera. */\n",
       "                border: none;\n",
       "                /* Needs to be in here for Safari polyfill so background images work as expected. */\n",
       "                background-size: auto;\n",
       "            }\n",
       "            .progress-bar-interrupted, .progress-bar-interrupted::-webkit-progress-bar {\n",
       "                background: #F44336;\n",
       "            }\n",
       "        </style>\n",
       "      <progress value='5000' class='' max='5000' style='width:300px; height:20px; vertical-align: middle;'></progress>\n",
       "      100.00% [5000/5000 02:12<00:00]\n",
       "    </div>\n",
       "    "
      ],
      "text/plain": [
       "<IPython.core.display.HTML object>"
      ]
     },
     "metadata": {},
     "output_type": "display_data"
    },
    {
     "name": "stdout",
     "output_type": "stream",
     "text": [
      "Train accuracy:  0.1467013888888889\n"
     ]
    },
    {
     "data": {
      "text/html": [
       "\n",
       "    <div>\n",
       "        <style>\n",
       "            /* Turns off some styling */\n",
       "            progress {\n",
       "                /* gets rid of default border in Firefox and Opera. */\n",
       "                border: none;\n",
       "                /* Needs to be in here for Safari polyfill so background images work as expected. */\n",
       "                background-size: auto;\n",
       "            }\n",
       "            .progress-bar-interrupted, .progress-bar-interrupted::-webkit-progress-bar {\n",
       "                background: #F44336;\n",
       "            }\n",
       "        </style>\n",
       "      <progress value='5000' class='' max='5000' style='width:300px; height:20px; vertical-align: middle;'></progress>\n",
       "      100.00% [5000/5000 02:15<00:00]\n",
       "    </div>\n",
       "    "
      ],
      "text/plain": [
       "<IPython.core.display.HTML object>"
      ]
     },
     "metadata": {},
     "output_type": "display_data"
    }
   ],
   "source": [
    "dataset = loadmat('coil20.mat')\n",
    "label = np.array([dataset['Y'][i][0] - 1 for i in range(len(dataset['Y']))])\n",
    "data = dataset['X']\n",
    "n_class = len(np.unique(label))\n",
    "n_node = 10\n",
    "\n",
    "X_train, X_test, y_train, y_test = train_test_split(data, label, test_size=0.2, random_state=42)\n",
    "\n",
    "model = VariationalBRVFL(n_node)\n",
    "model.train(X_train, y_train, n_class)\n",
    "test_acc = model.eval(X_test, y_test)"
   ]
  },
  {
   "cell_type": "code",
   "execution_count": 9,
   "metadata": {},
   "outputs": [
    {
     "name": "stdout",
     "output_type": "stream",
     "text": [
      "0.1111111111111111\n"
     ]
    }
   ],
   "source": [
    "print(test_acc)"
   ]
  },
  {
   "cell_type": "code",
   "execution_count": 5,
   "metadata": {},
   "outputs": [],
   "source": [
    "dataset = loadmat('coil20.mat')\n",
    "label = np.array([dataset['Y'][i][0] - 1 for i in range(len(dataset['Y']))])\n",
    "data = dataset['X']\n",
    "n_class = len(np.unique(label))\n",
    "\n",
    "# train-test-split\n",
    "X_train, X_test, y_train, y_test = train_test_split(data, label, test_size=0.2, random_state=42)\n",
    "# kf = KFold(n_splits=10, shuffle=True, random_state=0)\n",
    "# val_accs = []\n",
    "# max_index = -1\n",
    "\n",
    "# for i, kf_values in enumerate(kf.split(X_train, y_train)):\n",
    "# #     print(f'train: {train_index}, val: {val_index}')\n",
    "#     print('Validation: {}'.format(i + 1))\n",
    "#     train_index, val_index = kf_values\n",
    "#     X_val_train, X_val_test = X_train[train_index], X_train[val_index]\n",
    "#     y_val_train, y_val_test = y_train[train_index], y_train[val_index]\n",
    "#     model = VariationalBRVFL(n_node, w_range, b_range)\n",
    "#     train_acc, val_acc = model.train(X_val_train, y_val_train, X_val_test, y_val_test, n_class)\n",
    "#     print(f'Validation accuracy: {val_acc}')\n",
    "#     val_accs.append(val_acc)\n",
    "#     if val_acc >= max(val_accs):\n",
    "#         max_index = train_index\n",
    "\n",
    "# X_train, y_train = X_train[max_index], y_train[max_index]\n",
    "# model = VariationalBRVFL(n_node, w_range, b_range)\n",
    "# model.train(X_train, y_train, X_test, y_test, n_class)\n",
    "# print(f'\\nTest accuracy: {test_acc}')"
   ]
  },
  {
   "cell_type": "code",
   "execution_count": 16,
   "metadata": {},
   "outputs": [
    {
     "data": {
      "text/html": [
       "\n",
       "    <div>\n",
       "        <style>\n",
       "            /* Turns off some styling */\n",
       "            progress {\n",
       "                /* gets rid of default border in Firefox and Opera. */\n",
       "                border: none;\n",
       "                /* Needs to be in here for Safari polyfill so background images work as expected. */\n",
       "                background-size: auto;\n",
       "            }\n",
       "            .progress-bar-interrupted, .progress-bar-interrupted::-webkit-progress-bar {\n",
       "                background: #F44336;\n",
       "            }\n",
       "        </style>\n",
       "      <progress value='216' class='' max='216' style='width:300px; height:20px; vertical-align: middle;'></progress>\n",
       "      100.00% [216/216 00:09<00:00 logp = 1.7782e+05, ||grad|| = 25,462]\n",
       "    </div>\n",
       "    "
      ],
      "text/plain": [
       "<IPython.core.display.HTML object>"
      ]
     },
     "metadata": {},
     "output_type": "display_data"
    },
    {
     "name": "stdout",
     "output_type": "stream",
     "text": [
      "\n"
     ]
    },
    {
     "data": {
      "text/html": [
       "\n",
       "    <div>\n",
       "        <style>\n",
       "            /* Turns off some styling */\n",
       "            progress {\n",
       "                /* gets rid of default border in Firefox and Opera. */\n",
       "                border: none;\n",
       "                /* Needs to be in here for Safari polyfill so background images work as expected. */\n",
       "                background-size: auto;\n",
       "            }\n",
       "            .progress-bar-interrupted, .progress-bar-interrupted::-webkit-progress-bar {\n",
       "                background: #F44336;\n",
       "            }\n",
       "        </style>\n",
       "      <progress value='4800' class='' max='10000' style='width:300px; height:20px; vertical-align: middle;'></progress>\n",
       "      48.00% [4800/10000 01:31<01:39 Average Loss = 3.9967e+05]\n",
       "    </div>\n",
       "    "
      ],
      "text/plain": [
       "<IPython.core.display.HTML object>"
      ]
     },
     "metadata": {},
     "output_type": "display_data"
    },
    {
     "name": "stderr",
     "output_type": "stream",
     "text": [
      "Interrupted at 4,802 [48%]: Average Loss = 8.0334e+05\n"
     ]
    },
    {
     "ename": "AttributeError",
     "evalue": "module 'pymc3' has no attribute 'sample_ppc'",
     "output_type": "error",
     "traceback": [
      "\u001b[0;31m---------------------------------------------------------------------------\u001b[0m",
      "\u001b[0;31mAttributeError\u001b[0m                            Traceback (most recent call last)",
      "\u001b[0;32m<ipython-input-16-804982beea56>\u001b[0m in \u001b[0;36m<module>\u001b[0;34m\u001b[0m\n\u001b[1;32m     55\u001b[0m     \u001b[0;32mreturn\u001b[0m \u001b[0mmodel\u001b[0m\u001b[0;34m\u001b[0m\u001b[0;34m\u001b[0m\u001b[0m\n\u001b[1;32m     56\u001b[0m \u001b[0;34m\u001b[0m\u001b[0m\n\u001b[0;32m---> 57\u001b[0;31m \u001b[0mmodel\u001b[0m \u001b[0;34m=\u001b[0m \u001b[0mVariationalBayesRVFL\u001b[0m\u001b[0;34m(\u001b[0m\u001b[0mX_train\u001b[0m\u001b[0;34m,\u001b[0m \u001b[0my_train\u001b[0m\u001b[0;34m)\u001b[0m\u001b[0;34m\u001b[0m\u001b[0;34m\u001b[0m\u001b[0m\n\u001b[0m",
      "\u001b[0;32m<ipython-input-16-804982beea56>\u001b[0m in \u001b[0;36mVariationalBayesRVFL\u001b[0;34m(data, label)\u001b[0m\n\u001b[1;32m     47\u001b[0m         \u001b[0mapprox\u001b[0m \u001b[0;34m=\u001b[0m \u001b[0mpm\u001b[0m\u001b[0;34m.\u001b[0m\u001b[0mfit\u001b[0m\u001b[0;34m(\u001b[0m\u001b[0mn\u001b[0m\u001b[0;34m=\u001b[0m\u001b[0mn_iter\u001b[0m\u001b[0;34m,\u001b[0m \u001b[0mstart\u001b[0m\u001b[0;34m=\u001b[0m\u001b[0mstart\u001b[0m\u001b[0;34m,\u001b[0m \u001b[0mmethod\u001b[0m\u001b[0;34m=\u001b[0m\u001b[0minference\u001b[0m\u001b[0;34m)\u001b[0m\u001b[0;34m\u001b[0m\u001b[0;34m\u001b[0m\u001b[0m\n\u001b[1;32m     48\u001b[0m         \u001b[0mtrace\u001b[0m \u001b[0;34m=\u001b[0m \u001b[0mapprox\u001b[0m\u001b[0;34m.\u001b[0m\u001b[0msample\u001b[0m\u001b[0;34m(\u001b[0m\u001b[0mdraws\u001b[0m\u001b[0;34m=\u001b[0m\u001b[0;36m5000\u001b[0m\u001b[0;34m)\u001b[0m\u001b[0;34m\u001b[0m\u001b[0;34m\u001b[0m\u001b[0m\n\u001b[0;32m---> 49\u001b[0;31m         \u001b[0mpost_pred\u001b[0m \u001b[0;34m=\u001b[0m \u001b[0mpm\u001b[0m\u001b[0;34m.\u001b[0m\u001b[0msample_ppc\u001b[0m\u001b[0;34m(\u001b[0m\u001b[0mtrace\u001b[0m\u001b[0;34m,\u001b[0m\u001b[0msamples\u001b[0m\u001b[0;34m=\u001b[0m\u001b[0;36m5000\u001b[0m\u001b[0;34m,\u001b[0m \u001b[0mmodel\u001b[0m\u001b[0;34m=\u001b[0m\u001b[0mmodel\u001b[0m\u001b[0;34m)\u001b[0m\u001b[0;34m\u001b[0m\u001b[0;34m\u001b[0m\u001b[0m\n\u001b[0m\u001b[1;32m     50\u001b[0m         \u001b[0my_train_pred\u001b[0m \u001b[0;34m=\u001b[0m \u001b[0mnp\u001b[0m\u001b[0;34m.\u001b[0m\u001b[0mmean\u001b[0m\u001b[0;34m(\u001b[0m\u001b[0mpost_pred\u001b[0m\u001b[0;34m[\u001b[0m\u001b[0;34m'y_obs'\u001b[0m\u001b[0;34m]\u001b[0m\u001b[0;34m,\u001b[0m \u001b[0maxis\u001b[0m\u001b[0;34m=\u001b[0m\u001b[0;36m0\u001b[0m\u001b[0;34m)\u001b[0m\u001b[0;34m\u001b[0m\u001b[0;34m\u001b[0m\u001b[0m\n\u001b[1;32m     51\u001b[0m         \u001b[0my_train_pred\u001b[0m \u001b[0;34m=\u001b[0m \u001b[0mnp\u001b[0m\u001b[0;34m.\u001b[0m\u001b[0margmax\u001b[0m\u001b[0;34m(\u001b[0m\u001b[0my_train_pred\u001b[0m\u001b[0;34m,\u001b[0m \u001b[0maxis\u001b[0m\u001b[0;34m=\u001b[0m\u001b[0;36m1\u001b[0m\u001b[0;34m)\u001b[0m\u001b[0;34m\u001b[0m\u001b[0;34m\u001b[0m\u001b[0m\n",
      "\u001b[0;31mAttributeError\u001b[0m: module 'pymc3' has no attribute 'sample_ppc'"
     ]
    }
   ],
   "source": [
    "def standardize(x):\n",
    "    std = np.maximum(np.std(x, axis=0), 1/np.sqrt(len(x)))\n",
    "    mean = np.mean(x, axis=0)\n",
    "    return (x - mean) / std\n",
    "\n",
    "def one_hot_encoding(label, n_class):\n",
    "    y = np.zeros([len(label), n_class])\n",
    "    for i in range(len(label)):\n",
    "        y[i, label[i]] = 1\n",
    "    return y\n",
    "\n",
    "def relu(x):\n",
    "    return T.maximum(0, x)\n",
    "\n",
    "def kernel(data, beta, weights, bias):\n",
    "    h = relu(T.dot(data, weights) + bias)\n",
    "    d = T.concatenate([h, data], axis=1)\n",
    "    d = T.concatenate([d, T.ones_like(d[:, 0:1])], axis=1)\n",
    "    out = T.dot(d, beta)\n",
    "    return out\n",
    "\n",
    "def VariationalBayesRVFL(data, label):\n",
    "    n_node = 10\n",
    "    alpha_1 = 10**(-5)\n",
    "    alpha_2 = 10**(-5)\n",
    "    alpha_3 = 10**(-5)\n",
    "    alpha_4 = 10**(-5)\n",
    "    n_iter = 10000\n",
    "\n",
    "    n_sample, n_feature = np.shape(data)\n",
    "    x = standardize(data)\n",
    "    y = one_hot_encoding(label, n_class)\n",
    "\n",
    "    with pm.Model() as model:\n",
    "        input = pm.Data(\"input\", x)\n",
    "        output = pm.Data(\"output\", y)\n",
    "\n",
    "        bias = pm.Normal('bias', mu=0, tau=1, shape=(1, n_node))\n",
    "        weights =pm.Normal('weights', mu=0, tau=1, shape=(n_feature, n_node))\n",
    "        precision = pm.Gamma('precision', alpha=alpha_1, beta=alpha_2)\n",
    "        variance = pm.Gamma('variance', alpha=alpha_3, beta=alpha_4)\n",
    "        beta = pm.Normal('beta', mu=0, tau=precision, shape=(n_feature+n_node+1, n_class))\n",
    "        y_obs = pm.Normal('y_obs', mu=kernel(data, beta, weights, bias), tau=variance, observed=y)\n",
    "\n",
    "        start = pm.find_MAP()\n",
    "        inference = pm.ADVI()\n",
    "        approx = pm.fit(n=n_iter, start=start, method=inference)\n",
    "        trace = approx.sample(draws=5000)\n",
    "        post_pred = pm.sample_ppc(trace,samples=5000, model=model)\n",
    "        y_train_pred = np.mean(post_pred['y_obs'], axis=0)\n",
    "        y_train_pred = np.argmax(y_train_pred, axis=1)\n",
    "        train_acc = np.sum(np.equal(y, y_train_pred))/len(label)\n",
    "        print(\"Train accuracy: \", train_acc)\n",
    "        \n",
    "    return model\n",
    "\n",
    "model = VariationalBayesRVFL(X_train, y_train)"
   ]
  },
  {
   "cell_type": "code",
   "execution_count": 9,
   "metadata": {},
   "outputs": [
    {
     "data": {
      "text/plain": [
       "Text(0.5, 0, 'iteration')"
      ]
     },
     "execution_count": 9,
     "metadata": {},
     "output_type": "execute_result"
    },
    {
     "data": {
      "image/png": "[encoded data removed]",
      "text/plain": [
       "<Figure size 432x288 with 1 Axes>"
      ]
     },
     "metadata": {
      "needs_background": "light"
     },
     "output_type": "display_data"
    }
   ],
   "source": [
    "plt.plot(-inference.hist, label=\"new ADVI\", alpha=0.3)\n",
    "plt.plot(approx.hist, label=\"old ADVI\", alpha=0.3)\n",
    "plt.legend()\n",
    "plt.ylabel(\"ELBO\")\n",
    "plt.xlabel(\"iteration\")"
   ]
  },
  {
   "cell_type": "code",
   "execution_count": null,
   "metadata": {},
   "outputs": [],
   "source": [
    "def softmax(self, x):\n",
    "    return np.exp(x) / np.repeat((np.sum(np.exp(x), axis=1))[:, np.newaxis], len(x[0]), axis=1)\n",
    "\n",
    "def predict(data):\n",
    "    X_test = standardize(data)\n",
    "    pm.set_data(new_data={\"x\": X_test}, model=model)\n",
    "    y_pred = pm.sample_posterior_predictive(trace, progressbar=True, model=model)\n",
    "    pred = softmax(y_pred['y_obs'])\n",
    "    pred = np.argmax(pred, axis=1)\n",
    "    return pred\n",
    "\n",
    "def eval(pred, label):\n",
    "    acc = np.sum(np.equal(pred, label))/len(label)\n",
    "    return acc\n"
   ]
  }
 ],
 "metadata": {
  "interpreter": {
   "hash": "d29531488e2b7bac10af08b59c5a0d1dca9077738f8661c2e75b8529990c25ab"
  },
  "kernelspec": {
   "display_name": "Python 3.8.8 64-bit ('base': conda)",
   "name": "python3"
  },
  "language_info": {
   "codemirror_mode": {
    "name": "ipython",
    "version": 3
   },
   "file_extension": ".py",
   "mimetype": "text/x-python",
   "name": "python",
   "nbconvert_exporter": "python",
   "pygments_lexer": "ipython3",
   "version": "3.8.8"
  },
  "orig_nbformat": 4
 },
 "nbformat": 4,
 "nbformat_minor": 2
}
