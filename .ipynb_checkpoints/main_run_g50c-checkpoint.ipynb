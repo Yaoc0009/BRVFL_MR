{
 "cells": [
  {
   "cell_type": "code",
   "execution_count": 3,
   "id": "24d8bee7",
   "metadata": {
    "scrolled": false
   },
   "outputs": [
    {
     "name": "stdout",
     "output_type": "stream",
     "text": [
      "\n",
      " run:  0\n",
      "running Laplacian ELM...\n",
      "Unlab:  0.68853591160221 ± 0.07209825680098887\n",
      "Val:  0.85 ± 0.08888194417315587\n",
      "Test:  0.8541666666666666 ± 0.0723454516820855\n",
      "Lambda:  [1000000, 0.0001]\n",
      "Train time:  0.5833670397599539\n",
      "\n",
      " run:  1\n",
      "running Laplacian ELM...\n",
      "Unlab:  0.7064814814814814 ± 0.06655404582058978\n",
      "Val:  0.8916666666666666 ± 0.0974536927069581\n",
      "Test:  0.875 ± 0.05711362842025021\n",
      "Lambda:  [100000, 1e-06]\n",
      "Train time:  0.6093273162841797\n",
      "\n",
      " run:  2\n",
      "running Laplacian ELM...\n",
      "Unlab:  0.7694288389513108 ± 0.05144436672935564\n",
      "Val:  0.9083333333333332 ± 0.050634858436544375\n",
      "Test:  0.9074754901960785 ± 0.03308256124189483\n",
      "Lambda:  [1000000, 1e-05]\n",
      "Train time:  0.7499881982803345\n",
      "\n",
      " run:  3\n",
      "running Laplacian ELM...\n",
      "Unlab:  0.8105842911877396 ± 0.04605863105758554\n",
      "Val:  0.9400000000000001 ± 0.03162277660168378\n",
      "Test:  0.9105392156862746 ± 0.022228378856883637\n",
      "Lambda:  [1000000, 1e-05]\n",
      "Train time:  0.6857116321722666\n",
      "\n",
      " run:  4\n",
      "running Laplacian ELM...\n",
      "Unlab:  0.855421686746988 ± 0.0360608132451164\n",
      "Val:  0.9499999999999998 ± 0.023804761428476144\n",
      "Test:  0.9319852941176469 ± 0.01727680414199962\n",
      "Lambda:  [100000, 1e-05]\n",
      "Train time:  0.6836373309294382\n",
      "\n",
      " run:  5\n",
      "running Laplacian ELM...\n",
      "Unlab:  0.9094444444444445 ± 0.018600743380870238\n",
      "Val:  0.9566666666666667 ± 0.01598610507770908\n",
      "Test:  0.9393382352941176 ± 0.017790724437448505\n",
      "Lambda:  [100000, 1e-06]\n",
      "Train time:  0.6071085433165232\n",
      "\n",
      " run:  6\n",
      "running Laplacian ELM...\n",
      "Unlab:  0.9265536723163842 ± 0.012026402800795467\n",
      "Val:  0.965 ± 0.020207259421636897\n",
      "Test:  0.9325980392156862 ± 0.014026376399827954\n",
      "Lambda:  [1000000, 0.0001]\n",
      "Train time:  0.732929935057958\n",
      "\n",
      " run:  7\n",
      "running Laplacian ELM...\n",
      "Unlab:  0.947530864197531 ± 0.021824283369955164\n",
      "Val:  0.9633333333333334 ± 0.019720265943665403\n",
      "Test:  0.9424019607843136 ± 0.00892170329568692\n",
      "Lambda:  [1000000, 0.001]\n",
      "Train time:  0.5650696158409119\n"
     ]
    }
   ],
   "source": [
    "from datasets import *\n",
    "from run_SS_helpers import *\n",
    "import numpy as np\n",
    "\n",
    "np.random.seed(42)\n",
    "\n",
    "n = [2**i for i in range(1,9)]\n",
    "\n",
    "for i, part in enumerate(n):\n",
    "# g50c\n",
    "    print('\\n run: ', i)\n",
    "    data, label, n_class = g50c()\n",
    "    partition = [part, 364-part, 50, 136]\n",
    "    NN = 50\n",
    "\n",
    "    run_LapELM(data, label, n_class, partition, NN)"
   ]
  },
  {
   "cell_type": "code",
   "execution_count": 2,
   "id": "56b16493",
   "metadata": {
    "scrolled": false
   },
   "outputs": [
    {
     "name": "stdout",
     "output_type": "stream",
     "text": [
      "\n",
      " run:  0\n",
      "running ELM...\n",
      "Unlab:  0.7177716390423573 ± 0.04846516063517765\n",
      "Val:  0.7599999999999999 ± 0.04\n",
      "Test:  0.7524509803921569 ± 0.04962857041989359\n",
      "Lambda:  1000\n",
      "Train time:  0.04904559254646301\n",
      "running RVFL...\n",
      "Unlab:  0.7060313075506445 ± 0.041961958425608716\n",
      "Val:  0.745 ± 0.05361902647381805\n",
      "Test:  0.6899509803921569 ± 0.04697001935474705\n",
      "Lambda:  0.001\n",
      "Train time:  0.052999029556910195\n",
      "running Laplacian RVFL...\n",
      "Unlab:  0.6611418047882135 ± 0.049599975526012266\n",
      "Val:  0.8400000000000002 ± 0.0725718035235908\n",
      "Test:  0.8645833333333334 ± 0.03884533299165554\n",
      "Lambda:  [100000, 1e-06]\n",
      "Train time:  0.4308038850625356\n",
      "\n",
      " run:  1\n",
      "running ELM...\n",
      "Unlab:  0.648148148148148 ± 0.1093690597054326\n",
      "Val:  0.6983333333333334 ± 0.18411198283170552\n",
      "Test:  0.6930147058823529 ± 0.15368423964788203\n",
      "Lambda:  10000\n",
      "Train time:  0.34165117144584656\n",
      "running RVFL...\n",
      "Unlab:  0.6902777777777778 ± 0.08750734830990167\n",
      "Val:  0.695 ± 0.11287899125464697\n",
      "Test:  0.6678921568627451 ± 0.14921318213095494\n",
      "Lambda:  10\n",
      "Train time:  0.21626274784406027\n",
      "running Laplacian RVFL...\n",
      "Unlab:  0.6949074074074074 ± 0.053908851463539555\n",
      "Val:  0.8766666666666666 ± 0.0682316316348624\n",
      "Test:  0.8621323529411766 ± 0.042465489924016386\n",
      "Lambda:  [1000000, 1e-05]\n",
      "Train time:  0.7136613925298055\n",
      "\n",
      " run:  2\n",
      "running ELM...\n",
      "Unlab:  0.7537453183520602 ± 0.05803733040191659\n",
      "Val:  0.765 ± 0.0566421515598881\n",
      "Test:  0.7512254901960785 ± 0.06237973819913926\n",
      "Lambda:  0.01\n",
      "Train time:  0.23058701554934183\n",
      "running RVFL...\n",
      "Unlab:  0.7736423220973783 ± 0.03889643728230366\n",
      "Val:  0.7799999999999999 ± 0.06480740698407861\n",
      "Test:  0.764093137254902 ± 0.08129675110775746\n",
      "Lambda:  0.1\n",
      "Train time:  0.28787508606910706\n",
      "running Laplacian RVFL...\n",
      "Unlab:  0.7595973782771536 ± 0.042530265736603214\n",
      "Val:  0.9166666666666669 ± 0.04606758320361751\n",
      "Test:  0.9117647058823529 ± 0.03260817327365212\n",
      "Lambda:  [1000000, 1e-05]\n",
      "Train time:  0.6751580834388733\n",
      "\n",
      " run:  3\n",
      "running ELM...\n",
      "Unlab:  0.8299808429118775 ± 0.03538555835644802\n",
      "Val:  0.8550000000000001 ± 0.06006940430313368\n",
      "Test:  0.8468137254901961 ± 0.04501070507893862\n",
      "Lambda:  100\n",
      "Train time:  0.32579971353212994\n",
      "running RVFL...\n",
      "Unlab:  0.832375478927203 ± 0.03914332709138419\n",
      "Val:  0.8483333333333333 ± 0.054441609903536935\n",
      "Test:  0.837622549019608 ± 0.03976238868359712\n",
      "Lambda:  0.1\n",
      "Train time:  0.30274345477422077\n",
      "running Laplacian RVFL...\n",
      "Unlab:  0.8117816091954024 ± 0.03582362673364127\n",
      "Val:  0.9400000000000001 ± 0.027080128015453175\n",
      "Test:  0.9270833333333334 ± 0.01932819889165135\n",
      "Lambda:  [10000, 0.0001]\n",
      "Train time:  0.6864695250988007\n",
      "\n",
      " run:  4\n",
      "running ELM...\n",
      "Unlab:  0.8945783132530121 ± 0.020940415275717078\n",
      "Val:  0.9 ± 0.050332229568471644\n",
      "Test:  0.9050245098039217 ± 0.02692594674352921\n",
      "Lambda:  100\n",
      "Train time:  0.38528984785079956\n",
      "running RVFL...\n",
      "Unlab:  0.8862951807228915 ± 0.025738623002896952\n",
      "Val:  0.9183333333333334 ± 0.041998677227847156\n",
      "Test:  0.9111519607843136 ± 0.02111082497175517\n",
      "Lambda:  1000\n",
      "Train time:  0.3568025628725688\n",
      "running Laplacian RVFL...\n",
      "Unlab:  0.8702309236947791 ± 0.026699796384046914\n",
      "Val:  0.9533333333333333 ± 0.029814239699997185\n",
      "Test:  0.9240196078431374 ± 0.024632048090982555\n",
      "Lambda:  [100000, 0.0001]\n",
      "Train time:  0.6077994008858999\n",
      "\n",
      " run:  5\n",
      "running ELM...\n",
      "Unlab:  0.9102777777777776 ± 0.010925533577387306\n",
      "Val:  0.9366666666666665 ± 0.03986086914367132\n",
      "Test:  0.9387254901960785 ± 0.018341457778303642\n",
      "Lambda:  1000\n",
      "Train time:  0.3326226472854614\n",
      "running RVFL...\n",
      "Unlab:  0.9152777777777777 ± 0.0130850730147932\n",
      "Val:  0.9383333333333331 ± 0.03312434485725298\n",
      "Test:  0.9338235294117648 ± 0.01850449616487929\n",
      "Lambda:  1000\n",
      "Train time:  0.3308279911677043\n",
      "running Laplacian RVFL...\n",
      "Unlab:  0.9016666666666667 ± 0.017186342553620015\n",
      "Val:  0.9550000000000002 ± 0.024664414311581225\n",
      "Test:  0.9325980392156863 ± 0.013027139476390505\n",
      "Lambda:  [10000, 1e-05]\n",
      "Train time:  0.6168766419092814\n",
      "\n",
      " run:  6\n",
      "running ELM...\n",
      "Unlab:  0.9399717514124294 ± 0.017879927826514354\n",
      "Val:  0.9466666666666667 ± 0.0329983164553722\n",
      "Test:  0.9283088235294118 ± 0.0187764135368193\n",
      "Lambda:  1000\n",
      "Train time:  0.44088958700497943\n",
      "running RVFL...\n",
      "Unlab:  0.9424435028248587 ± 0.011534239386342585\n",
      "Val:  0.9349999999999999 ± 0.030686587732536602\n",
      "Test:  0.9430147058823529 ± 0.015046604360059657\n",
      "Lambda:  1000\n",
      "Train time:  0.4056374927361806\n",
      "running Laplacian RVFL...\n",
      "Unlab:  0.909957627118644 ± 0.02360014803885163\n",
      "Val:  0.9666666666666665 ± 0.022110831935702666\n",
      "Test:  0.9393382352941176 ± 0.015343117678368778\n",
      "Lambda:  [10000, 0.001]\n",
      "Train time:  0.6536825199921926\n",
      "\n",
      " run:  7\n",
      "running ELM...\n",
      "Unlab:  0.9483024691358026 ± 0.014862160713162197\n",
      "Val:  0.9616666666666669 ± 0.01907587190376599\n",
      "Test:  0.9362745098039215 ± 0.017843406591373817\n",
      "Lambda:  1000\n",
      "Train time:  0.3960216740767161\n",
      "running RVFL...\n",
      "Unlab:  0.9537037037037037 ± 0.0200022861061971\n",
      "Val:  0.9499999999999998 ± 0.0264575131106459\n",
      "Test:  0.9436274509803924 ± 0.026054278952781014\n",
      "Lambda:  10000\n",
      "Train time:  0.47443872690200806\n",
      "running Laplacian RVFL...\n",
      "Unlab:  0.9351851851851852 ± 0.01964185503295965\n",
      "Val:  0.9633333333333334 ± 0.03036811193048099\n",
      "Test:  0.9509803921568628 ± 0.02171574160131048\n",
      "Lambda:  [100, 0.01]\n",
      "Train time:  0.6186081866423289\n"
     ]
    }
   ],
   "source": [
    "from datasets import *\n",
    "from run_SS_helpers import *\n",
    "import numpy as np\n",
    "\n",
    "np.random.seed(42)\n",
    "\n",
    "n = [2**i for i in range(1,9)]\n",
    "\n",
    "for i, part in enumerate(n):\n",
    "# g50c\n",
    "    print('\\n run: ', i)\n",
    "    data, label, n_class = g50c()\n",
    "    partition = [part, 364-part, 50, 136]\n",
    "    NN = 50\n",
    "\n",
    "    run_ELM(data, label, n_class, partition)\n",
    "    run_RVFL(data, label, n_class, partition)\n",
    "    run_LapRVFL(data, label, n_class, partition, NN)"
   ]
  },
  {
   "cell_type": "code",
   "execution_count": 1,
   "id": "47f1c244",
   "metadata": {},
   "outputs": [],
   "source": [
    "from datasets import *\n",
    "from run_SS_helpers_edRVFL import *\n",
    "import numpy as np\n",
    "\n",
    "np.random.seed(42)\n",
    "\n",
    "# g50c\n",
    "data, label, n_class = g50c()\n",
    "partition = [50, 314, 50, 136]\n",
    "NN = 50"
   ]
  },
  {
   "cell_type": "code",
   "execution_count": 2,
   "id": "d59f5526",
   "metadata": {},
   "outputs": [
    {
     "name": "stdout",
     "output_type": "stream",
     "text": [
      "running Deep RVFL...\n",
      "Unlab:  0.8996815286624206 ± 0.0469587760142775\n",
      "Val:  0.9066666666666666 ± 0.039440531887330765\n",
      "Test:  0.9111519607843138 ± 0.019328198891651358\n",
      "Lambda:  1000\n",
      "Train time:  0.1315174698829651\n",
      "running Deep RVFL...\n",
      "Unlab:  0.9049893842887474 ± 0.038345353866575387\n",
      "Val:  0.9200000000000003 ± 0.032659863237109024\n",
      "Test:  0.9136029411764706 ± 0.015919584628390434\n",
      "Lambda:  1000\n",
      "Train time:  0.5903915961583456\n"
     ]
    }
   ],
   "source": [
    "record_pred = []\n",
    "record_target = []\n",
    "\n",
    "for n_layer in range(1,3):\n",
    "    print('running Deep RVFL...')\n",
    "    model_class = DeepRVFL\n",
    "    unlab = []\n",
    "    val = []\n",
    "    test = []\n",
    "    t = []\n",
    "    results = []\n",
    "    targets = []\n",
    "    for i, lam in enumerate(lams):\n",
    "        unlab_acc, val_acc, test_acc, train_time, raw_results, target = run_SS(data, label, n_class, model_class, partition, lam=lam, n_layer=n_layer, activation='sigmoid')\n",
    "        unlab.append(unlab_acc)\n",
    "        val.append(val_acc)\n",
    "        test.append(test_acc)\n",
    "        t.append(train_time)\n",
    "        results.append(raw_results)\n",
    "        targets.append(target)\n",
    "\n",
    "    max_index = np.argmax(val, axis=0)[0]\n",
    "    opt_lam = lams[max_index]\n",
    "    print('Unlab: ', unlab[max_index][0], u\"\\u00B1\", unlab[max_index][1])\n",
    "    print('Val: ', val[max_index][0], u\"\\u00B1\", val[max_index][1])\n",
    "    print('Test: ', test[max_index][0], u\"\\u00B1\", test[max_index][1])\n",
    "    print('Lambda: ', opt_lam)\n",
    "    print('Train time: ', t[max_index])\n",
    "    record_pred.append(results[max_index])\n",
    "    record_target.append(targets[max_index])"
   ]
  },
  {
   "cell_type": "code",
   "execution_count": 30,
   "id": "8d916ec8",
   "metadata": {},
   "outputs": [],
   "source": [
    "mat_sum = np.sum(record_pred, axis=0) / len(record_pred)\n",
    "results = np.argmax(mat_sum, axis=2)"
   ]
  },
  {
   "cell_type": "code",
   "execution_count": 32,
   "id": "59ca465b",
   "metadata": {
    "scrolled": true
   },
   "outputs": [
    {
     "name": "stdout",
     "output_type": "stream",
     "text": [
      "0.5220588235294118\n",
      "0.5073529411764706\n",
      "0.49264705882352944\n",
      "0.9338235294117647\n",
      "0.5147058823529411\n",
      "0.5147058823529411\n",
      "0.49264705882352944\n",
      "0.9191176470588235\n",
      "0.5147058823529411\n",
      "0.5\n",
      "0.4852941176470588\n",
      "0.9191176470588235\n"
     ]
    }
   ],
   "source": [
    "for result in results:\n",
    "    assert len(result) == len(record_target[0])\n",
    "    acc = np.sum(np.equal(result, record_target[0]))/len(record_target[0])\n",
    "    print(acc)"
   ]
  },
  {
   "cell_type": "code",
   "execution_count": 1,
   "id": "51647f52",
   "metadata": {},
   "outputs": [],
   "source": [
    "from datasets import *\n",
    "from run_helpers import *\n",
    "import numpy as np\n",
    "\n",
    "np.random.seed(42)"
   ]
  },
  {
   "cell_type": "code",
   "execution_count": 2,
   "id": "1421a5ee",
   "metadata": {},
   "outputs": [],
   "source": [
    "# coil20\n",
    "data, label, n_class = g50c()"
   ]
  },
  {
   "cell_type": "code",
   "execution_count": 3,
   "id": "b99b0adc",
   "metadata": {},
   "outputs": [
    {
     "name": "stdout",
     "output_type": "stream",
     "text": [
      "Accuracy:  0.9581818181818182 ± 0.025777176143196055\n",
      "Lambda:  1024\n",
      "Train time:  0.01562039852142334\n",
      "Test time:  0.0007863759994506836\n"
     ]
    }
   ],
   "source": [
    "run_RVFL(data, label, n_class)"
   ]
  },
  {
   "cell_type": "code",
   "execution_count": 4,
   "id": "be946d1e",
   "metadata": {},
   "outputs": [
    {
     "name": "stdout",
     "output_type": "stream",
     "text": [
      "Accuracy:  0.947272727272727 ± 0.032978831176758296\n",
      "Lambda:  256\n",
      "Train time:  0.11722335815429688\n",
      "Test time:  0.005764293670654297\n"
     ]
    }
   ],
   "source": [
    "run_dRVFL(data, label, n_class)\n"
   ]
  },
  {
   "cell_type": "code",
   "execution_count": 5,
   "id": "ae71d9cd",
   "metadata": {},
   "outputs": [
    {
     "name": "stdout",
     "output_type": "stream",
     "text": [
      "Accuracy:  0.9581818181818182 ± 0.018272501129310715\n",
      "Lambda:  16\n",
      "Train time:  0.0950467586517334\n",
      "Test time:  0.00853557586669922\n"
     ]
    }
   ],
   "source": [
    "run_edRVFL(data, label, n_class)\n",
    "\n"
   ]
  },
  {
   "cell_type": "code",
   "execution_count": 6,
   "id": "f779016f",
   "metadata": {},
   "outputs": [
    {
     "name": "stdout",
     "output_type": "stream",
     "text": [
      "running Bayesian RVFL...\n",
      "Validation: 10 Convergence after  11  iterationsAccuracy:  0.9545454545454547 ± 0.02727272727272728\n",
      "Train time:  9.349285864830017\n",
      "Test time:  0.0010440587997436524\n",
      "Hyperparameters: \n",
      "Precision:  424.56421675918483\n",
      "Variance:  0.09826562394872435\n"
     ]
    }
   ],
   "source": [
    "run_BRVFL(data, label, n_class)\n"
   ]
  },
  {
   "cell_type": "code",
   "execution_count": 7,
   "id": "ddf8ce3c",
   "metadata": {},
   "outputs": [
    {
     "name": "stdout",
     "output_type": "stream",
     "text": [
      "running Bayesian Deep RVFL...\n",
      "Validation: 10 Convergence after  8  iterationsAccuracy:  0.9345454545454546 ± 0.03743865505813456\n",
      "Train time:  8.925349950790405\n",
      "Test time:  0.004632115364074707\n",
      "Hyperparameters: \n",
      "Precision:  975.7410010655847\n",
      "Variance:  0.9226049749731707\n"
     ]
    }
   ],
   "source": [
    "run_BdRVFL(data, label, n_class)\n"
   ]
  },
  {
   "cell_type": "code",
   "execution_count": 8,
   "id": "38b9c63b",
   "metadata": {},
   "outputs": [
    {
     "name": "stdout",
     "output_type": "stream",
     "text": [
      "running Bayesian Ensemble Deep RVFL...\n",
      "Validation: 10 Convergence after  11  iterations Convergence after  10  iterations Convergence after  11  iterations Convergence after  8  iterations Convergence after  11  iterationsAccuracy:  0.9545454545454545 ± 0.03377122840183039\n",
      "Train time:  10.658461427688598\n",
      "Test time:  0.013589286804199218\n",
      "Hyperparameters: \n",
      "Precision:  [445.89763946508504, 480.93785087697245, 476.4893492115073, 508.1752503435666, 466.6012958127193]\n",
      "Variance:  [0.10202528472914799, 0.13761088892884277, 0.13877345575012617, 0.13833528593416466, 0.13183107531386093]\n"
     ]
    }
   ],
   "source": [
    "run_BedRVFL(data, label, n_class)\n"
   ]
  },
  {
   "cell_type": "code",
   "execution_count": 9,
   "id": "9e9caee2",
   "metadata": {},
   "outputs": [
    {
     "name": "stdout",
     "output_type": "stream",
     "text": [
      "Accuracy:  0.9454545454545453 ± 0.032524625127269675\n",
      "Lambda:  [64, 0.0625]\n",
      "Train time:  0.07965505123138428\n",
      "Test time:  0.0006441593170166016\n"
     ]
    }
   ],
   "source": [
    "run_LapRVFL(data, label, n_class)\n"
   ]
  },
  {
   "cell_type": "code",
   "execution_count": 10,
   "id": "4d3b878c",
   "metadata": {},
   "outputs": [
    {
     "name": "stdout",
     "output_type": "stream",
     "text": [
      "Accuracy:  0.9527272727272725 ± 0.021818181818181827\n",
      "Lambda:  [16, 0.0625]\n",
      "Train time:  0.08101451396942139\n",
      "Test time:  0.0008551836013793946\n"
     ]
    }
   ],
   "source": [
    "run_LapdRVFL(data, label, n_class)\n"
   ]
  },
  {
   "cell_type": "code",
   "execution_count": 11,
   "id": "bd9c139b",
   "metadata": {},
   "outputs": [
    {
     "name": "stdout",
     "output_type": "stream",
     "text": [
      "Accuracy:  0.9527272727272728 ± 0.023284088136119457\n",
      "Lambda:  [256, 0.015625]\n",
      "Train time:  0.16426165103912355\n",
      "Test time:  0.0011646509170532226\n"
     ]
    }
   ],
   "source": [
    "run_LapedRVFL(data, label, n_class)"
   ]
  },
  {
   "cell_type": "code",
   "execution_count": null,
   "id": "f9ea82e0",
   "metadata": {},
   "outputs": [],
   "source": []
  }
 ],
 "metadata": {
  "interpreter": {
   "hash": "d29531488e2b7bac10af08b59c5a0d1dca9077738f8661c2e75b8529990c25ab"
  },
  "kernelspec": {
   "display_name": "Python 3 (ipykernel)",
   "language": "python",
   "name": "python3"
  },
  "language_info": {
   "codemirror_mode": {
    "name": "ipython",
    "version": 3
   },
   "file_extension": ".py",
   "mimetype": "text/x-python",
   "name": "python",
   "nbconvert_exporter": "python",
   "pygments_lexer": "ipython3",
   "version": "3.8.10"
  }
 },
 "nbformat": 4,
 "nbformat_minor": 5
}
