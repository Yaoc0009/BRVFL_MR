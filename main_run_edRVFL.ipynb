{
 "cells": [
  {
   "cell_type": "code",
   "execution_count": 1,
   "id": "249dc2e2",
   "metadata": {},
   "outputs": [],
   "source": [
    "from datasets import *\n",
    "from run_SS_helpers_edRVFL import *\n",
    "import numpy as np\n",
    "\n",
    "np.random.seed(42)\n",
    "\n",
    "# g50c\n",
    "data, label, n_class = g50c()\n",
    "partition = [50, 314, 50, 136]\n",
    "NN = 50\n",
    "lams = [10**i for i in range(-6, 7)] # regularization parameter, lambda"
   ]
  },
  {
   "cell_type": "code",
   "execution_count": 2,
   "id": "6d5da8c7",
   "metadata": {},
   "outputs": [],
   "source": [
    "record_pred = []\n",
    "record_target = []"
   ]
  },
  {
   "cell_type": "code",
   "execution_count": 3,
   "id": "c78d919c",
   "metadata": {},
   "outputs": [
    {
     "name": "stdout",
     "output_type": "stream",
     "text": [
      "running Deep RVFL...\n",
      "Unlab:  0.8996815286624206 ± 0.0469587760142775\n",
      "Val:  0.9066666666666666 ± 0.039440531887330765\n",
      "Test:  0.9111519607843138 ± 0.019328198891651358\n",
      "Lambda:  1000\n",
      "Train time:  0.1817159652709961\n",
      "running Deep RVFL...\n",
      "Unlab:  0.9049893842887474 ± 0.038345353866575387\n",
      "Val:  0.9200000000000003 ± 0.032659863237109024\n",
      "Test:  0.9136029411764706 ± 0.015919584628390434\n",
      "Lambda:  1000\n",
      "Train time:  0.3417973220348358\n",
      "running Deep RVFL...\n",
      "Unlab:  0.8994161358811041 ± 0.02341931527724023\n",
      "Val:  0.9016666666666667 ± 0.02511086528886561\n",
      "Test:  0.9013480392156863 ± 0.022152239561918165\n",
      "Lambda:  100\n",
      "Train time:  0.6004814207553864\n",
      "running Deep RVFL...\n",
      "Unlab:  0.9041932059447984 ± 0.027686204375162046\n",
      "Val:  0.915 ± 0.03662876829305984\n",
      "Test:  0.9148284313725491 ± 0.01357752439102962\n",
      "Lambda:  1000\n",
      "Train time:  0.9420615434646606\n",
      "running Deep RVFL...\n",
      "Unlab:  0.8964968152866243 ± 0.021813930560546195\n",
      "Val:  0.9066666666666667 ± 0.034960294939005036\n",
      "Test:  0.8970588235294117 ± 0.017503501050350107\n",
      "Lambda:  100\n",
      "Train time:  1.192019522190094\n",
      "running Deep RVFL...\n",
      "Unlab:  0.8951698513800426 ± 0.027410076865530302\n",
      "Val:  0.9000000000000002 ± 0.03651483716701107\n",
      "Test:  0.8958333333333334 ± 0.03029217425075556\n",
      "Lambda:  1e-05\n",
      "Train time:  1.4907959898312886\n",
      "running Deep RVFL...\n",
      "Unlab:  0.8967622080679405 ± 0.03358975271174757\n",
      "Val:  0.9016666666666667 ± 0.04651761912317621\n",
      "Test:  0.8952205882352939 ± 0.016200127532355744\n",
      "Lambda:  1e-06\n",
      "Train time:  1.8419410487016041\n",
      "running Deep RVFL...\n",
      "Unlab:  0.8837579617834396 ± 0.0425589411579641\n",
      "Val:  0.9016666666666667 ± 0.04997221450188315\n",
      "Test:  0.881127450980392 ± 0.028922607159818495\n",
      "Lambda:  1\n",
      "Train time:  3.0778523882230124\n",
      "running Deep RVFL...\n",
      "Unlab:  0.8853503184713377 ± 0.03447246896205842\n",
      "Val:  0.895 ± 0.052360926908016706\n",
      "Test:  0.8939950980392156 ± 0.028550239601033693\n",
      "Lambda:  0.001\n",
      "Train time:  2.152152190605799\n",
      "running Deep RVFL...\n",
      "Unlab:  0.8829617834394905 ± 0.03990699171678082\n",
      "Val:  0.8916666666666666 ± 0.055652692856879994\n",
      "Test:  0.8939950980392156 ± 0.021947910157564112\n",
      "Lambda:  0.001\n",
      "Train time:  2.5517828365166983\n"
     ]
    }
   ],
   "source": [
    "for n_layer in range(1,11):\n",
    "    print('running Deep RVFL...')\n",
    "    model_class = DeepRVFL\n",
    "    unlab = []\n",
    "    val = []\n",
    "    test = []\n",
    "    t = []\n",
    "    results = []\n",
    "    targets = []\n",
    "    for i, lam in enumerate(lams):\n",
    "        unlab_acc, val_acc, test_acc, train_time, raw_results, target = run_SS(data, label, n_class, model_class, partition, lam=lam, n_layer=n_layer, activation='sigmoid')\n",
    "        unlab.append(unlab_acc)\n",
    "        val.append(val_acc)\n",
    "        test.append(test_acc)\n",
    "        t.append(train_time)\n",
    "        results.append(raw_results)\n",
    "        targets.append(target)\n",
    "\n",
    "    max_index = np.argmax(val, axis=0)[0]\n",
    "    opt_lam = lams[max_index]\n",
    "    print('Unlab: ', unlab[max_index][0], u\"\\u00B1\", unlab[max_index][1])\n",
    "    print('Val: ', val[max_index][0], u\"\\u00B1\", val[max_index][1])\n",
    "    print('Test: ', test[max_index][0], u\"\\u00B1\", test[max_index][1])\n",
    "    print('Lambda: ', opt_lam)\n",
    "    print('Train time: ', t[max_index])\n",
    "    record_pred.append(results[max_index])\n",
    "    record_target.append(targets[max_index])\n"
   ]
  },
  {
   "cell_type": "code",
   "execution_count": 9,
   "id": "9d98e7fb",
   "metadata": {},
   "outputs": [],
   "source": [
    "mat_sum = np.sum(record_pred, axis=0) / len(record_pred)\n",
    "results = np.argmax(mat_sum, axis=-1)"
   ]
  },
  {
   "cell_type": "code",
   "execution_count": 5,
   "id": "79491575",
   "metadata": {},
   "outputs": [
    {
     "name": "stdout",
     "output_type": "stream",
     "text": [
      "0.5147058823529411\n",
      "0.5\n",
      "0.5\n",
      "0.9264705882352942\n",
      "0.5\n",
      "0.5220588235294118\n",
      "0.47794117647058826\n",
      "0.9044117647058824\n",
      "0.5147058823529411\n",
      "0.5073529411764706\n",
      "0.49264705882352944\n",
      "0.9044117647058824\n"
     ]
    }
   ],
   "source": [
    "for result in results:\n",
    "    assert len(result) == len(record_target[0])\n",
    "    acc = np.sum(np.equal(result, record_target[0]))/len(record_target[0])\n",
    "    print(acc)"
   ]
  },
  {
   "cell_type": "code",
   "execution_count": 13,
   "id": "2619edb0",
   "metadata": {},
   "outputs": [
    {
     "data": {
      "text/plain": [
       "12"
      ]
     },
     "execution_count": 13,
     "metadata": {},
     "output_type": "execute_result"
    }
   ],
   "source": [
    "len(mat_sum)"
   ]
  },
  {
   "cell_type": "code",
   "execution_count": 1,
   "id": "64016ce1",
   "metadata": {},
   "outputs": [
    {
     "ename": "NameError",
     "evalue": "name 'record_pred' is not defined",
     "output_type": "error",
     "traceback": [
      "\u001b[0;31m---------------------------------------------------------------------------\u001b[0m",
      "\u001b[0;31mNameError\u001b[0m                                 Traceback (most recent call last)",
      "\u001b[0;32m<ipython-input-1-f7cf356f0835>\u001b[0m in \u001b[0;36m<module>\u001b[0;34m\u001b[0m\n\u001b[0;32m----> 1\u001b[0;31m \u001b[0;32mfor\u001b[0m \u001b[0mi\u001b[0m\u001b[0;34m,\u001b[0m \u001b[0mmat\u001b[0m \u001b[0;32min\u001b[0m \u001b[0menumerate\u001b[0m\u001b[0;34m(\u001b[0m\u001b[0mrecord_pred\u001b[0m\u001b[0;34m)\u001b[0m\u001b[0;34m:\u001b[0m\u001b[0;34m\u001b[0m\u001b[0;34m\u001b[0m\u001b[0m\n\u001b[0m\u001b[1;32m      2\u001b[0m     \u001b[0;32mif\u001b[0m \u001b[0mi\u001b[0m \u001b[0;34m==\u001b[0m \u001b[0;36m0\u001b[0m\u001b[0;34m:\u001b[0m\u001b[0;34m\u001b[0m\u001b[0;34m\u001b[0m\u001b[0m\n\u001b[1;32m      3\u001b[0m         \u001b[0mmat_sum\u001b[0m \u001b[0;34m=\u001b[0m \u001b[0mmat\u001b[0m\u001b[0;34m\u001b[0m\u001b[0;34m\u001b[0m\u001b[0m\n\u001b[1;32m      4\u001b[0m     \u001b[0;32melse\u001b[0m\u001b[0;34m:\u001b[0m\u001b[0;34m\u001b[0m\u001b[0;34m\u001b[0m\u001b[0m\n\u001b[1;32m      5\u001b[0m         \u001b[0mmat_sum\u001b[0m \u001b[0;34m=\u001b[0m \u001b[0mnp\u001b[0m\u001b[0;34m.\u001b[0m\u001b[0madd\u001b[0m\u001b[0;34m(\u001b[0m\u001b[0mmat_sum\u001b[0m\u001b[0;34m,\u001b[0m \u001b[0mmat\u001b[0m\u001b[0;34m)\u001b[0m\u001b[0;34m\u001b[0m\u001b[0;34m\u001b[0m\u001b[0m\n",
      "\u001b[0;31mNameError\u001b[0m: name 'record_pred' is not defined"
     ]
    }
   ],
   "source": [
    "for i, mat in enumerate(record_pred):\n",
    "    if i == 0:\n",
    "        mat_sum = mat\n",
    "    else:\n",
    "        mat_sum = np.add(mat_sum, mat)\n",
    "mat_sum"
   ]
  },
  {
   "cell_type": "code",
   "execution_count": null,
   "id": "b06089ce",
   "metadata": {},
   "outputs": [],
   "source": []
  }
 ],
 "metadata": {
  "interpreter": {
   "hash": "d29531488e2b7bac10af08b59c5a0d1dca9077738f8661c2e75b8529990c25ab"
  },
  "kernelspec": {
   "display_name": "Python 3.8.8 64-bit ('base': conda)",
   "name": "python3"
  },
  "language_info": {
   "codemirror_mode": {
    "name": "ipython",
    "version": 3
   },
   "file_extension": ".py",
   "mimetype": "text/x-python",
   "name": "python",
   "nbconvert_exporter": "python",
   "pygments_lexer": "ipython3",
   "version": "3.8.8"
  }
 },
 "nbformat": 4,
 "nbformat_minor": 5
}
