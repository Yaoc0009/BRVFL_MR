{
 "cells": [
  {
   "cell_type": "code",
   "execution_count": 1,
   "metadata": {},
   "outputs": [],
   "source": [
    "from datasets import *\n",
    "from run_helpers import *\n",
    "import numpy as np\n",
    "\n",
    "np.random.seed(42)"
   ]
  },
  {
   "cell_type": "code",
   "execution_count": 2,
   "metadata": {},
   "outputs": [],
   "source": [
    "# coil20\n",
    "data, label, n_class = coil20b()"
   ]
  },
  {
   "cell_type": "code",
   "execution_count": 3,
   "metadata": {},
   "outputs": [
    {
     "name": "stdout",
     "output_type": "stream",
     "text": [
      "Accuracy:  0.9805555555555554 ± 0.012729376930432912\n",
      "Lambda:  64\n",
      "Train time:  0.2695960760116577\n",
      "Test time:  0.0033901453018188475\n"
     ]
    }
   ],
   "source": [
    "run_RVFL(data, label, n_class)"
   ]
  },
  {
   "cell_type": "code",
   "execution_count": 4,
   "metadata": {},
   "outputs": [
    {
     "name": "stdout",
     "output_type": "stream",
     "text": [
      "Accuracy:  0.9819444444444445 ± 0.00833333333333335\n",
      "Lambda:  64\n",
      "Train time:  0.5084115982055664\n",
      "Test time:  0.007001948356628418\n"
     ]
    }
   ],
   "source": [
    "run_dRVFL(data, label, n_class)\n"
   ]
  },
  {
   "cell_type": "code",
   "execution_count": 5,
   "metadata": {},
   "outputs": [
    {
     "name": "stdout",
     "output_type": "stream",
     "text": [
      "Accuracy:  0.9798611111111111 ± 0.013339842161318435\n",
      "Lambda:  64\n",
      "Train time:  1.1448354482650758\n",
      "Test time:  0.012885403633117676\n"
     ]
    }
   ],
   "source": [
    "run_edRVFL(data, label, n_class)\n",
    "\n"
   ]
  },
  {
   "cell_type": "code",
   "execution_count": 6,
   "metadata": {},
   "outputs": [
    {
     "name": "stdout",
     "output_type": "stream",
     "text": [
      "running Bayesian RVFL...\n",
      "Validation: 10 Convergence after  26  iterationsAccuracy:  0.951388888888889 ± 0.015214515486254626\n",
      "Train time:  14.016551971435547\n",
      "Test time:  0.002213740348815918\n",
      "Hyperparameters: \n",
      "Precision:  160.50258421443922\n",
      "Variance:  0.0019635672854508564\n"
     ]
    }
   ],
   "source": [
    "run_BRVFL(data, label, n_class)\n"
   ]
  },
  {
   "cell_type": "code",
   "execution_count": 3,
   "metadata": {},
   "outputs": [
    {
     "name": "stdout",
     "output_type": "stream",
     "text": [
      "running Bayesian Deep RVFL...\n",
      "Validation: 1"
     ]
    },
    {
     "name": "stderr",
     "output_type": "stream",
     "text": [
      "\n"
     ]
    },
    {
     "name": "stdout",
     "output_type": "stream",
     "text": [
      "Validation: 2"
     ]
    },
    {
     "name": "stderr",
     "output_type": "stream",
     "text": [
      "\n"
     ]
    },
    {
     "name": "stdout",
     "output_type": "stream",
     "text": [
      "Validation: 3"
     ]
    },
    {
     "name": "stderr",
     "output_type": "stream",
     "text": [
      "\n"
     ]
    },
    {
     "name": "stdout",
     "output_type": "stream",
     "text": [
      "Validation: 4"
     ]
    },
    {
     "name": "stderr",
     "output_type": "stream",
     "text": [
      "\n"
     ]
    },
    {
     "name": "stdout",
     "output_type": "stream",
     "text": [
      "Validation: 7"
     ]
    },
    {
     "name": "stderr",
     "output_type": "stream",
     "text": [
      "\n"
     ]
    },
    {
     "name": "stdout",
     "output_type": "stream",
     "text": [
      "Validation: 10 Convergence after  14  iterationsAccuracy:  0.9416666666666667 ± 0.0201747764532416\n",
      "Train time:  325.10932953357695\n",
      "Test time:  0.026749300956726074\n",
      "Hyperparameters: \n",
      "Precision:  3421.0694101092135\n",
      "Variance:  0.9365960026631531\n"
     ]
    }
   ],
   "source": [
    "run_BdRVFL(data, label, n_class)\n"
   ]
  },
  {
   "cell_type": "code",
   "execution_count": 8,
   "metadata": {},
   "outputs": [
    {
     "name": "stdout",
     "output_type": "stream",
     "text": [
      "running Bayesian Ensemble Deep RVFL...\n",
      "Validation: 10 Convergence after  25  iterations Convergence after  19  iterations Convergence after  19  iterations Convergence after  19  iterations Convergence after  19  iterationsAccuracy:  0.9847222222222222 ± 0.011947673982003651\n",
      "Train time:  23.48786065578461\n",
      "Test time:  0.01369318962097168\n",
      "Hyperparameters: \n",
      "Precision:  [141.09027063663143, 1099.0668969314697, 1179.4922128881883, 1130.0431395244584, 1124.756854507508]\n",
      "Variance:  [0.0014825871667727623, 0.08145232244037272, 0.09781455058682109, 0.08522481579371953, 0.08466749592356435]\n"
     ]
    }
   ],
   "source": [
    "run_BedRVFL(data, label, n_class)\n"
   ]
  },
  {
   "cell_type": "code",
   "execution_count": 9,
   "metadata": {},
   "outputs": [
    {
     "name": "stdout",
     "output_type": "stream",
     "text": [
      "Accuracy:  0.9777777777777776 ± 0.00519674637051938\n",
      "Lambda:  [16, 0.015625]\n",
      "Train time:  0.7816437005996704\n",
      "Test time:  0.0028890132904052734\n"
     ]
    }
   ],
   "source": [
    "run_LapRVFL(data, label, n_class)\n"
   ]
  },
  {
   "cell_type": "code",
   "execution_count": 10,
   "metadata": {},
   "outputs": [
    {
     "name": "stdout",
     "output_type": "stream",
     "text": [
      "Accuracy:  0.98125 ± 0.011641010148777931\n",
      "Lambda:  [64, 0.015625]\n",
      "Train time:  0.6434618949890136\n",
      "Test time:  0.0028415679931640624\n"
     ]
    }
   ],
   "source": [
    "run_LapdRVFL(data, label, n_class)\n"
   ]
  },
  {
   "cell_type": "code",
   "execution_count": 11,
   "metadata": {},
   "outputs": [
    {
     "name": "stdout",
     "output_type": "stream",
     "text": [
      "Accuracy:  0.9756944444444444 ± 0.012127950830953476\n",
      "Lambda:  [16, 0.015625]\n",
      "Train time:  0.7463661909103394\n",
      "Test time:  0.004575204849243164\n"
     ]
    }
   ],
   "source": [
    "run_LapedRVFL(data, label, n_class)"
   ]
  },
  {
   "cell_type": "code",
   "execution_count": null,
   "metadata": {},
   "outputs": [],
   "source": []
  }
 ],
 "metadata": {
  "interpreter": {
   "hash": "d29531488e2b7bac10af08b59c5a0d1dca9077738f8661c2e75b8529990c25ab"
  },
  "kernelspec": {
   "display_name": "Python 3.8.8 64-bit ('base': conda)",
   "name": "python3"
  },
  "language_info": {
   "codemirror_mode": {
    "name": "ipython",
    "version": 3
   },
   "file_extension": ".py",
   "mimetype": "text/x-python",
   "name": "python",
   "nbconvert_exporter": "python",
   "pygments_lexer": "ipython3",
   "version": "3.8.8"
  }
 },
 "nbformat": 4,
 "nbformat_minor": 5
}
