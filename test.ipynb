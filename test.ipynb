{
 "cells": [
  {
   "cell_type": "code",
   "execution_count": 1,
   "metadata": {},
   "outputs": [],
   "source": [
    "lams = [[2**i, 2**j] for i in range(-6, 13, 2) for j in range(-6, 13, 2)] # permutation of all possible lams"
   ]
  },
  {
   "cell_type": "code",
   "execution_count": 2,
   "id": "659df8d5",
   "metadata": {},
   "outputs": [
    {
     "name": "stdout",
     "output_type": "stream",
     "text": [
      "running Deep RVFL...\n",
      "Accuracy:  0.9652777777777777 ± 0.013537214367790236\n",
      "Lambda:  [4, 0.015625]\n",
      "Train time:  2.2708399057388307\n",
      "Test time:  0.02608323097229004\n"
     ]
    }
   ],
   "source": [
    "from models_MR import *\n",
    "from run_helpers import cross_val_acc\n",
    "from datasets import *\n",
    "import numpy as np\n",
    "\n",
    "data, label, n_class = coil20()\n",
    "print('running Deep RVFL...')\n",
    "acc = []\n",
    "t = []\n",
    "for lam in lams:\n",
    "    _, model_accuracy, duration = cross_val_acc(data, label, n_class, DeepRVFL, lam, n_layer=5)\n",
    "    acc.append(model_accuracy)\n",
    "    t.append(duration)\n",
    "\n",
    "max_index = np.argmax(acc, axis=0)[0]\n",
    "opt_lam = lams[max_index]\n",
    "print('Accuracy: ', acc[max_index][0], u\"\\u00B1\", acc[max_index][1])\n",
    "print('Lambda: ', opt_lam)\n",
    "print('Train time: ', t[max_index][0])\n",
    "print('Test time: ', t[max_index][1])"
   ]
  },
  {
   "cell_type": "code",
   "execution_count": null,
   "metadata": {},
   "outputs": [],
   "source": []
  }
 ],
 "metadata": {
  "interpreter": {
   "hash": "d29531488e2b7bac10af08b59c5a0d1dca9077738f8661c2e75b8529990c25ab"
  },
  "kernelspec": {
   "display_name": "Python 3.8.8 64-bit ('base': conda)",
   "name": "python3"
  },
  "language_info": {
   "codemirror_mode": {
    "name": "ipython",
    "version": 3
   },
   "file_extension": ".py",
   "mimetype": "text/x-python",
   "name": "python",
   "nbconvert_exporter": "python",
   "pygments_lexer": "ipython3",
   "version": "3.8.8"
  }
 },
 "nbformat": 4,
 "nbformat_minor": 5
}
