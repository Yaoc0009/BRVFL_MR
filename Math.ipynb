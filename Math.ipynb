{
 "cells": [
  {
   "cell_type": "code",
   "execution_count": null,
   "id": "71b054d8",
   "metadata": {},
   "outputs": [],
   "source": [
    "dataset = loadmat('coil20.mat')\n",
    "label = np.array([dataset['Y'][i][0] - 1 for i in range(len(dataset['Y']))])\n",
    "data = dataset['X']\n",
    "n_class = 20"
   ]
  },
  {
   "cell_type": "code",
   "execution_count": null,
   "id": "ecadacac",
   "metadata": {},
   "outputs": [],
   "source": [
    "n_sample = len(data)\n",
    "n_feature = len(data[0])\n",
    "self.weight = (self.w_range[1] - self.w_range[0]) * np.random.random([n_feature, self.n_node]) + self.w_range[0]\n",
    "self.bias = (self.b_range[1] - self.b_range[0]) * np.random.random([1, self.n_node]) + self.b_range[0]"
   ]
  },
  {
   "cell_type": "markdown",
   "id": "8eba36f0",
   "metadata": {},
   "source": [
    "# Initialization"
   ]
  },
  {
   "cell_type": "markdown",
   "id": "846f3a1c",
   "metadata": {},
   "source": [
    "## Compute D, Store D^Ty, D^TD, eigenvalues"
   ]
  },
  {
   "cell_type": "code",
   "execution_count": null,
   "id": "5723ff08",
   "metadata": {},
   "outputs": [],
   "source": [
    "import numpy as np\n",
    "\n",
    "h = self.activation_function(np.dot(data, self.weight) + np.dot(np.ones([n_sample, 1]), self.bias))\n",
    "h = self.activation_function(np.dot(data, self.weight) + np.dot(np.ones([n_sample, 1]), self.bias))\n",
    "d = np.concatenate([h, data], axis=1)\n",
    "d = np.concatenate([d, np.ones_like(d[:, 0:1])], axis=1) # concat column of 1s\n",
    "y = self.one_hot_encoding(label, n_class)\n",
    "dT_y = np.dot(d.T, y)\n",
    "dT_d = np.dot(d.T, d)\n",
    "eigen_vals = np.linalg.eigvals(dT_d)"
   ]
  },
  {
   "cell_type": "markdown",
   "id": "e6ce7999",
   "metadata": {},
   "source": [
    "## Initialize $\\sigma^2,\\gamma$ to default values: <br>\n",
    "$$\\sigma^2_*,\\gamma_*=\\arg\\max\\left\\{\\int_{\\mathbb{R^B}}p(\\mathbf{y}\\mid\\mathbf{X},\\mathbf{\\beta},\\sigma^2)p(\\mathbf{\\beta}\\mid\\gamma)p(\\gamma)p(\\sigma^2)\\,d\\beta\\right\\}$$ <br>\n",
    "$\\text{where}$\n",
    "$$p(\\gamma) = \\text{Gamma}(\\gamma\\mid\\alpha_1,\\alpha_2)$$\n",
    "$$p(\\sigma^2)=\\text{Gamma}(\\sigma^{-2}\\mid\\alpha_3,\\alpha_4)$$\n",
    "$$p(y\\mid\\mathbf{x,\\beta},\\sigma^2)=\\mathcal{N}(y\\mid\\mathbf{\\beta}^T\\mathbf{h(x)},\\sigma^2)$$\n",
    "$$p(\\mathbf{\\beta}\\mid\\gamma)=\\mathcal{N}(\\mathbf{\\beta}\\mid\\mathbf{0},\\gamma^{-1}\\mathbf{I})$$"
   ]
  },
  {
   "cell_type": "code",
   "execution_count": null,
   "id": "7a30fec4",
   "metadata": {},
   "outputs": [],
   "source": [
    "import pymc3 as pm\n",
    "\n",
    "with pm.Model():\n",
    "    gamma_0 = pm.Gamma('gamma_0', alpha=10**(-5), beta=10**(-5)) # gamma\n",
    "    gamma_1 = pm.Gamma('gamma_1', alpha=10**(-5), beta=10**(-5)) # inverse of sigma^2\n",
    "    beta = pm.Normal('beta', mu=0, tau=gamma_0, shape=(m,1))\n",
    "    y_obs = pm.Normal('y_obs', mu=)"
   ]
  },
  {
   "cell_type": "code",
   "execution_count": null,
   "id": "a35e370c",
   "metadata": {},
   "outputs": [],
   "source": []
  },
  {
   "cell_type": "code",
   "execution_count": null,
   "id": "bfa7bd57",
   "metadata": {},
   "outputs": [],
   "source": []
  }
 ],
 "metadata": {
  "kernelspec": {
   "display_name": "Python 3 (ipykernel)",
   "language": "python",
   "name": "python3"
  },
  "language_info": {
   "codemirror_mode": {
    "name": "ipython",
    "version": 3
   },
   "file_extension": ".py",
   "mimetype": "text/x-python",
   "name": "python",
   "nbconvert_exporter": "python",
   "pygments_lexer": "ipython3",
   "version": "3.8.11"
  }
 },
 "nbformat": 4,
 "nbformat_minor": 5
}
