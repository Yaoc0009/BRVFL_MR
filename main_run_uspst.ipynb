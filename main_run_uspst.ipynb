{
 "cells": [
  {
   "cell_type": "code",
   "execution_count": 1,
   "metadata": {},
   "outputs": [],
   "source": [
    "from datasets import *\n",
    "from run_helpers import *\n",
    "import numpy as np\n",
    "\n",
    "np.random.seed(42)"
   ]
  },
  {
   "cell_type": "code",
   "execution_count": 27,
   "metadata": {},
   "outputs": [],
   "source": [
    "# coil20\n",
    "data, label, n_class = uspst()"
   ]
  },
  {
   "cell_type": "code",
   "execution_count": 3,
   "metadata": {},
   "outputs": [
    {
     "name": "stdout",
     "output_type": "stream",
     "text": [
      "Accuracy:  0.9123184079601991 ± 0.021091572589453378\n",
      "Lambda:  64\n",
      "Train time:  0.03731534481048584\n",
      "Test time:  0.003609442710876465\n"
     ]
    }
   ],
   "source": [
    "run_RVFL(data, label, n_class)"
   ]
  },
  {
   "cell_type": "code",
   "execution_count": 4,
   "metadata": {},
   "outputs": [
    {
     "name": "stdout",
     "output_type": "stream",
     "text": [
      "Accuracy:  0.9152885572139304 ± 0.02045121443767926\n",
      "Lambda:  64\n",
      "Train time:  0.12474613189697266\n",
      "Test time:  0.004594182968139649\n"
     ]
    }
   ],
   "source": [
    "run_dRVFL(data, label, n_class)\n"
   ]
  },
  {
   "cell_type": "code",
   "execution_count": 5,
   "metadata": {},
   "outputs": [
    {
     "name": "stdout",
     "output_type": "stream",
     "text": [
      "Accuracy:  0.9093258706467664 ± 0.020708940881174732\n",
      "Lambda:  4\n",
      "Train time:  0.14725954532623292\n",
      "Test time:  0.006722068786621094\n"
     ]
    }
   ],
   "source": [
    "run_edRVFL(data, label, n_class)\n",
    "\n"
   ]
  },
  {
   "cell_type": "code",
   "execution_count": 6,
   "metadata": {},
   "outputs": [
    {
     "name": "stdout",
     "output_type": "stream",
     "text": [
      "running Bayesian RVFL...\n",
      "Validation: 10 Convergence after  28  iterationsAccuracy:  0.9053184079601989 ± 0.011024424349116832\n",
      "Train time:  3.4096398830413817\n",
      "Test time:  0.0016144037246704102\n",
      "Hyperparameters: \n",
      "Precision:  207.4011994084929\n",
      "Variance:  0.3069586985286671\n"
     ]
    }
   ],
   "source": [
    "run_BRVFL(data, label, n_class)\n"
   ]
  },
  {
   "cell_type": "code",
   "execution_count": 7,
   "metadata": {},
   "outputs": [
    {
     "name": "stdout",
     "output_type": "stream",
     "text": [
      "running Bayesian Deep RVFL...\n",
      "Validation: 10 Convergence after  17  iterationsAccuracy:  0.8958482587064676 ± 0.020558627584043712\n",
      "Train time:  4.638849186897278\n",
      "Test time:  0.004664826393127442\n",
      "Hyperparameters: \n",
      "Precision:  1036.021356346237\n",
      "Variance:  0.9464690967584559\n"
     ]
    }
   ],
   "source": [
    "run_BdRVFL(data, label, n_class)\n"
   ]
  },
  {
   "cell_type": "code",
   "execution_count": 8,
   "metadata": {},
   "outputs": [
    {
     "name": "stdout",
     "output_type": "stream",
     "text": [
      "running Bayesian Ensemble Deep RVFL...\n",
      "Validation: 10 Convergence after  28  iterations Convergence after  23  iterations Convergence after  23  iterations Convergence after  23  iterations Convergence after  24  iterationsAccuracy:  0.904820895522388 ± 0.01665149231248559\n",
      "Train time:  4.357744121551514\n",
      "Test time:  0.013319087028503419\n",
      "Hyperparameters: \n",
      "Precision:  [247.42488401816033, 338.49443702554504, 340.0831985955722, 354.5214390867124, 341.2717731673404]\n",
      "Variance:  [0.31853712383919636, 0.3444617961684368, 0.3443124367063695, 0.3454712776536516, 0.34364460976905203]\n"
     ]
    }
   ],
   "source": [
    "run_BedRVFL(data, label, n_class)\n"
   ]
  },
  {
   "cell_type": "code",
   "execution_count": 9,
   "metadata": {},
   "outputs": [
    {
     "name": "stdout",
     "output_type": "stream",
     "text": [
      "Accuracy:  0.9088258706467661 ± 0.028754361350942493\n",
      "Lambda:  [16, 0.015625]\n",
      "Train time:  0.629300594329834\n",
      "Test time:  0.0019362211227416993\n"
     ]
    }
   ],
   "source": [
    "run_LapRVFL(data, label, n_class)\n"
   ]
  },
  {
   "cell_type": "code",
   "execution_count": 10,
   "metadata": {},
   "outputs": [
    {
     "name": "stdout",
     "output_type": "stream",
     "text": [
      "Accuracy:  0.9093208955223882 ± 0.015240589512024883\n",
      "Lambda:  [4, 0.015625]\n",
      "Train time:  0.6090223073959351\n",
      "Test time:  0.0018691062927246095\n"
     ]
    }
   ],
   "source": [
    "run_LapdRVFL(data, label, n_class)\n"
   ]
  },
  {
   "cell_type": "code",
   "execution_count": 11,
   "metadata": {},
   "outputs": [
    {
     "name": "stdout",
     "output_type": "stream",
     "text": [
      "Accuracy:  0.9058333333333334 ± 0.014150128593213398\n",
      "Lambda:  [4, 0.015625]\n",
      "Train time:  0.5916413784027099\n",
      "Test time:  0.002297830581665039\n"
     ]
    }
   ],
   "source": [
    "run_LapedRVFL(data, label, n_class)"
   ]
  },
  {
   "cell_type": "code",
   "execution_count": null,
   "metadata": {},
   "outputs": [],
   "source": []
  }
 ],
 "metadata": {
  "interpreter": {
   "hash": "d29531488e2b7bac10af08b59c5a0d1dca9077738f8661c2e75b8529990c25ab"
  },
  "kernelspec": {
   "display_name": "Python 3.8.8 64-bit ('base': conda)",
   "name": "python3"
  },
  "language_info": {
   "codemirror_mode": {
    "name": "ipython",
    "version": 3
   },
   "file_extension": ".py",
   "mimetype": "text/x-python",
   "name": "python",
   "nbconvert_exporter": "python",
   "pygments_lexer": "ipython3",
   "version": "3.8.8"
  }
 },
 "nbformat": 4,
 "nbformat_minor": 5
}
