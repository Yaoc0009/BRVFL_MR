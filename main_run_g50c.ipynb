{
 "cells": [
  {
   "cell_type": "code",
   "execution_count": 1,
   "id": "47f1c244",
   "metadata": {},
   "outputs": [],
   "source": [
    "from datasets import *\n",
    "from run_SS_helpers_edRVFL import *\n",
    "import numpy as np\n",
    "\n",
    "np.random.seed(42)\n",
    "\n",
    "# g50c\n",
    "data, label, n_class = g50c()\n",
    "partition = [50, 314, 50, 136]\n",
    "NN = 50"
   ]
  },
  {
   "cell_type": "code",
   "execution_count": 2,
   "id": "d59f5526",
   "metadata": {},
   "outputs": [
    {
     "name": "stdout",
     "output_type": "stream",
     "text": [
      "running Deep RVFL...\n",
      "Unlab:  0.8996815286624206 ± 0.0469587760142775\n",
      "Val:  0.9066666666666666 ± 0.039440531887330765\n",
      "Test:  0.9111519607843138 ± 0.019328198891651358\n",
      "Lambda:  1000\n",
      "Train time:  0.1315174698829651\n",
      "running Deep RVFL...\n",
      "Unlab:  0.9049893842887474 ± 0.038345353866575387\n",
      "Val:  0.9200000000000003 ± 0.032659863237109024\n",
      "Test:  0.9136029411764706 ± 0.015919584628390434\n",
      "Lambda:  1000\n",
      "Train time:  0.5903915961583456\n"
     ]
    }
   ],
   "source": [
    "record_pred = []\n",
    "record_target = []\n",
    "\n",
    "for n_layer in range(1,3):\n",
    "    print('running Deep RVFL...')\n",
    "    model_class = DeepRVFL\n",
    "    unlab = []\n",
    "    val = []\n",
    "    test = []\n",
    "    t = []\n",
    "    results = []\n",
    "    targets = []\n",
    "    for i, lam in enumerate(lams):\n",
    "        unlab_acc, val_acc, test_acc, train_time, raw_results, target = run_SS(data, label, n_class, model_class, partition, lam=lam, n_layer=n_layer, activation='sigmoid')\n",
    "        unlab.append(unlab_acc)\n",
    "        val.append(val_acc)\n",
    "        test.append(test_acc)\n",
    "        t.append(train_time)\n",
    "        results.append(raw_results)\n",
    "        targets.append(target)\n",
    "\n",
    "    max_index = np.argmax(val, axis=0)[0]\n",
    "    opt_lam = lams[max_index]\n",
    "    print('Unlab: ', unlab[max_index][0], u\"\\u00B1\", unlab[max_index][1])\n",
    "    print('Val: ', val[max_index][0], u\"\\u00B1\", val[max_index][1])\n",
    "    print('Test: ', test[max_index][0], u\"\\u00B1\", test[max_index][1])\n",
    "    print('Lambda: ', opt_lam)\n",
    "    print('Train time: ', t[max_index])\n",
    "    record_pred.append(results[max_index])\n",
    "    record_target.append(targets[max_index])"
   ]
  },
  {
   "cell_type": "code",
   "execution_count": 30,
   "id": "8d916ec8",
   "metadata": {},
   "outputs": [],
   "source": [
    "mat_sum = np.sum(record_pred, axis=0) / len(record_pred)\n",
    "results = np.argmax(mat_sum, axis=2)"
   ]
  },
  {
   "cell_type": "code",
   "execution_count": 32,
   "id": "59ca465b",
   "metadata": {},
   "outputs": [
    {
     "name": "stdout",
     "output_type": "stream",
     "text": [
      "0.5220588235294118\n",
      "0.5073529411764706\n",
      "0.49264705882352944\n",
      "0.9338235294117647\n",
      "0.5147058823529411\n",
      "0.5147058823529411\n",
      "0.49264705882352944\n",
      "0.9191176470588235\n",
      "0.5147058823529411\n",
      "0.5\n",
      "0.4852941176470588\n",
      "0.9191176470588235\n"
     ]
    }
   ],
   "source": [
    "for result in results:\n",
    "    assert len(result) == len(record_target[0])\n",
    "    acc = np.sum(np.equal(result, record_target[0]))/len(record_target[0])\n",
    "    print(acc)"
   ]
  },
  {
   "cell_type": "code",
   "execution_count": 1,
   "id": "51647f52",
   "metadata": {},
   "outputs": [],
   "source": [
    "from datasets import *\n",
    "from run_helpers import *\n",
    "import numpy as np\n",
    "\n",
    "np.random.seed(42)"
   ]
  },
  {
   "cell_type": "code",
   "execution_count": 2,
   "id": "1421a5ee",
   "metadata": {},
   "outputs": [],
   "source": [
    "# coil20\n",
    "data, label, n_class = g50c()"
   ]
  },
  {
   "cell_type": "code",
   "execution_count": 3,
   "id": "b99b0adc",
   "metadata": {},
   "outputs": [
    {
     "name": "stdout",
     "output_type": "stream",
     "text": [
      "Accuracy:  0.9581818181818182 ± 0.025777176143196055\n",
      "Lambda:  1024\n",
      "Train time:  0.01562039852142334\n",
      "Test time:  0.0007863759994506836\n"
     ]
    }
   ],
   "source": [
    "run_RVFL(data, label, n_class)"
   ]
  },
  {
   "cell_type": "code",
   "execution_count": 4,
   "id": "be946d1e",
   "metadata": {},
   "outputs": [
    {
     "name": "stdout",
     "output_type": "stream",
     "text": [
      "Accuracy:  0.947272727272727 ± 0.032978831176758296\n",
      "Lambda:  256\n",
      "Train time:  0.11722335815429688\n",
      "Test time:  0.005764293670654297\n"
     ]
    }
   ],
   "source": [
    "run_dRVFL(data, label, n_class)\n"
   ]
  },
  {
   "cell_type": "code",
   "execution_count": 5,
   "id": "ae71d9cd",
   "metadata": {},
   "outputs": [
    {
     "name": "stdout",
     "output_type": "stream",
     "text": [
      "Accuracy:  0.9581818181818182 ± 0.018272501129310715\n",
      "Lambda:  16\n",
      "Train time:  0.0950467586517334\n",
      "Test time:  0.00853557586669922\n"
     ]
    }
   ],
   "source": [
    "run_edRVFL(data, label, n_class)\n",
    "\n"
   ]
  },
  {
   "cell_type": "code",
   "execution_count": 6,
   "id": "f779016f",
   "metadata": {},
   "outputs": [
    {
     "name": "stdout",
     "output_type": "stream",
     "text": [
      "running Bayesian RVFL...\n",
      "Validation: 10 Convergence after  11  iterationsAccuracy:  0.9545454545454547 ± 0.02727272727272728\n",
      "Train time:  9.349285864830017\n",
      "Test time:  0.0010440587997436524\n",
      "Hyperparameters: \n",
      "Precision:  424.56421675918483\n",
      "Variance:  0.09826562394872435\n"
     ]
    }
   ],
   "source": [
    "run_BRVFL(data, label, n_class)\n"
   ]
  },
  {
   "cell_type": "code",
   "execution_count": 7,
   "id": "ddf8ce3c",
   "metadata": {},
   "outputs": [
    {
     "name": "stdout",
     "output_type": "stream",
     "text": [
      "running Bayesian Deep RVFL...\n",
      "Validation: 10 Convergence after  8  iterationsAccuracy:  0.9345454545454546 ± 0.03743865505813456\n",
      "Train time:  8.925349950790405\n",
      "Test time:  0.004632115364074707\n",
      "Hyperparameters: \n",
      "Precision:  975.7410010655847\n",
      "Variance:  0.9226049749731707\n"
     ]
    }
   ],
   "source": [
    "run_BdRVFL(data, label, n_class)\n"
   ]
  },
  {
   "cell_type": "code",
   "execution_count": 8,
   "id": "38b9c63b",
   "metadata": {},
   "outputs": [
    {
     "name": "stdout",
     "output_type": "stream",
     "text": [
      "running Bayesian Ensemble Deep RVFL...\n",
      "Validation: 10 Convergence after  11  iterations Convergence after  10  iterations Convergence after  11  iterations Convergence after  8  iterations Convergence after  11  iterationsAccuracy:  0.9545454545454545 ± 0.03377122840183039\n",
      "Train time:  10.658461427688598\n",
      "Test time:  0.013589286804199218\n",
      "Hyperparameters: \n",
      "Precision:  [445.89763946508504, 480.93785087697245, 476.4893492115073, 508.1752503435666, 466.6012958127193]\n",
      "Variance:  [0.10202528472914799, 0.13761088892884277, 0.13877345575012617, 0.13833528593416466, 0.13183107531386093]\n"
     ]
    }
   ],
   "source": [
    "run_BedRVFL(data, label, n_class)\n"
   ]
  },
  {
   "cell_type": "code",
   "execution_count": 9,
   "id": "9e9caee2",
   "metadata": {},
   "outputs": [
    {
     "name": "stdout",
     "output_type": "stream",
     "text": [
      "Accuracy:  0.9454545454545453 ± 0.032524625127269675\n",
      "Lambda:  [64, 0.0625]\n",
      "Train time:  0.07965505123138428\n",
      "Test time:  0.0006441593170166016\n"
     ]
    }
   ],
   "source": [
    "run_LapRVFL(data, label, n_class)\n"
   ]
  },
  {
   "cell_type": "code",
   "execution_count": 10,
   "id": "4d3b878c",
   "metadata": {},
   "outputs": [
    {
     "name": "stdout",
     "output_type": "stream",
     "text": [
      "Accuracy:  0.9527272727272725 ± 0.021818181818181827\n",
      "Lambda:  [16, 0.0625]\n",
      "Train time:  0.08101451396942139\n",
      "Test time:  0.0008551836013793946\n"
     ]
    }
   ],
   "source": [
    "run_LapdRVFL(data, label, n_class)\n"
   ]
  },
  {
   "cell_type": "code",
   "execution_count": 11,
   "id": "bd9c139b",
   "metadata": {},
   "outputs": [
    {
     "name": "stdout",
     "output_type": "stream",
     "text": [
      "Accuracy:  0.9527272727272728 ± 0.023284088136119457\n",
      "Lambda:  [256, 0.015625]\n",
      "Train time:  0.16426165103912355\n",
      "Test time:  0.0011646509170532226\n"
     ]
    }
   ],
   "source": [
    "run_LapedRVFL(data, label, n_class)"
   ]
  },
  {
   "cell_type": "code",
   "execution_count": null,
   "id": "f9ea82e0",
   "metadata": {},
   "outputs": [],
   "source": []
  }
 ],
 "metadata": {
  "interpreter": {
   "hash": "d29531488e2b7bac10af08b59c5a0d1dca9077738f8661c2e75b8529990c25ab"
  },
  "kernelspec": {
   "display_name": "Python 3",
   "language": "python",
   "name": "python3"
  },
  "language_info": {
   "codemirror_mode": {
    "name": "ipython",
    "version": 3
   },
   "file_extension": ".py",
   "mimetype": "text/x-python",
   "name": "python",
   "nbconvert_exporter": "python",
   "pygments_lexer": "ipython3",
   "version": "3.8.8"
  }
 },
 "nbformat": 4,
 "nbformat_minor": 5
}
