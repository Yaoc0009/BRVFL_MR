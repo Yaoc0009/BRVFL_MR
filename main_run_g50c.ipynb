{
 "cells": [
  {
   "cell_type": "code",
   "execution_count": null,
   "metadata": {},
   "outputs": [],
   "source": [
    "from datasets import *\n",
    "from run_SS_helpers import *\n",
    "import numpy as np\n",
    "\n",
    "np.random.seed(42)\n",
    "\n",
    "# g50c\n",
    "data, label, n_class = g50c()\n",
    "partition = [50, 314, 50, 136]\n",
    "NN = 50\n",
    "\n",
    "run_fast(data, label, n_class, partition, NN)"
   ]
  },
  {
   "cell_type": "code",
   "execution_count": 1,
   "metadata": {},
   "outputs": [],
   "source": [
    "from datasets import *\n",
    "from run_helpers import *\n",
    "import numpy as np\n",
    "\n",
    "np.random.seed(42)"
   ]
  },
  {
   "cell_type": "code",
   "execution_count": 2,
   "metadata": {},
   "outputs": [],
   "source": [
    "# coil20\n",
    "data, label, n_class = g50c()"
   ]
  },
  {
   "cell_type": "code",
   "execution_count": 3,
   "metadata": {},
   "outputs": [
    {
     "name": "stdout",
     "output_type": "stream",
     "text": [
      "Accuracy:  0.9581818181818182 ± 0.025777176143196055\n",
      "Lambda:  1024\n",
      "Train time:  0.01562039852142334\n",
      "Test time:  0.0007863759994506836\n"
     ]
    }
   ],
   "source": [
    "run_RVFL(data, label, n_class)"
   ]
  },
  {
   "cell_type": "code",
   "execution_count": 4,
   "metadata": {},
   "outputs": [
    {
     "name": "stdout",
     "output_type": "stream",
     "text": [
      "Accuracy:  0.947272727272727 ± 0.032978831176758296\n",
      "Lambda:  256\n",
      "Train time:  0.11722335815429688\n",
      "Test time:  0.005764293670654297\n"
     ]
    }
   ],
   "source": [
    "run_dRVFL(data, label, n_class)\n"
   ]
  },
  {
   "cell_type": "code",
   "execution_count": 5,
   "metadata": {},
   "outputs": [
    {
     "name": "stdout",
     "output_type": "stream",
     "text": [
      "Accuracy:  0.9581818181818182 ± 0.018272501129310715\n",
      "Lambda:  16\n",
      "Train time:  0.0950467586517334\n",
      "Test time:  0.00853557586669922\n"
     ]
    }
   ],
   "source": [
    "run_edRVFL(data, label, n_class)\n",
    "\n"
   ]
  },
  {
   "cell_type": "code",
   "execution_count": 6,
   "metadata": {},
   "outputs": [
    {
     "name": "stdout",
     "output_type": "stream",
     "text": [
      "running Bayesian RVFL...\n",
      "Validation: 10 Convergence after  11  iterationsAccuracy:  0.9545454545454547 ± 0.02727272727272728\n",
      "Train time:  9.349285864830017\n",
      "Test time:  0.0010440587997436524\n",
      "Hyperparameters: \n",
      "Precision:  424.56421675918483\n",
      "Variance:  0.09826562394872435\n"
     ]
    }
   ],
   "source": [
    "run_BRVFL(data, label, n_class)\n"
   ]
  },
  {
   "cell_type": "code",
   "execution_count": 7,
   "metadata": {},
   "outputs": [
    {
     "name": "stdout",
     "output_type": "stream",
     "text": [
      "running Bayesian Deep RVFL...\n",
      "Validation: 10 Convergence after  8  iterationsAccuracy:  0.9345454545454546 ± 0.03743865505813456\n",
      "Train time:  8.925349950790405\n",
      "Test time:  0.004632115364074707\n",
      "Hyperparameters: \n",
      "Precision:  975.7410010655847\n",
      "Variance:  0.9226049749731707\n"
     ]
    }
   ],
   "source": [
    "run_BdRVFL(data, label, n_class)\n"
   ]
  },
  {
   "cell_type": "code",
   "execution_count": 8,
   "metadata": {},
   "outputs": [
    {
     "name": "stdout",
     "output_type": "stream",
     "text": [
      "running Bayesian Ensemble Deep RVFL...\n",
      "Validation: 10 Convergence after  11  iterations Convergence after  10  iterations Convergence after  11  iterations Convergence after  8  iterations Convergence after  11  iterationsAccuracy:  0.9545454545454545 ± 0.03377122840183039\n",
      "Train time:  10.658461427688598\n",
      "Test time:  0.013589286804199218\n",
      "Hyperparameters: \n",
      "Precision:  [445.89763946508504, 480.93785087697245, 476.4893492115073, 508.1752503435666, 466.6012958127193]\n",
      "Variance:  [0.10202528472914799, 0.13761088892884277, 0.13877345575012617, 0.13833528593416466, 0.13183107531386093]\n"
     ]
    }
   ],
   "source": [
    "run_BedRVFL(data, label, n_class)\n"
   ]
  },
  {
   "cell_type": "code",
   "execution_count": 9,
   "metadata": {},
   "outputs": [
    {
     "name": "stdout",
     "output_type": "stream",
     "text": [
      "Accuracy:  0.9454545454545453 ± 0.032524625127269675\n",
      "Lambda:  [64, 0.0625]\n",
      "Train time:  0.07965505123138428\n",
      "Test time:  0.0006441593170166016\n"
     ]
    }
   ],
   "source": [
    "run_LapRVFL(data, label, n_class)\n"
   ]
  },
  {
   "cell_type": "code",
   "execution_count": 10,
   "metadata": {},
   "outputs": [
    {
     "name": "stdout",
     "output_type": "stream",
     "text": [
      "Accuracy:  0.9527272727272725 ± 0.021818181818181827\n",
      "Lambda:  [16, 0.0625]\n",
      "Train time:  0.08101451396942139\n",
      "Test time:  0.0008551836013793946\n"
     ]
    }
   ],
   "source": [
    "run_LapdRVFL(data, label, n_class)\n"
   ]
  },
  {
   "cell_type": "code",
   "execution_count": 11,
   "metadata": {},
   "outputs": [
    {
     "name": "stdout",
     "output_type": "stream",
     "text": [
      "Accuracy:  0.9527272727272728 ± 0.023284088136119457\n",
      "Lambda:  [256, 0.015625]\n",
      "Train time:  0.16426165103912355\n",
      "Test time:  0.0011646509170532226\n"
     ]
    }
   ],
   "source": [
    "run_LapedRVFL(data, label, n_class)"
   ]
  },
  {
   "cell_type": "code",
   "execution_count": null,
   "metadata": {},
   "outputs": [],
   "source": []
  }
 ],
 "metadata": {
  "interpreter": {
   "hash": "d29531488e2b7bac10af08b59c5a0d1dca9077738f8661c2e75b8529990c25ab"
  },
  "kernelspec": {
   "display_name": "Python 3.8.8 64-bit ('base': conda)",
   "name": "python3"
  },
  "language_info": {
   "codemirror_mode": {
    "name": "ipython",
    "version": 3
   },
   "file_extension": ".py",
   "mimetype": "text/x-python",
   "name": "python",
   "nbconvert_exporter": "python",
   "pygments_lexer": "ipython3",
   "version": "3.8.8"
  }
 },
 "nbformat": 4,
 "nbformat_minor": 5
}
