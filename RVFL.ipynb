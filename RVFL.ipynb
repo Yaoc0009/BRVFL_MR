{
 "cells": [
  {
   "cell_type": "code",
   "execution_count": 1,
   "metadata": {},
   "outputs": [],
   "source": [
    "lams = [[2**i, 2**j] for i in range(-6, 13, 2) for j in range(-6, 13, 2)] # permutation of all possible lams"
   ]
  },
  {
   "cell_type": "code",
   "execution_count": 2,
   "id": "659df8d5",
   "metadata": {},
   "outputs": [
    {
     "name": "stdout",
     "output_type": "stream",
     "text": [
      "running RVFL...\n",
      "[0.9069444444444444, 0.019194826334840626] [0.7311516523361206, 0.003704547882080078]\n",
      "[0.9159722222222223, 0.02986111111111112] [0.7510350704193115, 0.005820512771606445]\n",
      "[0.9229166666666666, 0.02312614695187044] [0.7467498064041138, 0.0033045291900634767]\n",
      "[0.9145833333333334, 0.020844904194171735] [0.7531559944152832, 0.002892470359802246]\n",
      "[0.9215277777777777, 0.01730546638107933] [0.7428818941116333, 0.0037347555160522463]\n",
      "[0.9111111111111111, 0.01666666666666668] [0.7465346574783325, 0.004005622863769531]\n",
      "[0.9027777777777777, 0.027950849718747377] [0.7621413230895996, 0.00576779842376709]\n",
      "[0.8833333333333334, 0.020317692831010835] [0.770138168334961, 0.003820204734802246]\n",
      "[0.8618055555555555, 0.025125072937674357] [0.7294543027877808, 0.0037101030349731444]\n",
      "[0.8347222222222224, 0.029100453944106885] [0.7432546138763427, 0.004595661163330078]\n",
      "[0.9291666666666666, 0.016077551253875316] [0.7354254722595215, 0.005085539817810058]\n",
      "[0.93125, 0.020234447617129798] [0.750198769569397, 0.003269505500793457]\n",
      "[0.9354166666666666, 0.011219093348196868] [0.879211139678955, 0.005303668975830078]\n",
      "[0.9256944444444445, 0.0158509891812685] [0.8557456016540528, 0.005441355705261231]\n",
      "[0.9263888888888889, 0.022222222222222206] [0.9174692869186402, 0.005098605155944824]\n"
     ]
    }
   ],
   "source": [
    "from models_MR import *\n",
    "from run_helpers import cross_val_acc\n",
    "from datasets import *\n",
    "import numpy as np\n",
    "\n",
    "data, label, n_class = coil20()\n",
    "print('running RVFL...')\n",
    "acc = []\n",
    "t = []\n",
    "for lam in lams:\n",
    "    _, model_accuracy, duration = cross_val_acc(data, label, n_class, RVFL, lam)\n",
    "    acc.append(model_accuracy)\n",
    "    t.append(duration)\n",
    "\n",
    "max_index = np.argmax(acc, axis=0)[0]\n",
    "opt_lam = lams[max_index]\n",
    "print('Accuracy: ', acc[max_index][0], u\"\\u00B1\", acc[max_index][1])\n",
    "print('Lambda: ', opt_lam)\n",
    "print('Train time: ', t[max_index][0])\n",
    "print('Test time: ', t[max_index][1])"
   ]
  },
  {
   "cell_type": "code",
   "execution_count": 6,
   "metadata": {},
   "outputs": [
    {
     "data": {
      "text/plain": [
       "array([ 30.19287485, 606.44010263])"
      ]
     },
     "execution_count": 6,
     "metadata": {},
     "output_type": "execute_result"
    }
   ],
   "source": []
  },
  {
   "cell_type": "code",
   "execution_count": null,
   "metadata": {},
   "outputs": [],
   "source": []
  }
 ],
 "metadata": {
  "interpreter": {
   "hash": "d29531488e2b7bac10af08b59c5a0d1dca9077738f8661c2e75b8529990c25ab"
  },
  "kernelspec": {
   "display_name": "Python 3.8.8 64-bit ('base': conda)",
   "name": "python3"
  },
  "language_info": {
   "codemirror_mode": {
    "name": "ipython",
    "version": 3
   },
   "file_extension": ".py",
   "mimetype": "text/x-python",
   "name": "python",
   "nbconvert_exporter": "python",
   "pygments_lexer": "ipython3",
   "version": "3.8.8"
  }
 },
 "nbformat": 4,
 "nbformat_minor": 5
}
