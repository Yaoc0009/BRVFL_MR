{
 "cells": [
  {
   "cell_type": "code",
   "execution_count": 2,
   "metadata": {},
   "outputs": [],
   "source": [
    "from datasets import *\n",
    "from run_helpers import *\n",
    "import numpy as np\n",
    "\n",
    "np.random.seed(42)"
   ]
  },
  {
   "cell_type": "code",
   "execution_count": 3,
   "metadata": {},
   "outputs": [],
   "source": [
    "# coil20\n",
    "data, label, n_class = uspstb()"
   ]
  },
  {
   "cell_type": "code",
   "execution_count": 4,
   "metadata": {},
   "outputs": [
    {
     "name": "stdout",
     "output_type": "stream",
     "text": [
      "Accuracy:  0.9421940298507463 ± 0.01983201150862428\n",
      "Lambda:  16\n",
      "Train time:  0.04682047367095947\n",
      "Test time:  0.0027424097061157227\n"
     ]
    }
   ],
   "source": [
    "run_RVFL(data, label, n_class)"
   ]
  },
  {
   "cell_type": "code",
   "execution_count": 5,
   "metadata": {},
   "outputs": [
    {
     "name": "stdout",
     "output_type": "stream",
     "text": [
      "Accuracy:  0.9382412935323382 ± 0.01661769388500376\n",
      "Lambda:  64\n",
      "Train time:  0.3343877553939819\n",
      "Test time:  0.012292122840881348\n"
     ]
    }
   ],
   "source": [
    "run_dRVFL(data, label, n_class)\n"
   ]
  },
  {
   "cell_type": "code",
   "execution_count": 6,
   "metadata": {},
   "outputs": [
    {
     "name": "stdout",
     "output_type": "stream",
     "text": [
      "Accuracy:  0.9457039800995025 ± 0.014292693529891331\n",
      "Lambda:  64\n",
      "Train time:  0.23026549816131592\n",
      "Test time:  0.011885762214660645\n"
     ]
    }
   ],
   "source": [
    "run_edRVFL(data, label, n_class)\n",
    "\n"
   ]
  },
  {
   "cell_type": "code",
   "execution_count": 7,
   "metadata": {},
   "outputs": [
    {
     "name": "stdout",
     "output_type": "stream",
     "text": [
      "running Bayesian RVFL...\n",
      "Validation: 10 Convergence after  23  iterationsAccuracy:  0.9392064676616915 ± 0.007376118547287785\n",
      "Train time:  3.2841372013092043\n",
      "Test time:  0.0013052701950073242\n",
      "Hyperparameters: \n",
      "Precision:  476.2155309970042\n",
      "Variance:  0.11570175329297634\n"
     ]
    }
   ],
   "source": [
    "run_BRVFL(data, label, n_class)\n"
   ]
  },
  {
   "cell_type": "code",
   "execution_count": 8,
   "metadata": {},
   "outputs": [
    {
     "name": "stdout",
     "output_type": "stream",
     "text": [
      "running Bayesian Deep RVFL...\n",
      "Validation: 10 Convergence after  25  iterationsAccuracy:  0.9417164179104477 ± 0.014739783119360403\n",
      "Train time:  3.7041634798049925\n",
      "Test time:  0.00467674732208252\n",
      "Hyperparameters: \n",
      "Precision:  1547.7146345322126\n",
      "Variance:  0.13972044101653294\n"
     ]
    }
   ],
   "source": [
    "run_BdRVFL(data, label, n_class)\n"
   ]
  },
  {
   "cell_type": "code",
   "execution_count": 9,
   "metadata": {},
   "outputs": [
    {
     "name": "stdout",
     "output_type": "stream",
     "text": [
      "running Bayesian Ensemble Deep RVFL...\n",
      "Validation: 10 Convergence after  23  iterations Convergence after  15  iterations Convergence after  17  iterations Convergence after  16  iterations Convergence after  15  iterationsAccuracy:  0.9387213930348259 ± 0.014907515021250487\n",
      "Train time:  3.1486467838287355\n",
      "Test time:  0.007904529571533203\n",
      "Hyperparameters: \n",
      "Precision:  [656.728348037259, 892.8059062452396, 862.6420537766849, 847.1478548743354, 915.6354016498898]\n",
      "Variance:  [0.12332462460287906, 0.17720567962607797, 0.17454066825440592, 0.1803520508568099, 0.17461924651708272]\n"
     ]
    }
   ],
   "source": [
    "run_BedRVFL(data, label, n_class)\n"
   ]
  },
  {
   "cell_type": "code",
   "execution_count": 10,
   "metadata": {},
   "outputs": [
    {
     "name": "stdout",
     "output_type": "stream",
     "text": [
      "Accuracy:  0.9397089552238805 ± 0.017026363042048704\n",
      "Lambda:  [4, 0.015625]\n",
      "Train time:  0.7261876821517944\n",
      "Test time:  0.0023050308227539062\n"
     ]
    }
   ],
   "source": [
    "run_LapRVFL(data, label, n_class)\n"
   ]
  },
  {
   "cell_type": "code",
   "execution_count": 11,
   "metadata": {},
   "outputs": [
    {
     "name": "stdout",
     "output_type": "stream",
     "text": [
      "Accuracy:  0.9367164179104478 ± 0.013400532376128331\n",
      "Lambda:  [0.0625, 4]\n",
      "Train time:  0.5833696603775025\n",
      "Test time:  0.001705026626586914\n"
     ]
    }
   ],
   "source": [
    "run_LapdRVFL(data, label, n_class)\n"
   ]
  },
  {
   "cell_type": "code",
   "execution_count": 12,
   "metadata": {},
   "outputs": [
    {
     "name": "stdout",
     "output_type": "stream",
     "text": [
      "Accuracy:  0.9342064676616915 ± 0.023716069977941803\n",
      "Lambda:  [16, 0.0625]\n",
      "Train time:  0.5828324079513549\n",
      "Test time:  0.002662372589111328\n"
     ]
    }
   ],
   "source": [
    "run_LapedRVFL(data, label, n_class)"
   ]
  },
  {
   "cell_type": "code",
   "execution_count": null,
   "metadata": {},
   "outputs": [],
   "source": []
  }
 ],
 "metadata": {
  "interpreter": {
   "hash": "d29531488e2b7bac10af08b59c5a0d1dca9077738f8661c2e75b8529990c25ab"
  },
  "kernelspec": {
   "display_name": "Python 3.8.8 64-bit ('base': conda)",
   "name": "python3"
  },
  "language_info": {
   "codemirror_mode": {
    "name": "ipython",
    "version": 3
   },
   "file_extension": ".py",
   "mimetype": "text/x-python",
   "name": "python",
   "nbconvert_exporter": "python",
   "pygments_lexer": "ipython3",
   "version": "3.8.8"
  }
 },
 "nbformat": 4,
 "nbformat_minor": 5
}
