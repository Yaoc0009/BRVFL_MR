{
 "cells": [
  {
   "cell_type": "code",
   "execution_count": 1,
   "metadata": {},
   "outputs": [],
   "source": [
    "from sklearn.model_selection import KFold\n",
    "import numpy as np\n",
    "from models_MR import *\n",
    "from time import time\n",
    "from datasets import *"
   ]
  },
  {
   "cell_type": "code",
   "execution_count": 2,
   "metadata": {},
   "outputs": [],
   "source": [
    "data, label, n_class = coil20()"
   ]
  },
  {
   "cell_type": "code",
   "execution_count": 5,
   "id": "659df8d5",
   "metadata": {},
   "outputs": [
    {
     "name": "stdout",
     "output_type": "stream",
     "text": [
      "[0.9569444444444445, 0.01310275157230084]\n",
      "[0.9583333333333334, 0.017151512548928435]\n",
      "[0.9585648148148148, 0.015474671216072475]\n",
      "[0.9588541666666668, 0.01508619620620859]\n",
      "[0.9595833333333335, 0.014809099013115116]\n",
      "[0.9592592592592594, 0.014756830972693733]\n",
      "[0.9593253968253965, 0.015673347347723413]\n",
      "[0.9592881944444445, 0.015518298870249568]\n",
      "[0.9594907407407408, 0.017667057317677953]\n",
      "[0.9594444444444444, 0.017615360510813458]\n"
     ]
    }
   ],
   "source": [
    "n_node = 100 # num of nodes in hidden layer\n",
    "w_range = [-1, 1] # range of random weights\n",
    "b_range = [0, 1] # range of random biases\n",
    "val_acc = []\n",
    "train_time = []\n",
    "test_time = []\n",
    "activation = 'sigmoid'\n",
    "lam = [4, 0.015625]\n",
    "n_layer=1\n",
    "\n",
    "kf = KFold(n_splits=10, shuffle=True)\n",
    "# print('Lambda: ', lam)\n",
    "for k in range(1,11):\n",
    "    for _, kf_values in enumerate(kf.split(data, label)):\n",
    "        # print('Validation: {}'.format(i + 1))\n",
    "        train_index, val_index = kf_values\n",
    "        X_val_train, X_val_test = data[train_index], data[val_index]\n",
    "        y_val_train, y_val_test = label[train_index], label[val_index]\n",
    "        model = RVFL(n_node, lam, w_range, b_range, n_layer, activation=activation)\n",
    "        model.train(X_val_train, y_val_train, n_class)\n",
    "        acc = model.eval(X_val_test, y_val_test)\n",
    "        val_acc.append(acc)\n",
    "\n",
    "    final_acc = [np.mean(val_acc), np.std(val_acc)]\n",
    "    print(final_acc)\n"
   ]
  },
  {
   "cell_type": "code",
   "execution_count": null,
   "metadata": {},
   "outputs": [],
   "source": []
  }
 ],
 "metadata": {
  "interpreter": {
   "hash": "d29531488e2b7bac10af08b59c5a0d1dca9077738f8661c2e75b8529990c25ab"
  },
  "kernelspec": {
   "display_name": "Python 3.8.8 64-bit ('base': conda)",
   "name": "python3"
  },
  "language_info": {
   "codemirror_mode": {
    "name": "ipython",
    "version": 3
   },
   "file_extension": ".py",
   "mimetype": "text/x-python",
   "name": "python",
   "nbconvert_exporter": "python",
   "pygments_lexer": "ipython3",
   "version": "3.8.8"
  }
 },
 "nbformat": 4,
 "nbformat_minor": 5
}
