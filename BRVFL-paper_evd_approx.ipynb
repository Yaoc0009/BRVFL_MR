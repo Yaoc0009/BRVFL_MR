{
 "cells": [
  {
   "cell_type": "code",
   "execution_count": 1,
   "id": "ffc05559",
   "metadata": {},
   "outputs": [
    {
     "name": "stderr",
     "output_type": "stream",
     "text": [
      "WARNING (theano.tensor.blas): Using NumPy C-API based implementation for BLAS functions.\n"
     ]
    }
   ],
   "source": [
    "import numpy as np\n",
    "import sklearn.datasets as sk_dataset\n",
    "from sklearn.model_selection import train_test_split, KFold\n",
    "from sklearn.linear_model import BayesianRidge\n",
    "from scipy.io import loadmat\n",
    "\n",
    "import pymc3 as pm"
   ]
  },
  {
   "cell_type": "code",
   "execution_count": 2,
   "id": "77fdbbb1",
   "metadata": {},
   "outputs": [],
   "source": [
    "def standardize(x):\n",
    "    std = np.maximum(np.std(x, axis=0), 1/np.sqrt(len(x)))\n",
    "    mean = np.mean(x, axis=0)\n",
    "    return (x - mean) / std\n",
    "\n",
    "def relu(x):\n",
    "    return np.maximum(0, x)\n",
    "\n",
    "def one_hot_encoding(label, n_class):\n",
    "    y = np.zeros([len(label), n_class])\n",
    "    for i in range(len(label)):\n",
    "        y[i, label[i]] = 1\n",
    "    return y"
   ]
  },
  {
   "cell_type": "code",
   "execution_count": 3,
   "id": "6ab78148",
   "metadata": {},
   "outputs": [],
   "source": [
    "n_node = 10\n",
    "n_iter = 1000\n",
    "lam = 1 # regularization parameter, lambda\n",
    "w_range = [-1, 1] # range of random weights\n",
    "b_range = [0, 1] # range of random biases\n",
    "alpha_1 = 10**(-5) # Gamma distribution parameter\n",
    "alpha_2 = 10**(-5)\n",
    "alpha_3 = 10**(-5)\n",
    "alpha_4 = 10**(-5)\n",
    "\n",
    "dataset = loadmat('coil20.mat')\n",
    "label = np.array([dataset['Y'][i][0] - 1 for i in range(len(dataset['Y']))])\n",
    "data = dataset['X']\n",
    "n_class = 20\n",
    "\n",
    "# train-test-split\n",
    "X_train, X_test, y_train, y_test = train_test_split(data, label, test_size=0.3, random_state=42)\n",
    "# kf = KFold(10, True, 1)\n",
    "val_acc = []\n",
    "max_index = -1\n",
    "\n",
    "X_train = standardize(X_train)\n",
    "n_sample, n_feature = np.shape(X_train)\n",
    "y = one_hot_encoding(y_train, n_class)\n",
    "\n",
    "weights = (w_range[1] - w_range[0]) * np.random.random([n_feature, n_node]) + w_range[0]\n",
    "bias = (b_range[1] - b_range[0]) * np.random.random([1, n_node]) + b_range[0]"
   ]
  },
  {
   "cell_type": "markdown",
   "id": "bb77e7a6",
   "metadata": {},
   "source": [
    "### 1) Initialization\n",
    "a) Compute $\\mathbf{D}$ where $\\mathbf{D}=\\mathbf{[H,X]}$ <br>"
   ]
  },
  {
   "cell_type": "code",
   "execution_count": 4,
   "id": "c0e2ee1b",
   "metadata": {},
   "outputs": [],
   "source": [
    "h = relu(np.dot(X_train, weights) + np.dot(np.ones([n_sample, 1]), bias))\n",
    "d = np.concatenate([h, X_train], axis=1)\n",
    "# d = np.concatenate([d, np.ones_like(d[:, 0:1])], axis=1) # concat column of 1s"
   ]
  },
  {
   "cell_type": "markdown",
   "id": "c9de2c24",
   "metadata": {},
   "source": [
    "b) Compute $\\mathbf{D}^T\\mathbf{y}, \\mathbf{D}^T\\mathbf{D}$, and its eigenvalues $\\lambda^0_1,\\dots,\\lambda^0_B$ <br>"
   ]
  },
  {
   "cell_type": "code",
   "execution_count": 5,
   "id": "429b135a",
   "metadata": {},
   "outputs": [
    {
     "data": {
      "text/plain": [
       "array([-3.36940655e-12, -2.16035314e-12, -1.93288977e-12, ...,\n",
       "        2.56590575e+05,  3.04856976e+05,  1.16809052e+06])"
      ]
     },
     "execution_count": 5,
     "metadata": {},
     "output_type": "execute_result"
    }
   ],
   "source": [
    "dT_y = np.dot(d.T, y)\n",
    "dT_d = np.dot(d.T, d)\n",
    "eigen_val = np.linalg.eigvalsh(dT_d)\n",
    "eigen_val"
   ]
  },
  {
   "cell_type": "markdown",
   "id": "4aec833d",
   "metadata": {},
   "source": [
    "c) Initialize $\\sigma^2$ and $\\gamma$ to default values <br>\n",
    "Evidence approximation (MAP estimation on the posterior of the hyper-parameters):\n",
    "$$p(\\gamma)=\\text{Gamma}(\\gamma \\mid \\alpha_1, \\alpha_2)$$\n",
    "$$p(\\sigma^2)=\\text{Gamma}(\\sigma^{-2} \\mid \\alpha_3, \\alpha_4)$$\n",
    "$$ \\sigma_*^2, \\gamma_*^2 = \\arg\\max \\left\\{ \\int_{\\mathbf{R}^B} p(\\mathbf{y} \\mid \\mathbf{X}, \\mathbf{\\beta}, \\sigma^2)p(\\mathbf{\\beta} \\mid \\gamma) p(\\gamma)p(\\sigma^2)\\,d\\beta \\right\\}$$"
   ]
  },
  {
   "cell_type": "code",
   "execution_count": 6,
   "id": "b2e6a470",
   "metadata": {},
   "outputs": [
    {
     "data": {
      "text/html": [
       "\n",
       "    <div>\n",
       "        <style>\n",
       "            /* Turns off some styling */\n",
       "            progress {\n",
       "                /* gets rid of default border in Firefox and Opera. */\n",
       "                border: none;\n",
       "                /* Needs to be in here for Safari polyfill so background images work as expected. */\n",
       "                background-size: auto;\n",
       "            }\n",
       "            .progress-bar-interrupted, .progress-bar-interrupted::-webkit-progress-bar {\n",
       "                background: #F44336;\n",
       "            }\n",
       "        </style>\n",
       "      <progress value='5001' class='' max='5001' style='width:300px; height:20px; vertical-align: middle;'></progress>\n",
       "      100.00% [5001/5001 00:36<00:00 logp = 1.141e+05, ||grad|| = 70,982]\n",
       "    </div>\n",
       "    "
      ],
      "text/plain": [
       "<IPython.core.display.HTML object>"
      ]
     },
     "metadata": {},
     "output_type": "display_data"
    },
    {
     "name": "stderr",
     "output_type": "stream",
     "text": [
      "\n"
     ]
    },
    {
     "name": "stdout",
     "output_type": "stream",
     "text": [
      "\n"
     ]
    }
   ],
   "source": [
    "# Evidence approximation\n",
    "gamma = pm.Model()\n",
    "with gamma:\n",
    "    prec = pm.Gamma('prec', alpha=10**(-5), beta=10**(-5))\n",
    "    var = pm.Gamma('var', alpha=10**(-5), beta=10**(-5))\n",
    "    beta = pm.Normal('beta', mu=0, tau=prec, shape=(n_feature + n_node, n_class))\n",
    "    y_obs = pm.Normal('y_obs', mu=pm.math.dot(d, beta), tau=var, observed=y)\n",
    "    \n",
    "estimate =  pm.find_MAP(model=gamma)"
   ]
  },
  {
   "cell_type": "code",
   "execution_count": 7,
   "metadata": {},
   "outputs": [
    {
     "name": "stdout",
     "output_type": "stream",
     "text": [
      "prec:  1745.1822564064164\n",
      "var:  11416.765119620248\n"
     ]
    }
   ],
   "source": [
    "prec, var, beta = estimate['prec'].item(0), estimate['var'].item(0), estimate['beta']\n",
    "print('prec: ', prec)\n",
    "print('var: ', var)"
   ]
  },
  {
   "cell_type": "markdown",
   "id": "8c32fcb1",
   "metadata": {},
   "source": [
    "### 2) Posterior update\n",
    "a) Computer posterior mean $\\mathbf{m}$ as in $$\\mathbf{m}=\\frac{1}{\\sigma^2}\\Sigma\\mathbf{D}^T\\mathbf{y}$$ <br>\n",
    "b) Computer posterior covariance $\\Sigma$ as in $$\\Sigma^{-1}=\\gamma\\mathbf{I}+\\frac{1}{\\sigma^2}\\mathbf{D}^T\\mathbf{D}$$"
   ]
  },
  {
   "cell_type": "code",
   "execution_count": 8,
   "metadata": {},
   "outputs": [],
   "source": [
    "covar = np.linalg.inv(prec * np.identity(dT_d.shape[1]) + dT_d / var)\n",
    "mean = np.dot(covar, dT_y) / var"
   ]
  },
  {
   "cell_type": "markdown",
   "id": "54ec75e2",
   "metadata": {},
   "source": [
    "### 3) Hyper-parameters update\n",
    "a) Compute updated eigenvalues $$\\lambda_i=\\frac{1}{\\sigma^2}\\lambda^0_i,\\qquad i=1,\\dots,B$$ <br>"
   ]
  },
  {
   "cell_type": "code",
   "execution_count": 9,
   "metadata": {},
   "outputs": [
    {
     "data": {
      "text/plain": [
       "array([-2.95127956e-16, -1.89226380e-16, -1.69302754e-16, ...,\n",
       "        2.24748930e+01,  2.67025706e+01,  1.02313616e+02])"
      ]
     },
     "execution_count": 9,
     "metadata": {},
     "output_type": "execute_result"
    }
   ],
   "source": [
    "lam = eigen_val / var\n",
    "lam"
   ]
  },
  {
   "cell_type": "markdown",
   "id": "5dcf14bb",
   "metadata": {},
   "source": [
    "b) Update $\\gamma$ as in $$\\gamma=\\frac{\\delta + 2\\alpha_1}{\\|\\mathbf{m}\\|^2_2 + 2\\alpha_2}$$\n",
    "c) Update $\\sigma^2$ as in $$\\sigma^2=\\frac{\\|\\mathbf{y}-\\mathbf{D}\\beta\\|^2_2+\\alpha_4}{N-\\delta+2\\alpha_3}$$\n",
    "where $\\delta$ is defined as $$\\delta=\\sum^B_{i=1}\\frac{\\lambda_i}{\\gamma+\\lambda_i}$$"
   ]
  },
  {
   "cell_type": "code",
   "execution_count": 10,
   "metadata": {},
   "outputs": [],
   "source": [
    "delta = np.sum(np.divide(lam, lam + prec))\n",
    "prec = (delta + 2 * alpha_1) / (np.sum(np.square(mean)) + 2 * alpha_2)\n",
    "var = (np.sum(np.square(y - np.dot(d, beta))) + alpha_4) / (n_sample + delta + 2 * alpha_3)\n"
   ]
  },
  {
   "cell_type": "code",
   "execution_count": 11,
   "metadata": {},
   "outputs": [
    {
     "name": "stdout",
     "output_type": "stream",
     "text": [
      "0.0017192075077615008\n"
     ]
    }
   ],
   "source": [
    "print(var)"
   ]
  },
  {
   "cell_type": "markdown",
   "metadata": {},
   "source": [
    "### Predictive Distribution\n",
    "$$p(y \\mid \\mathbf{X}, \\mathbf{y}, \\mathbf{\\hat{x}}, \\sigma^2, \\gamma) = \\mathcal{N} (y \\mid \\mathbf{m}^T \\mathbf{d}(\\mathbf{\\hat{x}}), \\phi(\\mathbf{\\hat{x}})^2)$$\n",
    "$$\\phi(\\mathbf{\\hat{x}})^2 = \\sigma^2 + \\mathbf{d^T(\\hat{x})} \\Sigma \\mathbf{d(\\hat{x})}"
   ]
  },
  {
   "cell_type": "code",
   "execution_count": null,
   "metadata": {},
   "outputs": [],
   "source": [
    "basic_model = pm.Model()\n",
    "with basic_model:\n",
    "    var_phi = var + np.dot(d.T, covar).dot(d)\n",
    "    pred = pm.Normal('pred', mu=pm.math.dot(mean.T, d), tau=var_phi)"
   ]
  }
 ],
 "metadata": {
  "interpreter": {
   "hash": "53e53f2e48b5b02ad96e830940e12ad58baf9aca82a333a77928015526d4f330"
  },
  "kernelspec": {
   "display_name": "Python 3.9.7 64-bit ('pm3env': conda)",
   "name": "python3"
  },
  "language_info": {
   "codemirror_mode": {
    "name": "ipython",
    "version": 3
   },
   "file_extension": ".py",
   "mimetype": "text/x-python",
   "name": "python",
   "nbconvert_exporter": "python",
   "pygments_lexer": "ipython3",
   "version": "3.9.7"
  }
 },
 "nbformat": 4,
 "nbformat_minor": 5
}
