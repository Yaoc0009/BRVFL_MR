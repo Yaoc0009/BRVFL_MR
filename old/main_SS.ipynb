{
 "cells": [
  {
   "cell_type": "code",
   "execution_count": 1,
   "metadata": {},
   "outputs": [
    {
     "name": "stdout",
     "output_type": "stream",
     "text": [
      "running Laplacian RVFL...\n",
      "Unlab:  0.8366666666666666 ± 0.020917828652982966\n",
      "Val:  0.875 ± 0.05496210815947049\n",
      "Test:  0.8358796296296296 ± 0.03455437827973525\n",
      "Lambda:  [1024, 1]\n",
      "Train time:  0.47211239735285443\n"
     ]
    }
   ],
   "source": [
    "from sklearn.model_selection import train_test_split, ShuffleSplit\n",
    "from sklearn.utils import shuffle\n",
    "import numpy as np\n",
    "from datasets import *\n",
    "# from models_SS import *\n",
    "from models_MR import LapRVFL, LapDeepRVFL, LapEnsembleDeepRVFL, LapBRVFL, LapBDeepRVFL, LapBEnsembleDeepRVFL\n",
    "from time import time\n",
    "from run_SS_helpers import *\n",
    "\n",
    "\n",
    "# set random seed\n",
    "np.random.seed(42)\n",
    "\n",
    "partition = [40, 1000, 40, 360]\n",
    "lap_lams = [[2**i, 2**j] for i in range(-6, 13, 2) for j in range(-6, 13, 2)] # permutation of all possible lams\n",
    "NN = 2\n",
    "data, label, n_class = coil20()\n",
    "run_LapRVFL(data, label, n_class, partition, NN)\n"
   ]
  },
  {
   "cell_type": "code",
   "execution_count": 2,
   "metadata": {},
   "outputs": [
    {
     "name": "stdout",
     "output_type": "stream",
     "text": [
      "running Laplacian Deep RVFL...\n",
      "Unlab:  0.7932499999999999 ± 0.04431539424022612\n",
      "Val:  0.8291666666666666 ± 0.026679684322636874\n",
      "Test:  0.8002314814814816 ± 0.028064683455831005\n",
      "Lambda:  [4096, 0.0625]\n",
      "Train time:  3.6970196664333344\n"
     ]
    }
   ],
   "source": [
    "run_LapdRVFL(data, label, n_class, partition, NN)"
   ]
  },
  {
   "cell_type": "code",
   "execution_count": 3,
   "metadata": {},
   "outputs": [
    {
     "name": "stdout",
     "output_type": "stream",
     "text": [
      "running Laplacian Ensemble Deep RVFL...\n",
      "Unlab:  0.8582499999999998 ± 0.02367884076554425\n",
      "Val:  0.8604166666666667 ± 0.051496696226284486\n",
      "Test:  0.8312499999999999 ± 0.02904792850111281\n",
      "Lambda:  [16, 1]\n",
      "Train time:  6.719910204410553\n"
     ]
    }
   ],
   "source": [
    "run_LapedRVFL(data, label, n_class, partition, NN)"
   ]
  },
  {
   "cell_type": "code",
   "execution_count": 1,
   "metadata": {},
   "outputs": [],
   "source": [
    "from sklearn.model_selection import train_test_split, ShuffleSplit\n",
    "from sklearn.utils import shuffle\n",
    "import numpy as np\n",
    "from datasets import *\n",
    "from models_SS import *\n",
    "from models_MR import LapRVFL, LapDeepRVFL, LapEnsembleDeepRVFL, LapBRVFL, LapBDeepRVFL, LapBEnsembleDeepRVFL\n",
    "from time import time\n",
    "from run_SS_helpers import *\n",
    "\n",
    "data, label, n_class = coil20()\n",
    "np.random.seed(42)"
   ]
  },
  {
   "cell_type": "code",
   "execution_count": 3,
   "metadata": {},
   "outputs": [
    {
     "name": "stdout",
     "output_type": "stream",
     "text": [
      "Unlab:  0.6594166666666667 ± 0.023386101047892155\n",
      "Val:  0.7041666666666666 ± 0.06909634979907084\n",
      "Test:  0.6349537037037036 ± 0.04842501858083466\n",
      "Lambda:  16\n",
      "Train time:  1.387277513742447\n"
     ]
    }
   ],
   "source": [
    "partition = [40, 1000, 40, 360]\n",
    "lam = 1\n",
    "n_layer = 1\n",
    "activation='sigmoid'\n",
    "model_class = DeepRVFL\n",
    "lams = [2**i for i in range(-12, 13, 2)] # regularization parameter, lambda\n",
    "\n",
    "unlab = []\n",
    "val = []\n",
    "test = []\n",
    "t = []\n",
    "for i, lam in enumerate(lams):\n",
    "    unlab_acc, val_acc, test_acc, train_time = run_SS(data, label, n_class, model_class, partition, lam=lam, n_layer=5, activation='sigmoid')\n",
    "    unlab.append(unlab_acc)\n",
    "    val.append(val_acc)\n",
    "    test.append(test_acc)\n",
    "    t.append(train_time)\n",
    "\n",
    "max_index = np.argmax(val, axis=0)[0]\n",
    "opt_lam = lams[max_index]\n",
    "print('Unlab: ', unlab[max_index][0], u\"\\u00B1\", unlab[max_index][1])\n",
    "print('Val: ', val[max_index][0], u\"\\u00B1\", val[max_index][1])\n",
    "print('Test: ', test[max_index][0], u\"\\u00B1\", test[max_index][1])\n",
    "print('Lambda: ', opt_lam)\n",
    "print('Train time: ', t[max_index])\n"
   ]
  },
  {
   "cell_type": "code",
   "execution_count": 5,
   "metadata": {},
   "outputs": [
    {
     "name": "stdout",
     "output_type": "stream",
     "text": [
      "Validation: 1\n",
      "Validation accuracy: 0.9396551724137931\n",
      "Validation: 2\n",
      "Validation accuracy: 0.9310344827586207\n",
      "Validation: 3\n",
      "Validation accuracy: 0.9478260869565217\n",
      "Validation: 4\n",
      "Validation accuracy: 0.9565217391304348\n",
      "Validation: 5\n",
      "Validation accuracy: 0.9391304347826087\n",
      "Validation: 6\n",
      "Validation accuracy: 0.9217391304347826\n",
      "Validation: 7\n",
      "Validation accuracy: 0.9652173913043478\n",
      "Validation: 8\n",
      "Validation accuracy: 0.9478260869565217\n",
      "Validation: 9\n",
      "Validation accuracy: 0.9478260869565217\n",
      "Validation: 10\n",
      "Validation accuracy: 0.9565217391304348\n",
      "\n",
      "Test accuracy: 0.9236111111111112\n"
     ]
    }
   ],
   "source": [
    "# RVFL\n",
    "\n",
    "n_node = 10 # num of nodes in hidden layer\n",
    "lam = 1 # regularization parameter, lambda\n",
    "w_range = [-1, 1] # range of random weights\n",
    "b_range = [0, 1] # range of random biases\n",
    "\n",
    "for i, kf_values in enumerate(kf.split(X_train, y_train)):\n",
    "#     print(f'train: {train_index}, val: {val_index}')\n",
    "    print('Validation: {}'.format(i + 1))\n",
    "    train_index, val_index = kf_values\n",
    "    X_val_train, X_val_test = X_train[train_index], X_train[val_index]\n",
    "    y_val_train, y_val_test = y_train[train_index], y_train[val_index]\n",
    "    model = RVFL(n_node, lam, w_range, b_range)\n",
    "    model.train(X_val_train, y_val_train, n_class)\n",
    "    prediction = model.predict(X_val_test, True)\n",
    "    acc = model.eval(X_val_test, y_val_test)\n",
    "    print(f'Validation accuracy: {acc}')\n",
    "    val_acc.append(acc)\n",
    "    if acc >= max(val_acc):\n",
    "        max_index = train_index\n",
    "\n",
    "X_train, y_train = X_train[max_index], y_train[max_index]\n",
    "model = RVFL(n_node, lam, w_range, b_range)\n",
    "model.train(X_train, y_train, n_class)\n",
    "prediction = model.predict(X_test, True)\n",
    "acc = model.eval(X_test, y_test)\n",
    "print(f'\\nTest accuracy: {acc}')"
   ]
  },
  {
   "cell_type": "code",
   "execution_count": 6,
   "metadata": {},
   "outputs": [
    {
     "name": "stdout",
     "output_type": "stream",
     "text": [
      "Validation: 1\n",
      "Validation accuracy: 0.9396551724137931\n",
      "Validation: 2\n",
      "Validation accuracy: 0.9482758620689655\n",
      "Validation: 3\n",
      "Validation accuracy: 0.9391304347826087\n",
      "Validation: 4\n",
      "Validation accuracy: 0.9652173913043478\n",
      "Validation: 5\n",
      "Validation accuracy: 0.9304347826086956\n",
      "Validation: 6\n",
      "Validation accuracy: 0.9217391304347826\n",
      "Validation: 7\n",
      "Validation accuracy: 0.9652173913043478\n",
      "Validation: 8\n",
      "Validation accuracy: 0.9304347826086956\n",
      "Validation: 9\n",
      "Validation accuracy: 0.9652173913043478\n",
      "Validation: 10\n",
      "Validation accuracy: 0.9652173913043478\n",
      "\n",
      "Test accuracy: 0.9305555555555556\n"
     ]
    }
   ],
   "source": [
    "# dRVFL\n",
    "\n",
    "n_node = 10 # num of nodes in hidden layer\n",
    "n_layer = 2 # num of hidden layers\n",
    "lam = 1 # regularization parameter, lambda\n",
    "w_range = [-1, 1] # range of random weights\n",
    "b_range = [0, 1] # range of random biases\n",
    "\n",
    "for i, kf_values in enumerate(kf.split(X_train, y_train)):\n",
    "#     print(f'train: {train_index}, val: {val_index}')\n",
    "    print('Validation: {}'.format(i + 1))\n",
    "    train_index, val_index = kf_values\n",
    "    X_val_train, X_val_test = X_train[train_index], X_train[val_index]\n",
    "    y_val_train, y_val_test = y_train[train_index], y_train[val_index]\n",
    "    model = DeepRVFL(n_node, lam, w_range, b_range, n_layer)\n",
    "    model.train(X_val_train, y_val_train, n_class)\n",
    "    prediction = model.predict(X_val_test, False)\n",
    "    acc = model.eval(X_val_test, y_val_test)\n",
    "    print(f'Validation accuracy: {acc}')\n",
    "    val_acc.append(acc)\n",
    "    if acc >= max(val_acc):\n",
    "        max_index = train_index\n",
    "\n",
    "X_train, y_train = X_train[max_index], y_train[max_index]\n",
    "model = DeepRVFL(n_node, lam, w_range, b_range, n_layer)\n",
    "model.train(X_train, y_train, n_class)\n",
    "prediction = model.predict(X_test, False)\n",
    "acc = model.eval(X_test, y_test)\n",
    "print(f'\\nTest accuracy: {acc}')"
   ]
  },
  {
   "cell_type": "code",
   "execution_count": 7,
   "metadata": {},
   "outputs": [
    {
     "name": "stdout",
     "output_type": "stream",
     "text": [
      "Validation: 1\n",
      "Validation accuracy: 0.9310344827586207\n",
      "Validation: 2\n",
      "Validation accuracy: 0.9482758620689655\n",
      "Validation: 3\n",
      "Validation accuracy: 0.9478260869565217\n",
      "Validation: 4\n",
      "Validation accuracy: 0.9565217391304348\n",
      "Validation: 5\n",
      "Validation accuracy: 0.9217391304347826\n",
      "Validation: 6\n",
      "Validation accuracy: 0.9304347826086956\n",
      "Validation: 7\n",
      "Validation accuracy: 0.9652173913043478\n",
      "Validation: 8\n",
      "Validation accuracy: 0.9565217391304348\n",
      "Validation: 9\n",
      "Validation accuracy: 0.9652173913043478\n",
      "Validation: 10\n",
      "Validation accuracy: 0.9391304347826087\n",
      "\n",
      "Test accuracy: 0.9236111111111112\n"
     ]
    }
   ],
   "source": [
    "# edRVFL\n",
    "\n",
    "n_node = 10 # num of nodes in hidden layer\n",
    "n_layer = 2 # num of hidden layers\n",
    "lam = 1 # regularization parameter, lambda\n",
    "w_range = [-1, 1] # range of random weights\n",
    "b_range = [0, 1] # range of random biases\n",
    "\n",
    "for i, kf_values in enumerate(kf.split(X_train, y_train)):\n",
    "#     print(f'train: {train_index}, val: {val_index}')\n",
    "    print('Validation: {}'.format(i + 1))\n",
    "    train_index, val_index = kf_values\n",
    "    X_val_train, X_val_test = X_train[train_index], X_train[val_index]\n",
    "    y_val_train, y_val_test = y_train[train_index], y_train[val_index]\n",
    "    model = EnsembleDeepRVFL(n_node, lam, w_range, b_range, n_layer)\n",
    "    model.train(X_val_train, y_val_train, n_class)\n",
    "    prediction = model.predict(X_val_test, False)\n",
    "    acc = model.eval(X_val_test, y_val_test)\n",
    "    print(f'Validation accuracy: {acc}')\n",
    "    val_acc.append(acc)\n",
    "    if acc >= max(val_acc):\n",
    "        max_index = train_index\n",
    "\n",
    "X_train, y_train = X_train[max_index], y_train[max_index]\n",
    "model = EnsembleDeepRVFL(n_node, lam, w_range, b_range, n_layer)\n",
    "model.train(X_train, y_train, n_class)\n",
    "prediction = model.predict(X_test, False)\n",
    "acc = model.eval(X_test, y_test)\n",
    "print(f'\\nTest accuracy: {acc}')"
   ]
  },
  {
   "cell_type": "code",
   "execution_count": 3,
   "metadata": {},
   "outputs": [
    {
     "name": "stdout",
     "output_type": "stream",
     "text": [
      "Validation: 1\n"
     ]
    },
    {
     "data": {
      "text/html": [
       "\n",
       "    <div>\n",
       "        <style>\n",
       "            /* Turns off some styling */\n",
       "            progress {\n",
       "                /* gets rid of default border in Firefox and Opera. */\n",
       "                border: none;\n",
       "                /* Needs to be in here for Safari polyfill so background images work as expected. */\n",
       "                background-size: auto;\n",
       "            }\n",
       "            .progress-bar-interrupted, .progress-bar-interrupted::-webkit-progress-bar {\n",
       "                background: #F44336;\n",
       "            }\n",
       "        </style>\n",
       "      <progress value='5001' class='' max='5001' style='width:300px; height:20px; vertical-align: middle;'></progress>\n",
       "      100.00% [5001/5001 01:37<00:00 logp = 1.1275e+05, ||grad|| = 73,753]\n",
       "    </div>\n",
       "    "
      ],
      "text/plain": [
       "<IPython.core.display.HTML object>"
      ]
     },
     "metadata": {},
     "output_type": "display_data"
    },
    {
     "name": "stderr",
     "output_type": "stream",
     "text": [
      "\n"
     ]
    },
    {
     "name": "stdout",
     "output_type": "stream",
     "text": [
      "\n",
      "Convergence after  17  iterations\n",
      "Validation accuracy: 0.896551724137931\n",
      "Validation: 2\n"
     ]
    },
    {
     "data": {
      "text/html": [
       "\n",
       "    <div>\n",
       "        <style>\n",
       "            /* Turns off some styling */\n",
       "            progress {\n",
       "                /* gets rid of default border in Firefox and Opera. */\n",
       "                border: none;\n",
       "                /* Needs to be in here for Safari polyfill so background images work as expected. */\n",
       "                background-size: auto;\n",
       "            }\n",
       "            .progress-bar-interrupted, .progress-bar-interrupted::-webkit-progress-bar {\n",
       "                background: #F44336;\n",
       "            }\n",
       "        </style>\n",
       "      <progress value='5001' class='' max='5001' style='width:300px; height:20px; vertical-align: middle;'></progress>\n",
       "      100.00% [5001/5001 01:37<00:00 logp = 1.1374e+05, ||grad|| = 49,675]\n",
       "    </div>\n",
       "    "
      ],
      "text/plain": [
       "<IPython.core.display.HTML object>"
      ]
     },
     "metadata": {},
     "output_type": "display_data"
    },
    {
     "name": "stderr",
     "output_type": "stream",
     "text": [
      "\n"
     ]
    },
    {
     "name": "stdout",
     "output_type": "stream",
     "text": [
      "\n",
      "Convergence after  16  iterations\n",
      "Validation accuracy: 0.8706896551724138\n",
      "Validation: 3\n"
     ]
    },
    {
     "data": {
      "text/html": [
       "\n",
       "    <div>\n",
       "        <style>\n",
       "            /* Turns off some styling */\n",
       "            progress {\n",
       "                /* gets rid of default border in Firefox and Opera. */\n",
       "                border: none;\n",
       "                /* Needs to be in here for Safari polyfill so background images work as expected. */\n",
       "                background-size: auto;\n",
       "            }\n",
       "            .progress-bar-interrupted, .progress-bar-interrupted::-webkit-progress-bar {\n",
       "                background: #F44336;\n",
       "            }\n",
       "        </style>\n",
       "      <progress value='5001' class='' max='5001' style='width:300px; height:20px; vertical-align: middle;'></progress>\n",
       "      100.00% [5001/5001 01:37<00:00 logp = 1.1379e+05, ||grad|| = 45,205]\n",
       "    </div>\n",
       "    "
      ],
      "text/plain": [
       "<IPython.core.display.HTML object>"
      ]
     },
     "metadata": {},
     "output_type": "display_data"
    },
    {
     "name": "stderr",
     "output_type": "stream",
     "text": [
      "\n"
     ]
    },
    {
     "name": "stdout",
     "output_type": "stream",
     "text": [
      "\n",
      "Convergence after  17  iterations\n",
      "Validation accuracy: 0.9217391304347826\n",
      "Validation: 4\n"
     ]
    },
    {
     "data": {
      "text/html": [
       "\n",
       "    <div>\n",
       "        <style>\n",
       "            /* Turns off some styling */\n",
       "            progress {\n",
       "                /* gets rid of default border in Firefox and Opera. */\n",
       "                border: none;\n",
       "                /* Needs to be in here for Safari polyfill so background images work as expected. */\n",
       "                background-size: auto;\n",
       "            }\n",
       "            .progress-bar-interrupted, .progress-bar-interrupted::-webkit-progress-bar {\n",
       "                background: #F44336;\n",
       "            }\n",
       "        </style>\n",
       "      <progress value='989' class='' max='989' style='width:300px; height:20px; vertical-align: middle;'></progress>\n",
       "      100.00% [989/989 00:17<00:00 logp = 1.083e+05, ||grad|| = 484.82]\n",
       "    </div>\n",
       "    "
      ],
      "text/plain": [
       "<IPython.core.display.HTML object>"
      ]
     },
     "metadata": {},
     "output_type": "display_data"
    },
    {
     "name": "stdout",
     "output_type": "stream",
     "text": [
      "\n",
      "Convergence after  16  iterations\n",
      "Validation accuracy: 0.9652173913043478\n",
      "Validation: 5\n"
     ]
    },
    {
     "data": {
      "text/html": [
       "\n",
       "    <div>\n",
       "        <style>\n",
       "            /* Turns off some styling */\n",
       "            progress {\n",
       "                /* gets rid of default border in Firefox and Opera. */\n",
       "                border: none;\n",
       "                /* Needs to be in here for Safari polyfill so background images work as expected. */\n",
       "                background-size: auto;\n",
       "            }\n",
       "            .progress-bar-interrupted, .progress-bar-interrupted::-webkit-progress-bar {\n",
       "                background: #F44336;\n",
       "            }\n",
       "        </style>\n",
       "      <progress value='5001' class='' max='5001' style='width:300px; height:20px; vertical-align: middle;'></progress>\n",
       "      100.00% [5001/5001 01:23<00:00 logp = 1.1423e+05, ||grad|| = 24,582]\n",
       "    </div>\n",
       "    "
      ],
      "text/plain": [
       "<IPython.core.display.HTML object>"
      ]
     },
     "metadata": {},
     "output_type": "display_data"
    },
    {
     "name": "stderr",
     "output_type": "stream",
     "text": [
      "\n"
     ]
    },
    {
     "name": "stdout",
     "output_type": "stream",
     "text": [
      "\n",
      "Convergence after  16  iterations\n",
      "Validation accuracy: 0.8782608695652174\n",
      "Validation: 6\n"
     ]
    },
    {
     "data": {
      "text/html": [
       "\n",
       "    <div>\n",
       "        <style>\n",
       "            /* Turns off some styling */\n",
       "            progress {\n",
       "                /* gets rid of default border in Firefox and Opera. */\n",
       "                border: none;\n",
       "                /* Needs to be in here for Safari polyfill so background images work as expected. */\n",
       "                background-size: auto;\n",
       "            }\n",
       "            .progress-bar-interrupted, .progress-bar-interrupted::-webkit-progress-bar {\n",
       "                background: #F44336;\n",
       "            }\n",
       "        </style>\n",
       "      <progress value='5001' class='' max='5001' style='width:300px; height:20px; vertical-align: middle;'></progress>\n",
       "      100.00% [5001/5001 01:26<00:00 logp = 1.1416e+05, ||grad|| = 45,942]\n",
       "    </div>\n",
       "    "
      ],
      "text/plain": [
       "<IPython.core.display.HTML object>"
      ]
     },
     "metadata": {},
     "output_type": "display_data"
    },
    {
     "name": "stderr",
     "output_type": "stream",
     "text": [
      "\n"
     ]
    },
    {
     "name": "stdout",
     "output_type": "stream",
     "text": [
      "\n",
      "Convergence after  17  iterations\n",
      "Validation accuracy: 0.8608695652173913\n",
      "Validation: 7\n"
     ]
    },
    {
     "data": {
      "text/html": [
       "\n",
       "    <div>\n",
       "        <style>\n",
       "            /* Turns off some styling */\n",
       "            progress {\n",
       "                /* gets rid of default border in Firefox and Opera. */\n",
       "                border: none;\n",
       "                /* Needs to be in here for Safari polyfill so background images work as expected. */\n",
       "                background-size: auto;\n",
       "            }\n",
       "            .progress-bar-interrupted, .progress-bar-interrupted::-webkit-progress-bar {\n",
       "                background: #F44336;\n",
       "            }\n",
       "        </style>\n",
       "      <progress value='5001' class='' max='5001' style='width:300px; height:20px; vertical-align: middle;'></progress>\n",
       "      100.00% [5001/5001 01:25<00:00 logp = 1.142e+05, ||grad|| = 48,200]\n",
       "    </div>\n",
       "    "
      ],
      "text/plain": [
       "<IPython.core.display.HTML object>"
      ]
     },
     "metadata": {},
     "output_type": "display_data"
    },
    {
     "name": "stderr",
     "output_type": "stream",
     "text": [
      "\n"
     ]
    },
    {
     "name": "stdout",
     "output_type": "stream",
     "text": [
      "\n",
      "Convergence after  17  iterations\n",
      "Validation accuracy: 0.9304347826086956\n",
      "Validation: 8\n"
     ]
    },
    {
     "data": {
      "text/html": [
       "\n",
       "    <div>\n",
       "        <style>\n",
       "            /* Turns off some styling */\n",
       "            progress {\n",
       "                /* gets rid of default border in Firefox and Opera. */\n",
       "                border: none;\n",
       "                /* Needs to be in here for Safari polyfill so background images work as expected. */\n",
       "                background-size: auto;\n",
       "            }\n",
       "            .progress-bar-interrupted, .progress-bar-interrupted::-webkit-progress-bar {\n",
       "                background: #F44336;\n",
       "            }\n",
       "        </style>\n",
       "      <progress value='5001' class='' max='5001' style='width:300px; height:20px; vertical-align: middle;'></progress>\n",
       "      100.00% [5001/5001 01:26<00:00 logp = 1.1346e+05, ||grad|| = 53,988]\n",
       "    </div>\n",
       "    "
      ],
      "text/plain": [
       "<IPython.core.display.HTML object>"
      ]
     },
     "metadata": {},
     "output_type": "display_data"
    },
    {
     "name": "stderr",
     "output_type": "stream",
     "text": [
      "\n"
     ]
    },
    {
     "name": "stdout",
     "output_type": "stream",
     "text": [
      "\n",
      "Convergence after  17  iterations\n",
      "Validation accuracy: 0.8782608695652174\n",
      "Validation: 9\n"
     ]
    },
    {
     "data": {
      "text/html": [
       "\n",
       "    <div>\n",
       "        <style>\n",
       "            /* Turns off some styling */\n",
       "            progress {\n",
       "                /* gets rid of default border in Firefox and Opera. */\n",
       "                border: none;\n",
       "                /* Needs to be in here for Safari polyfill so background images work as expected. */\n",
       "                background-size: auto;\n",
       "            }\n",
       "            .progress-bar-interrupted, .progress-bar-interrupted::-webkit-progress-bar {\n",
       "                background: #F44336;\n",
       "            }\n",
       "        </style>\n",
       "      <progress value='1101' class='' max='1101' style='width:300px; height:20px; vertical-align: middle;'></progress>\n",
       "      100.00% [1101/1101 00:11<00:00 logp = 1.0817e+05, ||grad|| = 1,589.2]\n",
       "    </div>\n",
       "    "
      ],
      "text/plain": [
       "<IPython.core.display.HTML object>"
      ]
     },
     "metadata": {},
     "output_type": "display_data"
    },
    {
     "name": "stdout",
     "output_type": "stream",
     "text": [
      "\n",
      "Convergence after  16  iterations\n",
      "Validation accuracy: 0.9652173913043478\n",
      "Validation: 10\n"
     ]
    },
    {
     "data": {
      "text/html": [
       "\n",
       "    <div>\n",
       "        <style>\n",
       "            /* Turns off some styling */\n",
       "            progress {\n",
       "                /* gets rid of default border in Firefox and Opera. */\n",
       "                border: none;\n",
       "                /* Needs to be in here for Safari polyfill so background images work as expected. */\n",
       "                background-size: auto;\n",
       "            }\n",
       "            .progress-bar-interrupted, .progress-bar-interrupted::-webkit-progress-bar {\n",
       "                background: #F44336;\n",
       "            }\n",
       "        </style>\n",
       "      <progress value='5001' class='' max='5001' style='width:300px; height:20px; vertical-align: middle;'></progress>\n",
       "      100.00% [5001/5001 00:50<00:00 logp = 1.1435e+05, ||grad|| = 34,733]\n",
       "    </div>\n",
       "    "
      ],
      "text/plain": [
       "<IPython.core.display.HTML object>"
      ]
     },
     "metadata": {},
     "output_type": "display_data"
    },
    {
     "name": "stderr",
     "output_type": "stream",
     "text": [
      "\n"
     ]
    },
    {
     "name": "stdout",
     "output_type": "stream",
     "text": [
      "\n",
      "Convergence after  17  iterations\n",
      "Validation accuracy: 0.8869565217391304\n"
     ]
    },
    {
     "data": {
      "text/html": [
       "\n",
       "    <div>\n",
       "        <style>\n",
       "            /* Turns off some styling */\n",
       "            progress {\n",
       "                /* gets rid of default border in Firefox and Opera. */\n",
       "                border: none;\n",
       "                /* Needs to be in here for Safari polyfill so background images work as expected. */\n",
       "                background-size: auto;\n",
       "            }\n",
       "            .progress-bar-interrupted, .progress-bar-interrupted::-webkit-progress-bar {\n",
       "                background: #F44336;\n",
       "            }\n",
       "        </style>\n",
       "      <progress value='1486' class='' max='1486' style='width:300px; height:20px; vertical-align: middle;'></progress>\n",
       "      100.00% [1486/1486 00:14<00:00 logp = 1.8707e+05, ||grad|| = 46,810]\n",
       "    </div>\n",
       "    "
      ],
      "text/plain": [
       "<IPython.core.display.HTML object>"
      ]
     },
     "metadata": {},
     "output_type": "display_data"
    },
    {
     "name": "stdout",
     "output_type": "stream",
     "text": [
      "\n",
      "Convergence after  14  iterations\n",
      "\n",
      "Test accuracy: 0.9166666666666666\n"
     ]
    }
   ],
   "source": [
    "# BRVFL\n",
    "\n",
    "n_node = 10 # num of nodes in hidden layer\n",
    "w_range = [-1, 1] # range of random weights\n",
    "b_range = [0, 1] # range of random biases\n",
    "\n",
    "for i, kf_values in enumerate(kf.split(X_train, y_train)):\n",
    "#     print(f'train: {train_index}, val: {val_index}')\n",
    "    print('Validation: {}'.format(i + 1))\n",
    "    train_index, val_index = kf_values\n",
    "    X_val_train, X_val_test = X_train[train_index], X_train[val_index]\n",
    "    y_val_train, y_val_test = y_train[train_index], y_train[val_index]\n",
    "    brvfl = BRVFL(n_node, w_range, b_range)\n",
    "    brvfl.train(X_val_train, y_val_train, n_class)\n",
    "    prediction = brvfl.predict(X_val_test, True)\n",
    "    acc = brvfl.eval(X_val_test, y_val_test)\n",
    "    print(f'Validation accuracy: {acc}')\n",
    "    val_acc.append(acc)\n",
    "    if acc >= max(val_acc):\n",
    "        max_index = train_index\n",
    "\n",
    "X_train, y_train = X_train[max_index], y_train[max_index]\n",
    "brvfl = BRVFL(n_node, w_range, b_range)\n",
    "brvfl.train(X_train, y_train, n_class)\n",
    "prediction = brvfl.predict(X_test, True)\n",
    "acc = brvfl.eval(X_test, y_test)\n",
    "print(f'\\nTest accuracy: {acc}')"
   ]
  },
  {
   "cell_type": "code",
   "execution_count": 2,
   "metadata": {},
   "outputs": [
    {
     "name": "stdout",
     "output_type": "stream",
     "text": [
      "Validation: 1\n"
     ]
    },
    {
     "data": {
      "text/html": [
       "\n",
       "    <div>\n",
       "        <style>\n",
       "            /* Turns off some styling */\n",
       "            progress {\n",
       "                /* gets rid of default border in Firefox and Opera. */\n",
       "                border: none;\n",
       "                /* Needs to be in here for Safari polyfill so background images work as expected. */\n",
       "                background-size: auto;\n",
       "            }\n",
       "            .progress-bar-interrupted, .progress-bar-interrupted::-webkit-progress-bar {\n",
       "                background: #F44336;\n",
       "            }\n",
       "        </style>\n",
       "      <progress value='5001' class='' max='5001' style='width:300px; height:20px; vertical-align: middle;'></progress>\n",
       "      100.00% [5001/5001 01:44<00:00 logp = 1.2084e+05, ||grad|| = 40,917]\n",
       "    </div>\n",
       "    "
      ],
      "text/plain": [
       "<IPython.core.display.HTML object>"
      ]
     },
     "metadata": {},
     "output_type": "display_data"
    },
    {
     "name": "stderr",
     "output_type": "stream",
     "text": [
      "\n"
     ]
    },
    {
     "name": "stdout",
     "output_type": "stream",
     "text": [
      "\n",
      "Convergence after  16  iterations\n",
      "Validation accuracy: 0.9051724137931034\n",
      "Validation: 2\n"
     ]
    },
    {
     "data": {
      "text/html": [
       "\n",
       "    <div>\n",
       "        <style>\n",
       "            /* Turns off some styling */\n",
       "            progress {\n",
       "                /* gets rid of default border in Firefox and Opera. */\n",
       "                border: none;\n",
       "                /* Needs to be in here for Safari polyfill so background images work as expected. */\n",
       "                background-size: auto;\n",
       "            }\n",
       "            .progress-bar-interrupted, .progress-bar-interrupted::-webkit-progress-bar {\n",
       "                background: #F44336;\n",
       "            }\n",
       "        </style>\n",
       "      <progress value='5001' class='' max='5001' style='width:300px; height:20px; vertical-align: middle;'></progress>\n",
       "      100.00% [5001/5001 01:42<00:00 logp = 1.2142e+05, ||grad|| = 99,491]\n",
       "    </div>\n",
       "    "
      ],
      "text/plain": [
       "<IPython.core.display.HTML object>"
      ]
     },
     "metadata": {},
     "output_type": "display_data"
    },
    {
     "name": "stderr",
     "output_type": "stream",
     "text": [
      "\n"
     ]
    },
    {
     "name": "stdout",
     "output_type": "stream",
     "text": [
      "\n",
      "Convergence after  16  iterations\n",
      "Validation accuracy: 0.8793103448275862\n",
      "Validation: 3\n"
     ]
    },
    {
     "data": {
      "text/html": [
       "\n",
       "    <div>\n",
       "        <style>\n",
       "            /* Turns off some styling */\n",
       "            progress {\n",
       "                /* gets rid of default border in Firefox and Opera. */\n",
       "                border: none;\n",
       "                /* Needs to be in here for Safari polyfill so background images work as expected. */\n",
       "                background-size: auto;\n",
       "            }\n",
       "            .progress-bar-interrupted, .progress-bar-interrupted::-webkit-progress-bar {\n",
       "                background: #F44336;\n",
       "            }\n",
       "        </style>\n",
       "      <progress value='5001' class='' max='5001' style='width:300px; height:20px; vertical-align: middle;'></progress>\n",
       "      100.00% [5001/5001 01:41<00:00 logp = 1.2189e+05, ||grad|| = 47,994]\n",
       "    </div>\n",
       "    "
      ],
      "text/plain": [
       "<IPython.core.display.HTML object>"
      ]
     },
     "metadata": {},
     "output_type": "display_data"
    },
    {
     "name": "stderr",
     "output_type": "stream",
     "text": [
      "\n"
     ]
    },
    {
     "name": "stdout",
     "output_type": "stream",
     "text": [
      "\n",
      "Convergence after  15  iterations\n",
      "Validation accuracy: 0.9391304347826087\n",
      "Validation: 4\n"
     ]
    },
    {
     "data": {
      "text/html": [
       "\n",
       "    <div>\n",
       "        <style>\n",
       "            /* Turns off some styling */\n",
       "            progress {\n",
       "                /* gets rid of default border in Firefox and Opera. */\n",
       "                border: none;\n",
       "                /* Needs to be in here for Safari polyfill so background images work as expected. */\n",
       "                background-size: auto;\n",
       "            }\n",
       "            .progress-bar-interrupted, .progress-bar-interrupted::-webkit-progress-bar {\n",
       "                background: #F44336;\n",
       "            }\n",
       "        </style>\n",
       "      <progress value='5001' class='' max='5001' style='width:300px; height:20px; vertical-align: middle;'></progress>\n",
       "      100.00% [5001/5001 01:38<00:00 logp = 1.1994e+05, ||grad|| = 47,417]\n",
       "    </div>\n",
       "    "
      ],
      "text/plain": [
       "<IPython.core.display.HTML object>"
      ]
     },
     "metadata": {},
     "output_type": "display_data"
    },
    {
     "name": "stderr",
     "output_type": "stream",
     "text": [
      "\n"
     ]
    },
    {
     "name": "stdout",
     "output_type": "stream",
     "text": [
      "\n",
      "Convergence after  16  iterations\n",
      "Validation accuracy: 0.9565217391304348\n",
      "Validation: 5\n"
     ]
    },
    {
     "data": {
      "text/html": [
       "\n",
       "    <div>\n",
       "        <style>\n",
       "            /* Turns off some styling */\n",
       "            progress {\n",
       "                /* gets rid of default border in Firefox and Opera. */\n",
       "                border: none;\n",
       "                /* Needs to be in here for Safari polyfill so background images work as expected. */\n",
       "                background-size: auto;\n",
       "            }\n",
       "            .progress-bar-interrupted, .progress-bar-interrupted::-webkit-progress-bar {\n",
       "                background: #F44336;\n",
       "            }\n",
       "        </style>\n",
       "      <progress value='5001' class='' max='5001' style='width:300px; height:20px; vertical-align: middle;'></progress>\n",
       "      100.00% [5001/5001 01:32<00:00 logp = 1.2243e+05, ||grad|| = 52,652]\n",
       "    </div>\n",
       "    "
      ],
      "text/plain": [
       "<IPython.core.display.HTML object>"
      ]
     },
     "metadata": {},
     "output_type": "display_data"
    },
    {
     "name": "stderr",
     "output_type": "stream",
     "text": [
      "\n"
     ]
    },
    {
     "name": "stdout",
     "output_type": "stream",
     "text": [
      "\n",
      "Convergence after  16  iterations\n",
      "Validation accuracy: 0.9217391304347826\n",
      "Validation: 6\n"
     ]
    },
    {
     "data": {
      "text/html": [
       "\n",
       "    <div>\n",
       "        <style>\n",
       "            /* Turns off some styling */\n",
       "            progress {\n",
       "                /* gets rid of default border in Firefox and Opera. */\n",
       "                border: none;\n",
       "                /* Needs to be in here for Safari polyfill so background images work as expected. */\n",
       "                background-size: auto;\n",
       "            }\n",
       "            .progress-bar-interrupted, .progress-bar-interrupted::-webkit-progress-bar {\n",
       "                background: #F44336;\n",
       "            }\n",
       "        </style>\n",
       "      <progress value='5001' class='' max='5001' style='width:300px; height:20px; vertical-align: middle;'></progress>\n",
       "      100.00% [5001/5001 01:33<00:00 logp = 1.2101e+05, ||grad|| = 56,568]\n",
       "    </div>\n",
       "    "
      ],
      "text/plain": [
       "<IPython.core.display.HTML object>"
      ]
     },
     "metadata": {},
     "output_type": "display_data"
    },
    {
     "name": "stderr",
     "output_type": "stream",
     "text": [
      "\n"
     ]
    },
    {
     "name": "stdout",
     "output_type": "stream",
     "text": [
      "\n",
      "Convergence after  16  iterations\n",
      "Validation accuracy: 0.8782608695652174\n",
      "Validation: 7\n"
     ]
    },
    {
     "data": {
      "text/html": [
       "\n",
       "    <div>\n",
       "        <style>\n",
       "            /* Turns off some styling */\n",
       "            progress {\n",
       "                /* gets rid of default border in Firefox and Opera. */\n",
       "                border: none;\n",
       "                /* Needs to be in here for Safari polyfill so background images work as expected. */\n",
       "                background-size: auto;\n",
       "            }\n",
       "            .progress-bar-interrupted, .progress-bar-interrupted::-webkit-progress-bar {\n",
       "                background: #F44336;\n",
       "            }\n",
       "        </style>\n",
       "      <progress value='5001' class='' max='5001' style='width:300px; height:20px; vertical-align: middle;'></progress>\n",
       "      100.00% [5001/5001 01:32<00:00 logp = 1.215e+05, ||grad|| = 43,579]\n",
       "    </div>\n",
       "    "
      ],
      "text/plain": [
       "<IPython.core.display.HTML object>"
      ]
     },
     "metadata": {},
     "output_type": "display_data"
    },
    {
     "name": "stderr",
     "output_type": "stream",
     "text": [
      "\n"
     ]
    },
    {
     "name": "stdout",
     "output_type": "stream",
     "text": [
      "\n",
      "Convergence after  16  iterations\n",
      "Validation accuracy: 0.9043478260869565\n",
      "Validation: 8\n"
     ]
    },
    {
     "data": {
      "text/html": [
       "\n",
       "    <div>\n",
       "        <style>\n",
       "            /* Turns off some styling */\n",
       "            progress {\n",
       "                /* gets rid of default border in Firefox and Opera. */\n",
       "                border: none;\n",
       "                /* Needs to be in here for Safari polyfill so background images work as expected. */\n",
       "                background-size: auto;\n",
       "            }\n",
       "            .progress-bar-interrupted, .progress-bar-interrupted::-webkit-progress-bar {\n",
       "                background: #F44336;\n",
       "            }\n",
       "        </style>\n",
       "      <progress value='5001' class='' max='5001' style='width:300px; height:20px; vertical-align: middle;'></progress>\n",
       "      100.00% [5001/5001 01:31<00:00 logp = 1.21e+05, ||grad|| = 96,809]\n",
       "    </div>\n",
       "    "
      ],
      "text/plain": [
       "<IPython.core.display.HTML object>"
      ]
     },
     "metadata": {},
     "output_type": "display_data"
    },
    {
     "name": "stderr",
     "output_type": "stream",
     "text": [
      "\n"
     ]
    },
    {
     "name": "stdout",
     "output_type": "stream",
     "text": [
      "\n",
      "Convergence after  16  iterations\n",
      "Validation accuracy: 0.9130434782608695\n",
      "Validation: 9\n"
     ]
    },
    {
     "data": {
      "text/html": [
       "\n",
       "    <div>\n",
       "        <style>\n",
       "            /* Turns off some styling */\n",
       "            progress {\n",
       "                /* gets rid of default border in Firefox and Opera. */\n",
       "                border: none;\n",
       "                /* Needs to be in here for Safari polyfill so background images work as expected. */\n",
       "                background-size: auto;\n",
       "            }\n",
       "            .progress-bar-interrupted, .progress-bar-interrupted::-webkit-progress-bar {\n",
       "                background: #F44336;\n",
       "            }\n",
       "        </style>\n",
       "      <progress value='1012' class='' max='1012' style='width:300px; height:20px; vertical-align: middle;'></progress>\n",
       "      100.00% [1012/1012 00:19<00:00 logp = 1.1362e+05, ||grad|| = 598.31]\n",
       "    </div>\n",
       "    "
      ],
      "text/plain": [
       "<IPython.core.display.HTML object>"
      ]
     },
     "metadata": {},
     "output_type": "display_data"
    },
    {
     "name": "stdout",
     "output_type": "stream",
     "text": [
      "\n",
      "Convergence after  16  iterations\n",
      "Validation accuracy: 0.9652173913043478\n",
      "Validation: 10\n"
     ]
    },
    {
     "data": {
      "text/html": [
       "\n",
       "    <div>\n",
       "        <style>\n",
       "            /* Turns off some styling */\n",
       "            progress {\n",
       "                /* gets rid of default border in Firefox and Opera. */\n",
       "                border: none;\n",
       "                /* Needs to be in here for Safari polyfill so background images work as expected. */\n",
       "                background-size: auto;\n",
       "            }\n",
       "            .progress-bar-interrupted, .progress-bar-interrupted::-webkit-progress-bar {\n",
       "                background: #F44336;\n",
       "            }\n",
       "        </style>\n",
       "      <progress value='5001' class='' max='5001' style='width:300px; height:20px; vertical-align: middle;'></progress>\n",
       "      100.00% [5001/5001 01:34<00:00 logp = 1.2199e+05, ||grad|| = 44,500]\n",
       "    </div>\n",
       "    "
      ],
      "text/plain": [
       "<IPython.core.display.HTML object>"
      ]
     },
     "metadata": {},
     "output_type": "display_data"
    },
    {
     "name": "stderr",
     "output_type": "stream",
     "text": [
      "\n"
     ]
    },
    {
     "name": "stdout",
     "output_type": "stream",
     "text": [
      "\n",
      "Convergence after  16  iterations\n",
      "Validation accuracy: 0.9043478260869565\n"
     ]
    },
    {
     "data": {
      "text/html": [
       "\n",
       "    <div>\n",
       "        <style>\n",
       "            /* Turns off some styling */\n",
       "            progress {\n",
       "                /* gets rid of default border in Firefox and Opera. */\n",
       "                border: none;\n",
       "                /* Needs to be in here for Safari polyfill so background images work as expected. */\n",
       "                background-size: auto;\n",
       "            }\n",
       "            .progress-bar-interrupted, .progress-bar-interrupted::-webkit-progress-bar {\n",
       "                background: #F44336;\n",
       "            }\n",
       "        </style>\n",
       "      <progress value='5001' class='' max='5001' style='width:300px; height:20px; vertical-align: middle;'></progress>\n",
       "      100.00% [5001/5001 01:31<00:00 logp = 1.2117e+05, ||grad|| = 70,954]\n",
       "    </div>\n",
       "    "
      ],
      "text/plain": [
       "<IPython.core.display.HTML object>"
      ]
     },
     "metadata": {},
     "output_type": "display_data"
    },
    {
     "name": "stderr",
     "output_type": "stream",
     "text": [
      "\n"
     ]
    },
    {
     "name": "stdout",
     "output_type": "stream",
     "text": [
      "\n",
      "Convergence after  16  iterations\n",
      "\n",
      "Test accuracy: 0.8645833333333334\n"
     ]
    }
   ],
   "source": [
    "# BdRVFL\n",
    "\n",
    "n_node = 10 # num of nodes in hidden layer\n",
    "n_layer = 5 # num of hidden layers\n",
    "w_range = [-1, 1] # range of random weights\n",
    "b_range = [0, 1] # range of random biases\n",
    "\n",
    "for i, kf_values in enumerate(kf.split(X_train, y_train)):\n",
    "#     print(f'train: {train_index}, val: {val_index}')\n",
    "    print('Validation: {}'.format(i + 1))\n",
    "    train_index, val_index = kf_values\n",
    "    X_val_train, X_val_test = X_train[train_index], X_train[val_index]\n",
    "    y_val_train, y_val_test = y_train[train_index], y_train[val_index]\n",
    "    model = BayesianDeepRVFL(n_node, w_range, b_range, n_layer)\n",
    "    model.train(X_val_train, y_val_train, n_class)\n",
    "    prediction = model.predict(X_val_test, True)\n",
    "    acc = model.eval(X_val_test, y_val_test)\n",
    "    print(f'Validation accuracy: {acc}')\n",
    "    val_acc.append(acc)\n",
    "    if acc >= max(val_acc):\n",
    "        max_index = train_index\n",
    "\n",
    "X_train, y_train = X_train[max_index], y_train[max_index]\n",
    "model = BayesianDeepRVFL(n_node, w_range, b_range, n_layer)\n",
    "model.train(X_train, y_train, n_class)\n",
    "prediction = model.predict(X_test, True)\n",
    "acc = model.eval(X_test, y_test)\n",
    "print(f'\\nTest accuracy: {acc}')"
   ]
  },
  {
   "cell_type": "code",
   "execution_count": 2,
   "metadata": {},
   "outputs": [
    {
     "data": {
      "text/html": [
       "\n",
       "    <div>\n",
       "        <style>\n",
       "            /* Turns off some styling */\n",
       "            progress {\n",
       "                /* gets rid of default border in Firefox and Opera. */\n",
       "                border: none;\n",
       "                /* Needs to be in here for Safari polyfill so background images work as expected. */\n",
       "                background-size: auto;\n",
       "            }\n",
       "            .progress-bar-interrupted, .progress-bar-interrupted::-webkit-progress-bar {\n",
       "                background: #F44336;\n",
       "            }\n",
       "        </style>\n",
       "      <progress value='5001' class='' max='5001' style='width:300px; height:20px; vertical-align: middle;'></progress>\n",
       "      100.00% [5001/5001 01:45<00:00 logp = 1.107e+05, ||grad|| = 61,797]\n",
       "    </div>\n",
       "    "
      ],
      "text/plain": [
       "<IPython.core.display.HTML object>"
      ]
     },
     "metadata": {},
     "output_type": "display_data"
    },
    {
     "name": "stderr",
     "output_type": "stream",
     "text": [
      "\n"
     ]
    },
    {
     "name": "stdout",
     "output_type": "stream",
     "text": [
      "\n",
      "Convergence after  17  iterations\n"
     ]
    },
    {
     "data": {
      "text/html": [
       "\n",
       "    <div>\n",
       "        <style>\n",
       "            /* Turns off some styling */\n",
       "            progress {\n",
       "                /* gets rid of default border in Firefox and Opera. */\n",
       "                border: none;\n",
       "                /* Needs to be in here for Safari polyfill so background images work as expected. */\n",
       "                background-size: auto;\n",
       "            }\n",
       "            .progress-bar-interrupted, .progress-bar-interrupted::-webkit-progress-bar {\n",
       "                background: #F44336;\n",
       "            }\n",
       "        </style>\n",
       "      <progress value='5001' class='' max='5001' style='width:300px; height:20px; vertical-align: middle;'></progress>\n",
       "      100.00% [5001/5001 01:49<00:00 logp = 1.133e+05, ||grad|| = 6,643.7]\n",
       "    </div>\n",
       "    "
      ],
      "text/plain": [
       "<IPython.core.display.HTML object>"
      ]
     },
     "metadata": {},
     "output_type": "display_data"
    },
    {
     "name": "stderr",
     "output_type": "stream",
     "text": [
      "\n"
     ]
    },
    {
     "name": "stdout",
     "output_type": "stream",
     "text": [
      "\n",
      "Convergence after  16  iterations\n"
     ]
    },
    {
     "data": {
      "text/html": [
       "\n",
       "    <div>\n",
       "        <style>\n",
       "            /* Turns off some styling */\n",
       "            progress {\n",
       "                /* gets rid of default border in Firefox and Opera. */\n",
       "                border: none;\n",
       "                /* Needs to be in here for Safari polyfill so background images work as expected. */\n",
       "                background-size: auto;\n",
       "            }\n",
       "            .progress-bar-interrupted, .progress-bar-interrupted::-webkit-progress-bar {\n",
       "                background: #F44336;\n",
       "            }\n",
       "        </style>\n",
       "      <progress value='5001' class='' max='5001' style='width:300px; height:20px; vertical-align: middle;'></progress>\n",
       "      100.00% [5001/5001 01:23<00:00 logp = 1.1333e+05, ||grad|| = 7,789.3]\n",
       "    </div>\n",
       "    "
      ],
      "text/plain": [
       "<IPython.core.display.HTML object>"
      ]
     },
     "metadata": {},
     "output_type": "display_data"
    },
    {
     "name": "stderr",
     "output_type": "stream",
     "text": [
      "\n"
     ]
    },
    {
     "name": "stdout",
     "output_type": "stream",
     "text": [
      "\n",
      "Convergence after  17  iterations\n"
     ]
    },
    {
     "data": {
      "text/html": [
       "\n",
       "    <div>\n",
       "        <style>\n",
       "            /* Turns off some styling */\n",
       "            progress {\n",
       "                /* gets rid of default border in Firefox and Opera. */\n",
       "                border: none;\n",
       "                /* Needs to be in here for Safari polyfill so background images work as expected. */\n",
       "                background-size: auto;\n",
       "            }\n",
       "            .progress-bar-interrupted, .progress-bar-interrupted::-webkit-progress-bar {\n",
       "                background: #F44336;\n",
       "            }\n",
       "        </style>\n",
       "      <progress value='5001' class='' max='5001' style='width:300px; height:20px; vertical-align: middle;'></progress>\n",
       "      100.00% [5001/5001 01:50<00:00 logp = 1.1271e+05, ||grad|| = 4,960.8]\n",
       "    </div>\n",
       "    "
      ],
      "text/plain": [
       "<IPython.core.display.HTML object>"
      ]
     },
     "metadata": {},
     "output_type": "display_data"
    },
    {
     "name": "stderr",
     "output_type": "stream",
     "text": [
      "\n"
     ]
    },
    {
     "name": "stdout",
     "output_type": "stream",
     "text": [
      "\n",
      "Convergence after  17  iterations\n"
     ]
    },
    {
     "data": {
      "text/html": [
       "\n",
       "    <div>\n",
       "        <style>\n",
       "            /* Turns off some styling */\n",
       "            progress {\n",
       "                /* gets rid of default border in Firefox and Opera. */\n",
       "                border: none;\n",
       "                /* Needs to be in here for Safari polyfill so background images work as expected. */\n",
       "                background-size: auto;\n",
       "            }\n",
       "            .progress-bar-interrupted, .progress-bar-interrupted::-webkit-progress-bar {\n",
       "                background: #F44336;\n",
       "            }\n",
       "        </style>\n",
       "      <progress value='5001' class='' max='5001' style='width:300px; height:20px; vertical-align: middle;'></progress>\n",
       "      100.00% [5001/5001 01:43<00:00 logp = 1.1288e+05, ||grad|| = 7,603.7]\n",
       "    </div>\n",
       "    "
      ],
      "text/plain": [
       "<IPython.core.display.HTML object>"
      ]
     },
     "metadata": {},
     "output_type": "display_data"
    },
    {
     "name": "stderr",
     "output_type": "stream",
     "text": [
      "\n"
     ]
    },
    {
     "name": "stdout",
     "output_type": "stream",
     "text": [
      "\n",
      "Convergence after  17  iterations\n",
      "\n",
      "Test accuracy: 0.9201388888888888\n"
     ]
    }
   ],
   "source": [
    "# BedRVFL\n",
    "\n",
    "n_node = 10 # num of nodes in hidden layer\n",
    "n_layer = 5 # num of hidden layers\n",
    "w_range = [-1, 1] # range of random weights\n",
    "b_range = [0, 1] # range of random biases\n",
    "\n",
    "# for i, kf_values in enumerate(kf.split(X_train, y_train)):\n",
    "# #     print(f'train: {train_index}, val: {val_index}')\n",
    "#     print('Validation: {}'.format(i + 1))\n",
    "#     train_index, val_index = kf_values\n",
    "#     X_val_train, X_val_test = X_train[train_index], X_train[val_index]\n",
    "#     y_val_train, y_val_test = y_train[train_index], y_train[val_index]\n",
    "#     model = BayesianEnsembleDeepRVFL(n_node, w_range, b_range, n_layer)\n",
    "#     model.train(X_val_train, y_val_train, n_class)\n",
    "#     prediction = model.predict(X_val_test, False)\n",
    "#     acc = model.eval(X_val_test, y_val_test)\n",
    "#     print(f'Validation accuracy: {acc}')\n",
    "#     val_acc.append(acc)\n",
    "#     if acc >= max(val_acc):\n",
    "#         max_index = train_index\n",
    "\n",
    "# X_train, y_train = X_train[max_index], y_train[max_index]\n",
    "model = BayesianEnsembleDeepRVFL(n_node, w_range, b_range, n_layer)\n",
    "model.train(X_train, y_train, n_class)\n",
    "prediction = model.predict(X_test, False)\n",
    "acc = model.eval(X_test, y_test)\n",
    "print(f'\\nTest accuracy: {acc}')"
   ]
  },
  {
   "cell_type": "code",
   "execution_count": null,
   "metadata": {},
   "outputs": [],
   "source": []
  }
 ],
 "metadata": {
  "interpreter": {
   "hash": "d29531488e2b7bac10af08b59c5a0d1dca9077738f8661c2e75b8529990c25ab"
  },
  "kernelspec": {
   "display_name": "Python 3.8.8 64-bit ('base': conda)",
   "name": "python3"
  },
  "language_info": {
   "codemirror_mode": {
    "name": "ipython",
    "version": 3
   },
   "file_extension": ".py",
   "mimetype": "text/x-python",
   "name": "python",
   "nbconvert_exporter": "python",
   "pygments_lexer": "ipython3",
   "version": "3.8.8"
  },
  "orig_nbformat": 4
 },
 "nbformat": 4,
 "nbformat_minor": 2
}
