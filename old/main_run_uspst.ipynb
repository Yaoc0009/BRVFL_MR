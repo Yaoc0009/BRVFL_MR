{
 "cells": [
  {
   "cell_type": "code",
   "execution_count": 4,
   "id": "3ffac3e1",
   "metadata": {},
   "outputs": [
    {
     "name": "stdout",
     "output_type": "stream",
     "text": [
      "running ELM...\n",
      "Unlab:  0.5563944177533745 ± 0.04736034704698814\n",
      "Val:  0.5666666666666665 ± 0.08178562764256864\n",
      "Test:  0.5249330655957163 ± 0.04164313889799253\n",
      "Lambda:  10\n",
      "Train time:  1.6028014421463013\n",
      "running RVFL...\n",
      "Unlab:  0.5458705101807365 ± 0.012792293350669674\n",
      "Val:  0.5800000000000001 ± 0.05944184833375669\n",
      "Test:  0.5523761713520748 ± 0.03196555826920495\n",
      "Lambda:  1000\n",
      "Train time:  1.6533947090307872\n",
      "running Laplacian RVFL...\n",
      "Unlab:  0.6297757950125829 ± 0.029553182785471532\n",
      "Val:  0.6716666666666667 ± 0.059137316664033907\n",
      "Test:  0.6589692101740294 ± 0.030572614301497415\n",
      "Lambda:  [10, 0.01]\n",
      "Train time:  4.110918710629146\n",
      "running ELM...\n",
      "Unlab:  0.611340206185567 ± 0.09345246939913851\n",
      "Val:  0.6499999999999999 ± 0.10847426730181986\n",
      "Test:  0.6146251673360107 ± 0.10250624867062898\n",
      "Lambda:  10\n",
      "Train time:  1.0575900077819824\n",
      "running RVFL...\n",
      "Unlab:  0.5647766323024056 ± 0.04413645335996365\n",
      "Val:  0.5966666666666668 ± 0.05587684871413401\n",
      "Test:  0.5694444444444444 ± 0.0484740393034621\n",
      "Lambda:  0.1\n",
      "Train time:  1.1589930752913158\n",
      "running Laplacian RVFL...\n",
      "Unlab:  0.6723940435280641 ± 0.0662700815663853\n",
      "Val:  0.6549999999999999 ± 0.08210765291169066\n",
      "Test:  0.6347054886211514 ± 0.07779864877677159\n",
      "Lambda:  [1000, 0.1]\n",
      "Train time:  2.9014227092266083\n",
      "running ELM...\n",
      "Unlab:  0.6417987594762233 ± 0.07406740084523113\n",
      "Val:  0.6583333333333333 ± 0.0884904263497219\n",
      "Test:  0.6320281124497992 ± 0.07801286656279095\n",
      "Lambda:  0.001\n",
      "Train time:  1.0753601392110188\n",
      "running RVFL...\n",
      "Unlab:  0.6512749827705031 ± 0.05220812391028456\n",
      "Val:  0.645 ± 0.08911602923529902\n",
      "Test:  0.6348728246318607 ± 0.06072337704534308\n",
      "Lambda:  1e-06\n",
      "Train time:  1.1315118769804637\n",
      "running Laplacian RVFL...\n",
      "Unlab:  0.6476567884217781 ± 0.0466857903679244\n",
      "Val:  0.7066666666666666 ± 0.07039570693980957\n",
      "Test:  0.6931057563587685 ± 0.041142885590431374\n",
      "Lambda:  [1, 0.1]\n",
      "Train time:  2.8953744570414224\n",
      "running ELM...\n",
      "Unlab:  0.7466504966504967 ± 0.026876246507874388\n",
      "Val:  0.6999999999999998 ± 0.04690415759823429\n",
      "Test:  0.6999665327978581 ± 0.035624496551990896\n",
      "Lambda:  0.1\n",
      "Train time:  1.1063994765281677\n",
      "running RVFL...\n",
      "Unlab:  0.7034534534534536 ± 0.0625683165729434\n",
      "Val:  0.745 ± 0.0606217782649107\n",
      "Test:  0.6981258366800537 ± 0.058774734132599815\n",
      "Lambda:  10\n",
      "Train time:  1.14893971880277\n",
      "running Laplacian RVFL...\n"
     ]
    },
    {
     "ename": "KeyboardInterrupt",
     "evalue": "",
     "output_type": "error",
     "traceback": [
      "\u001b[0;31m---------------------------------------------------------------------------\u001b[0m",
      "\u001b[0;31mKeyboardInterrupt\u001b[0m                         Traceback (most recent call last)",
      "\u001b[0;32m/tmp/ipykernel_1349/2685328193.py\u001b[0m in \u001b[0;36m<module>\u001b[0;34m\u001b[0m\n\u001b[1;32m     14\u001b[0m     \u001b[0mrun_ELM\u001b[0m\u001b[0;34m(\u001b[0m\u001b[0mdata\u001b[0m\u001b[0;34m,\u001b[0m \u001b[0mlabel\u001b[0m\u001b[0;34m,\u001b[0m \u001b[0mn_class\u001b[0m\u001b[0;34m,\u001b[0m \u001b[0mpartition\u001b[0m\u001b[0;34m)\u001b[0m\u001b[0;34m\u001b[0m\u001b[0;34m\u001b[0m\u001b[0m\n\u001b[1;32m     15\u001b[0m     \u001b[0mrun_RVFL\u001b[0m\u001b[0;34m(\u001b[0m\u001b[0mdata\u001b[0m\u001b[0;34m,\u001b[0m \u001b[0mlabel\u001b[0m\u001b[0;34m,\u001b[0m \u001b[0mn_class\u001b[0m\u001b[0;34m,\u001b[0m \u001b[0mpartition\u001b[0m\u001b[0;34m)\u001b[0m\u001b[0;34m\u001b[0m\u001b[0;34m\u001b[0m\u001b[0m\n\u001b[0;32m---> 16\u001b[0;31m     \u001b[0mrun_LapRVFL\u001b[0m\u001b[0;34m(\u001b[0m\u001b[0mdata\u001b[0m\u001b[0;34m,\u001b[0m \u001b[0mlabel\u001b[0m\u001b[0;34m,\u001b[0m \u001b[0mn_class\u001b[0m\u001b[0;34m,\u001b[0m \u001b[0mpartition\u001b[0m\u001b[0;34m,\u001b[0m \u001b[0mNN\u001b[0m\u001b[0;34m)\u001b[0m\u001b[0;34m\u001b[0m\u001b[0;34m\u001b[0m\u001b[0m\n\u001b[0m",
      "\u001b[0;32m~/FYP/run_SS_helpers.py\u001b[0m in \u001b[0;36mrun_LapRVFL\u001b[0;34m(data, label, n_class, partition, NN)\u001b[0m\n\u001b[1;32m    290\u001b[0m     \u001b[0mval\u001b[0m \u001b[0;34m=\u001b[0m \u001b[0;34m[\u001b[0m\u001b[0;34m]\u001b[0m\u001b[0;34m\u001b[0m\u001b[0;34m\u001b[0m\u001b[0m\n\u001b[1;32m    291\u001b[0m     \u001b[0mtest\u001b[0m \u001b[0;34m=\u001b[0m \u001b[0;34m[\u001b[0m\u001b[0;34m]\u001b[0m\u001b[0;34m\u001b[0m\u001b[0;34m\u001b[0m\u001b[0m\n\u001b[0;32m--> 292\u001b[0;31m     \u001b[0mt\u001b[0m \u001b[0;34m=\u001b[0m \u001b[0;34m[\u001b[0m\u001b[0;34m]\u001b[0m\u001b[0;34m\u001b[0m\u001b[0;34m\u001b[0m\u001b[0m\n\u001b[0m\u001b[1;32m    293\u001b[0m     \u001b[0;32mfor\u001b[0m \u001b[0mi\u001b[0m\u001b[0;34m,\u001b[0m \u001b[0mlam\u001b[0m \u001b[0;32min\u001b[0m \u001b[0menumerate\u001b[0m\u001b[0;34m(\u001b[0m\u001b[0mlap_lams\u001b[0m\u001b[0;34m)\u001b[0m\u001b[0;34m:\u001b[0m\u001b[0;34m\u001b[0m\u001b[0;34m\u001b[0m\u001b[0m\n\u001b[1;32m    294\u001b[0m         \u001b[0munlab_acc\u001b[0m\u001b[0;34m,\u001b[0m \u001b[0mval_acc\u001b[0m\u001b[0;34m,\u001b[0m \u001b[0mtest_acc\u001b[0m\u001b[0;34m,\u001b[0m \u001b[0mtrain_time\u001b[0m \u001b[0;34m=\u001b[0m \u001b[0mrun_SS\u001b[0m\u001b[0;34m(\u001b[0m\u001b[0mdata\u001b[0m\u001b[0;34m,\u001b[0m \u001b[0mlabel\u001b[0m\u001b[0;34m,\u001b[0m \u001b[0mn_class\u001b[0m\u001b[0;34m,\u001b[0m \u001b[0mmodel_class\u001b[0m\u001b[0;34m,\u001b[0m \u001b[0mpartition\u001b[0m\u001b[0;34m,\u001b[0m \u001b[0mNN\u001b[0m\u001b[0;34m,\u001b[0m \u001b[0mlam\u001b[0m\u001b[0;34m=\u001b[0m\u001b[0mlam\u001b[0m\u001b[0;34m,\u001b[0m \u001b[0mn_layer\u001b[0m\u001b[0;34m=\u001b[0m\u001b[0;36m1\u001b[0m\u001b[0;34m,\u001b[0m \u001b[0mactivation\u001b[0m\u001b[0;34m=\u001b[0m\u001b[0;34m'sigmoid'\u001b[0m\u001b[0;34m)\u001b[0m\u001b[0;34m\u001b[0m\u001b[0;34m\u001b[0m\u001b[0m\n",
      "\u001b[0;32m~/FYP/run_SS_helpers.py\u001b[0m in \u001b[0;36mrun_SS\u001b[0;34m(data, label, n_class, model_class, partition, NN, lam, n_layer, activation)\u001b[0m\n\u001b[1;32m     99\u001b[0m                 \u001b[0mX_train\u001b[0m\u001b[0;34m,\u001b[0m \u001b[0my_train\u001b[0m \u001b[0;34m=\u001b[0m \u001b[0mnp\u001b[0m\u001b[0;34m.\u001b[0m\u001b[0mvstack\u001b[0m\u001b[0;34m(\u001b[0m\u001b[0;34m[\u001b[0m\u001b[0mX_lab\u001b[0m\u001b[0;34m,\u001b[0m \u001b[0mX_unlab\u001b[0m\u001b[0;34m]\u001b[0m\u001b[0;34m)\u001b[0m\u001b[0;34m,\u001b[0m \u001b[0mnp\u001b[0m\u001b[0;34m.\u001b[0m\u001b[0mappend\u001b[0m\u001b[0;34m(\u001b[0m\u001b[0my_lab\u001b[0m\u001b[0;34m,\u001b[0m \u001b[0;34m[\u001b[0m\u001b[0;32mFalse\u001b[0m\u001b[0;34m]\u001b[0m\u001b[0;34m*\u001b[0m\u001b[0mlen\u001b[0m\u001b[0;34m(\u001b[0m\u001b[0my_unlab\u001b[0m\u001b[0;34m)\u001b[0m\u001b[0;34m,\u001b[0m \u001b[0;36m0\u001b[0m\u001b[0;34m)\u001b[0m\u001b[0;34m\u001b[0m\u001b[0;34m\u001b[0m\u001b[0m\n\u001b[1;32m    100\u001b[0m             \u001b[0;31m# elif model_class in [BRVFL, BDeepRVFL, BEnsembleDeepRVFL]:\u001b[0m\u001b[0;34m\u001b[0m\u001b[0;34m\u001b[0m\u001b[0;34m\u001b[0m\u001b[0m\n\u001b[0;32m--> 101\u001b[0;31m             \u001b[0;31m#     model = model_class(n_node, lam, w_range, b_range, n_layer, tol=10**(-3), activation=activation)\u001b[0m\u001b[0;34m\u001b[0m\u001b[0;34m\u001b[0m\u001b[0;34m\u001b[0m\u001b[0m\n\u001b[0m\u001b[1;32m    102\u001b[0m             \u001b[0mmodel\u001b[0m\u001b[0;34m.\u001b[0m\u001b[0mtrain\u001b[0m\u001b[0;34m(\u001b[0m\u001b[0mX_train\u001b[0m\u001b[0;34m,\u001b[0m \u001b[0my_train\u001b[0m\u001b[0;34m,\u001b[0m \u001b[0mn_class\u001b[0m\u001b[0;34m)\u001b[0m\u001b[0;34m\u001b[0m\u001b[0;34m\u001b[0m\u001b[0m\n\u001b[1;32m    103\u001b[0m             \u001b[0mtrain_time\u001b[0m\u001b[0;34m.\u001b[0m\u001b[0mappend\u001b[0m\u001b[0;34m(\u001b[0m\u001b[0mtime\u001b[0m\u001b[0;34m(\u001b[0m\u001b[0;34m)\u001b[0m \u001b[0;34m-\u001b[0m \u001b[0mt\u001b[0m\u001b[0;34m)\u001b[0m\u001b[0;34m\u001b[0m\u001b[0;34m\u001b[0m\u001b[0m\n",
      "\u001b[0;32m~/FYP/models_SS.py\u001b[0m in \u001b[0;36mtrain\u001b[0;34m(self, data, label, n_class)\u001b[0m\n\u001b[1;32m    424\u001b[0m         \u001b[0mlabel_proportions\u001b[0m \u001b[0;34m=\u001b[0m \u001b[0mnp\u001b[0m\u001b[0;34m.\u001b[0m\u001b[0msum\u001b[0m\u001b[0;34m(\u001b[0m\u001b[0my\u001b[0m\u001b[0;34m,\u001b[0m \u001b[0maxis\u001b[0m\u001b[0;34m=\u001b[0m\u001b[0;36m0\u001b[0m\u001b[0;34m)\u001b[0m\u001b[0;34m\u001b[0m\u001b[0;34m\u001b[0m\u001b[0m\n\u001b[1;32m    425\u001b[0m         \u001b[0;32massert\u001b[0m \u001b[0msum\u001b[0m\u001b[0;34m(\u001b[0m\u001b[0mlabel_proportions\u001b[0m\u001b[0;34m)\u001b[0m \u001b[0;34m==\u001b[0m \u001b[0mlen\u001b[0m\u001b[0;34m(\u001b[0m\u001b[0mlabel\u001b[0m\u001b[0;34m)\u001b[0m\u001b[0;34m\u001b[0m\u001b[0;34m\u001b[0m\u001b[0m\n\u001b[0;32m--> 426\u001b[0;31m         \u001b[0mself\u001b[0m\u001b[0;34m.\u001b[0m\u001b[0mbeta\u001b[0m \u001b[0;34m=\u001b[0m \u001b[0mself\u001b[0m\u001b[0;34m.\u001b[0m\u001b[0mbeta_function\u001b[0m\u001b[0;34m(\u001b[0m\u001b[0md\u001b[0m\u001b[0;34m,\u001b[0m \u001b[0mself\u001b[0m\u001b[0;34m.\u001b[0m\u001b[0mL\u001b[0m\u001b[0;34m,\u001b[0m \u001b[0mself\u001b[0m\u001b[0;34m.\u001b[0m\u001b[0mC0\u001b[0m\u001b[0;34m,\u001b[0m \u001b[0mself\u001b[0m\u001b[0;34m.\u001b[0m\u001b[0mlam\u001b[0m\u001b[0;34m,\u001b[0m \u001b[0my\u001b[0m\u001b[0;34m,\u001b[0m \u001b[0mlabel\u001b[0m\u001b[0;34m,\u001b[0m \u001b[0mlabel_proportions\u001b[0m\u001b[0;34m)\u001b[0m\u001b[0;34m\u001b[0m\u001b[0;34m\u001b[0m\u001b[0m\n\u001b[0m\u001b[1;32m    427\u001b[0m \u001b[0;34m\u001b[0m\u001b[0m\n\u001b[1;32m    428\u001b[0m     \u001b[0;32mdef\u001b[0m \u001b[0mpredict\u001b[0m\u001b[0;34m(\u001b[0m\u001b[0mself\u001b[0m\u001b[0;34m,\u001b[0m \u001b[0mdata\u001b[0m\u001b[0;34m,\u001b[0m \u001b[0mraw_output\u001b[0m\u001b[0;34m=\u001b[0m\u001b[0;32mFalse\u001b[0m\u001b[0;34m)\u001b[0m\u001b[0;34m:\u001b[0m\u001b[0;34m\u001b[0m\u001b[0;34m\u001b[0m\u001b[0m\n",
      "\u001b[0;32m~/FYP/models_SS.py\u001b[0m in \u001b[0;36mbeta_function\u001b[0;34m(self, d, L, C0, lam, y, label, label_proportions)\u001b[0m\n\u001b[1;32m     45\u001b[0m             \u001b[0mI\u001b[0m \u001b[0;34m=\u001b[0m \u001b[0mnp\u001b[0m\u001b[0;34m.\u001b[0m\u001b[0midentity\u001b[0m\u001b[0;34m(\u001b[0m\u001b[0mn_sample\u001b[0m\u001b[0;34m)\u001b[0m\u001b[0;34m\u001b[0m\u001b[0;34m\u001b[0m\u001b[0m\n\u001b[1;32m     46\u001b[0m             \u001b[0minv_arg\u001b[0m \u001b[0;34m=\u001b[0m \u001b[0mI\u001b[0m \u001b[0;34m+\u001b[0m \u001b[0mnp\u001b[0m\u001b[0;34m.\u001b[0m\u001b[0mlinalg\u001b[0m\u001b[0;34m.\u001b[0m\u001b[0mmulti_dot\u001b[0m\u001b[0;34m(\u001b[0m\u001b[0;34m[\u001b[0m\u001b[0mC\u001b[0m\u001b[0;34m,\u001b[0m \u001b[0md\u001b[0m\u001b[0;34m,\u001b[0m \u001b[0md\u001b[0m\u001b[0;34m.\u001b[0m\u001b[0mT\u001b[0m\u001b[0;34m]\u001b[0m\u001b[0;34m)\u001b[0m \u001b[0;34m+\u001b[0m \u001b[0mlam\u001b[0m \u001b[0;34m*\u001b[0m \u001b[0mnp\u001b[0m\u001b[0;34m.\u001b[0m\u001b[0mlinalg\u001b[0m\u001b[0;34m.\u001b[0m\u001b[0mmulti_dot\u001b[0m\u001b[0;34m(\u001b[0m\u001b[0;34m[\u001b[0m\u001b[0mL\u001b[0m\u001b[0;34m,\u001b[0m \u001b[0md\u001b[0m\u001b[0;34m,\u001b[0m \u001b[0md\u001b[0m\u001b[0;34m.\u001b[0m\u001b[0mT\u001b[0m\u001b[0;34m]\u001b[0m\u001b[0;34m)\u001b[0m\u001b[0;34m\u001b[0m\u001b[0;34m\u001b[0m\u001b[0m\n\u001b[0;32m---> 47\u001b[0;31m             \u001b[0mbeta\u001b[0m \u001b[0;34m=\u001b[0m \u001b[0mnp\u001b[0m\u001b[0;34m.\u001b[0m\u001b[0mlinalg\u001b[0m\u001b[0;34m.\u001b[0m\u001b[0mmulti_dot\u001b[0m\u001b[0;34m(\u001b[0m\u001b[0;34m[\u001b[0m\u001b[0md\u001b[0m\u001b[0;34m.\u001b[0m\u001b[0mT\u001b[0m\u001b[0;34m,\u001b[0m \u001b[0mnp\u001b[0m\u001b[0;34m.\u001b[0m\u001b[0mlinalg\u001b[0m\u001b[0;34m.\u001b[0m\u001b[0minv\u001b[0m\u001b[0;34m(\u001b[0m\u001b[0minv_arg\u001b[0m\u001b[0;34m)\u001b[0m\u001b[0;34m,\u001b[0m \u001b[0mC\u001b[0m\u001b[0;34m,\u001b[0m \u001b[0my\u001b[0m\u001b[0;34m]\u001b[0m\u001b[0;34m)\u001b[0m\u001b[0;34m\u001b[0m\u001b[0;34m\u001b[0m\u001b[0m\n\u001b[0m\u001b[1;32m     48\u001b[0m         \u001b[0mbeta\u001b[0m \u001b[0;34m=\u001b[0m \u001b[0mnp\u001b[0m\u001b[0;34m.\u001b[0m\u001b[0masarray\u001b[0m\u001b[0;34m(\u001b[0m\u001b[0mbeta\u001b[0m\u001b[0;34m)\u001b[0m\u001b[0;34m\u001b[0m\u001b[0;34m\u001b[0m\u001b[0m\n\u001b[1;32m     49\u001b[0m         \u001b[0;32mreturn\u001b[0m \u001b[0mbeta\u001b[0m\u001b[0;34m\u001b[0m\u001b[0;34m\u001b[0m\u001b[0m\n",
      "\u001b[0;32m<__array_function__ internals>\u001b[0m in \u001b[0;36minv\u001b[0;34m(*args, **kwargs)\u001b[0m\n",
      "\u001b[0;32m~/pyenv/lib/python3.8/site-packages/numpy/linalg/linalg.py\u001b[0m in \u001b[0;36minv\u001b[0;34m(a)\u001b[0m\n\u001b[1;32m    543\u001b[0m     \u001b[0msignature\u001b[0m \u001b[0;34m=\u001b[0m \u001b[0;34m'D->D'\u001b[0m \u001b[0;32mif\u001b[0m \u001b[0misComplexType\u001b[0m\u001b[0;34m(\u001b[0m\u001b[0mt\u001b[0m\u001b[0;34m)\u001b[0m \u001b[0;32melse\u001b[0m \u001b[0;34m'd->d'\u001b[0m\u001b[0;34m\u001b[0m\u001b[0;34m\u001b[0m\u001b[0m\n\u001b[1;32m    544\u001b[0m     \u001b[0mextobj\u001b[0m \u001b[0;34m=\u001b[0m \u001b[0mget_linalg_error_extobj\u001b[0m\u001b[0;34m(\u001b[0m\u001b[0m_raise_linalgerror_singular\u001b[0m\u001b[0;34m)\u001b[0m\u001b[0;34m\u001b[0m\u001b[0;34m\u001b[0m\u001b[0m\n\u001b[0;32m--> 545\u001b[0;31m     \u001b[0mainv\u001b[0m \u001b[0;34m=\u001b[0m \u001b[0m_umath_linalg\u001b[0m\u001b[0;34m.\u001b[0m\u001b[0minv\u001b[0m\u001b[0;34m(\u001b[0m\u001b[0ma\u001b[0m\u001b[0;34m,\u001b[0m \u001b[0msignature\u001b[0m\u001b[0;34m=\u001b[0m\u001b[0msignature\u001b[0m\u001b[0;34m,\u001b[0m \u001b[0mextobj\u001b[0m\u001b[0;34m=\u001b[0m\u001b[0mextobj\u001b[0m\u001b[0;34m)\u001b[0m\u001b[0;34m\u001b[0m\u001b[0;34m\u001b[0m\u001b[0m\n\u001b[0m\u001b[1;32m    546\u001b[0m     \u001b[0;32mreturn\u001b[0m \u001b[0mwrap\u001b[0m\u001b[0;34m(\u001b[0m\u001b[0mainv\u001b[0m\u001b[0;34m.\u001b[0m\u001b[0mastype\u001b[0m\u001b[0;34m(\u001b[0m\u001b[0mresult_t\u001b[0m\u001b[0;34m,\u001b[0m \u001b[0mcopy\u001b[0m\u001b[0;34m=\u001b[0m\u001b[0;32mFalse\u001b[0m\u001b[0;34m)\u001b[0m\u001b[0;34m)\u001b[0m\u001b[0;34m\u001b[0m\u001b[0;34m\u001b[0m\u001b[0m\n\u001b[1;32m    547\u001b[0m \u001b[0;34m\u001b[0m\u001b[0m\n",
      "\u001b[0;31mKeyboardInterrupt\u001b[0m: "
     ]
    }
   ],
   "source": [
    "from datasets import *\n",
    "from run_SS_helpers import *\n",
    "import numpy as np\n",
    "\n",
    "np.random.seed(42)\n",
    "n = [2**i for i in range(1,11)]\n",
    "\n",
    "for i, part in enumerate(n):\n",
    "# uspst\n",
    "    data, label, n_class = uspstb()\n",
    "    partition = [part, 1459-part, 50, 498]\n",
    "    NN = 15\n",
    "\n",
    "    run_ELM(data, label, n_class, partition)\n",
    "    run_RVFL(data, label, n_class, partition)\n",
    "    run_LapRVFL(data, label, n_class, partition, NN)"
   ]
  },
  {
   "cell_type": "code",
   "execution_count": null,
   "id": "b5f01ec3",
   "metadata": {},
   "outputs": [
    {
     "name": "stdout",
     "output_type": "stream",
     "text": [
      "running ELM...\n",
      "Unlab:  0.2128803477465111 ± 0.04454955151560324\n",
      "Val:  0.21000000000000005 ± 0.0806225774829855\n",
      "Test:  0.21234939759036142 ± 0.044230867675506214\n",
      "Lambda:  1000\n",
      "Train time:  1.501154492298762\n",
      "running RVFL...\n",
      "Unlab:  0.22043010752688175 ± 0.036129049352862104\n",
      "Val:  0.21000000000000005 ± 0.07549834435270751\n",
      "Test:  0.214190093708166 ± 0.050689278969625655\n",
      "Lambda:  10000\n",
      "Train time:  1.6546866297721863\n",
      "running Laplacian RVFL...\n",
      "Unlab:  0.2755662319835278 ± 0.029181635824704726\n",
      "Val:  0.3116666666666667 ± 0.08886631657845519\n",
      "Test:  0.30471887550200805 ± 0.03275129539077696\n",
      "Lambda:  [1000000, 0.1]\n",
      "Train time:  4.1713788112004595\n",
      "running ELM...\n",
      "Unlab:  0.3792668957617411 ± 0.03552432911557809\n",
      "Val:  0.35000000000000003 ± 0.08504900548115382\n",
      "Test:  0.3477242302543507 ± 0.03698845084429973\n",
      "Lambda:  0.001\n",
      "Train time:  1.4856852491696675\n",
      "running RVFL...\n",
      "Unlab:  0.3084765177548683 ± 0.043783389342289786\n",
      "Val:  0.35999999999999993 ± 0.06976149845485449\n",
      "Test:  0.30639223560910317 ± 0.032133307178165205\n",
      "Lambda:  10\n",
      "Train time:  1.6395744184652965\n",
      "running Laplacian RVFL...\n",
      "Unlab:  0.4183848797250859 ± 0.029393163662499756\n",
      "Val:  0.46833333333333343 ± 0.06902093080282885\n",
      "Test:  0.45465194109772417 ± 0.039087557363176276\n",
      "Lambda:  [1000000, 0.01]\n",
      "Train time:  4.084923654794693\n",
      "running ELM...\n",
      "Unlab:  0.5279117849758787 ± 0.04836222899656081\n",
      "Val:  0.5333333333333333 ± 0.02624669291337271\n",
      "Test:  0.5552208835341366 ± 0.06809321528192536\n",
      "Lambda:  100\n",
      "Train time:  1.5407608548800151\n",
      "running RVFL...\n",
      "Unlab:  0.5391109579600276 ± 0.048040439081490194\n",
      "Val:  0.5383333333333332 ± 0.0650427210036262\n",
      "Test:  0.5369812583668006 ± 0.0686287802076234\n",
      "Lambda:  10\n",
      "Train time:  1.7073943813641865\n",
      "running Laplacian RVFL...\n",
      "Unlab:  0.4309097174362509 ± 0.07113487364052193\n",
      "Val:  0.63 ± 0.11269427669584643\n",
      "Test:  0.5932061579651942 ± 0.06189419514326638\n",
      "Lambda:  [10, 0.01]\n",
      "Train time:  4.033031980196635\n",
      "running ELM...\n",
      "Unlab:  0.6362323862323863 ± 0.040219380830428884\n",
      "Val:  0.605 ± 0.06224949798994366\n",
      "Test:  0.5829986613119144 ± 0.06002489885259802\n",
      "Lambda:  1e-05\n",
      "Train time:  1.5647443135579426\n",
      "running RVFL...\n",
      "Unlab:  0.6340956340956341 ± 0.04281394699821872\n",
      "Val:  0.645 ± 0.05894913061275798\n",
      "Test:  0.6347054886211513 ± 0.03879417542348047\n",
      "Lambda:  10\n",
      "Train time:  1.6513947347799938\n",
      "running Laplacian RVFL...\n"
     ]
    }
   ],
   "source": [
    "from datasets import *\n",
    "from run_SS_helpers import *\n",
    "import numpy as np\n",
    "\n",
    "np.random.seed(42)\n",
    "n = [2**i for i in range(1,11)]\n",
    "\n",
    "for i, part in enumerate(n):\n",
    "# uspst\n",
    "    data, label, n_class = uspst()\n",
    "    partition = [part, 1459-part, 50, 498]\n",
    "    NN = 15\n",
    "\n",
    "    run_ELM(data, label, n_class, partition)\n",
    "    run_RVFL(data, label, n_class, partition)\n",
    "    run_LapRVFL(data, label, n_class, partition, NN)"
   ]
  },
  {
   "cell_type": "code",
   "execution_count": 1,
   "id": "ce059ad0",
   "metadata": {},
   "outputs": [
    {
     "name": "stdout",
     "output_type": "stream",
     "text": [
      "running ELM...\n",
      "Unlab:  0.7415424651052757 ± 0.0404239479862832\n",
      "Val:  0.7666666666666666 ± 0.09428090415820632\n",
      "Test:  0.7692436412315931 ± 0.0479653430913647\n",
      "Lambda:  100\n",
      "Train time:  0.8848332564036051\n"
     ]
    }
   ],
   "source": [
    "from datasets import *\n",
    "from run_SS_helpers import *\n",
    "import numpy as np\n",
    "\n",
    "np.random.seed(42)\n",
    "\n",
    "# uspst\n",
    "data, label, n_class = uspst()\n",
    "partition = [50, 1409, 50, 498]\n",
    "NN = 15\n",
    "\n",
    "run_ELM(data, label, n_class, partition)"
   ]
  },
  {
   "cell_type": "code",
   "execution_count": 1,
   "id": "3ff24532",
   "metadata": {},
   "outputs": [],
   "source": [
    "from datasets import *\n",
    "from run_helpers import *\n",
    "import numpy as np\n",
    "\n",
    "np.random.seed(42)"
   ]
  },
  {
   "cell_type": "code",
   "execution_count": 27,
   "id": "393974de",
   "metadata": {},
   "outputs": [],
   "source": [
    "# coil20\n",
    "data, label, n_class = uspst()"
   ]
  },
  {
   "cell_type": "code",
   "execution_count": 3,
   "id": "5f539080",
   "metadata": {},
   "outputs": [
    {
     "name": "stdout",
     "output_type": "stream",
     "text": [
      "Accuracy:  0.9123184079601991 ± 0.021091572589453378\n",
      "Lambda:  64\n",
      "Train time:  0.03731534481048584\n",
      "Test time:  0.003609442710876465\n"
     ]
    }
   ],
   "source": [
    "run_RVFL(data, label, n_class)"
   ]
  },
  {
   "cell_type": "code",
   "execution_count": 4,
   "id": "d730e104",
   "metadata": {},
   "outputs": [
    {
     "name": "stdout",
     "output_type": "stream",
     "text": [
      "Accuracy:  0.9152885572139304 ± 0.02045121443767926\n",
      "Lambda:  64\n",
      "Train time:  0.12474613189697266\n",
      "Test time:  0.004594182968139649\n"
     ]
    }
   ],
   "source": [
    "run_dRVFL(data, label, n_class)\n"
   ]
  },
  {
   "cell_type": "code",
   "execution_count": 5,
   "id": "f627894a",
   "metadata": {},
   "outputs": [
    {
     "name": "stdout",
     "output_type": "stream",
     "text": [
      "Accuracy:  0.9093258706467664 ± 0.020708940881174732\n",
      "Lambda:  4\n",
      "Train time:  0.14725954532623292\n",
      "Test time:  0.006722068786621094\n"
     ]
    }
   ],
   "source": [
    "run_edRVFL(data, label, n_class)\n",
    "\n"
   ]
  },
  {
   "cell_type": "code",
   "execution_count": 6,
   "id": "6341b27b",
   "metadata": {},
   "outputs": [
    {
     "name": "stdout",
     "output_type": "stream",
     "text": [
      "running Bayesian RVFL...\n",
      "Validation: 10 Convergence after  28  iterationsAccuracy:  0.9053184079601989 ± 0.011024424349116832\n",
      "Train time:  3.4096398830413817\n",
      "Test time:  0.0016144037246704102\n",
      "Hyperparameters: \n",
      "Precision:  207.4011994084929\n",
      "Variance:  0.3069586985286671\n"
     ]
    }
   ],
   "source": [
    "run_BRVFL(data, label, n_class)\n"
   ]
  },
  {
   "cell_type": "code",
   "execution_count": 7,
   "id": "57ca5ce5",
   "metadata": {},
   "outputs": [
    {
     "name": "stdout",
     "output_type": "stream",
     "text": [
      "running Bayesian Deep RVFL...\n",
      "Validation: 10 Convergence after  17  iterationsAccuracy:  0.8958482587064676 ± 0.020558627584043712\n",
      "Train time:  4.638849186897278\n",
      "Test time:  0.004664826393127442\n",
      "Hyperparameters: \n",
      "Precision:  1036.021356346237\n",
      "Variance:  0.9464690967584559\n"
     ]
    }
   ],
   "source": [
    "run_BdRVFL(data, label, n_class)\n"
   ]
  },
  {
   "cell_type": "code",
   "execution_count": 8,
   "id": "16fa2341",
   "metadata": {},
   "outputs": [
    {
     "name": "stdout",
     "output_type": "stream",
     "text": [
      "running Bayesian Ensemble Deep RVFL...\n",
      "Validation: 10 Convergence after  28  iterations Convergence after  23  iterations Convergence after  23  iterations Convergence after  23  iterations Convergence after  24  iterationsAccuracy:  0.904820895522388 ± 0.01665149231248559\n",
      "Train time:  4.357744121551514\n",
      "Test time:  0.013319087028503419\n",
      "Hyperparameters: \n",
      "Precision:  [247.42488401816033, 338.49443702554504, 340.0831985955722, 354.5214390867124, 341.2717731673404]\n",
      "Variance:  [0.31853712383919636, 0.3444617961684368, 0.3443124367063695, 0.3454712776536516, 0.34364460976905203]\n"
     ]
    }
   ],
   "source": [
    "run_BedRVFL(data, label, n_class)\n"
   ]
  },
  {
   "cell_type": "code",
   "execution_count": 9,
   "id": "8014dc99",
   "metadata": {},
   "outputs": [
    {
     "name": "stdout",
     "output_type": "stream",
     "text": [
      "Accuracy:  0.9088258706467661 ± 0.028754361350942493\n",
      "Lambda:  [16, 0.015625]\n",
      "Train time:  0.629300594329834\n",
      "Test time:  0.0019362211227416993\n"
     ]
    }
   ],
   "source": [
    "run_LapRVFL(data, label, n_class)\n"
   ]
  },
  {
   "cell_type": "code",
   "execution_count": 10,
   "id": "e26d1e0b",
   "metadata": {},
   "outputs": [
    {
     "name": "stdout",
     "output_type": "stream",
     "text": [
      "Accuracy:  0.9093208955223882 ± 0.015240589512024883\n",
      "Lambda:  [4, 0.015625]\n",
      "Train time:  0.6090223073959351\n",
      "Test time:  0.0018691062927246095\n"
     ]
    }
   ],
   "source": [
    "run_LapdRVFL(data, label, n_class)\n"
   ]
  },
  {
   "cell_type": "code",
   "execution_count": 11,
   "id": "b53f5b8d",
   "metadata": {},
   "outputs": [
    {
     "name": "stdout",
     "output_type": "stream",
     "text": [
      "Accuracy:  0.9058333333333334 ± 0.014150128593213398\n",
      "Lambda:  [4, 0.015625]\n",
      "Train time:  0.5916413784027099\n",
      "Test time:  0.002297830581665039\n"
     ]
    }
   ],
   "source": [
    "run_LapedRVFL(data, label, n_class)"
   ]
  },
  {
   "cell_type": "code",
   "execution_count": null,
   "id": "6e72d0a4",
   "metadata": {},
   "outputs": [],
   "source": []
  }
 ],
 "metadata": {
  "interpreter": {
   "hash": "d29531488e2b7bac10af08b59c5a0d1dca9077738f8661c2e75b8529990c25ab"
  },
  "kernelspec": {
   "display_name": "Python 3 (ipykernel)",
   "language": "python",
   "name": "python3"
  },
  "language_info": {
   "codemirror_mode": {
    "name": "ipython",
    "version": 3
   },
   "file_extension": ".py",
   "mimetype": "text/x-python",
   "name": "python",
   "nbconvert_exporter": "python",
   "pygments_lexer": "ipython3",
   "version": "3.8.10"
  }
 },
 "nbformat": 4,
 "nbformat_minor": 5
}
