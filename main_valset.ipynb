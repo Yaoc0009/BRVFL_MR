{
 "cells": [
  {
   "cell_type": "code",
   "execution_count": 1,
   "metadata": {},
   "outputs": [],
   "source": [
    "from sklearn.model_selection import KFold\n",
    "from scipy.io import loadmat\n",
    "import numpy as np\n",
    "from models import *\n",
    "from time import time \n",
    "\n",
    "# set random seed\n",
    "np.random.seed(42)"
   ]
  },
  {
   "cell_type": "code",
   "execution_count": 2,
   "metadata": {},
   "outputs": [],
   "source": [
    "dataset = loadmat('coil20.mat')\n",
    "label = np.array([dataset['Y'][i][0] - 1 for i in range(len(dataset['Y']))])\n",
    "data = dataset['X']\n",
    "n_class = len(np.unique(label))\n",
    "\n",
    "# train-test-split\n",
    "# X_train, X_test, y_train, y_test = train_test_split(data, label, test_size=0.2)\n",
    "lams = [2**i for i in range(-6, 13, 2)] # regularization parameter, lambda"
   ]
  },
  {
   "cell_type": "code",
   "execution_count": 3,
   "metadata": {},
   "outputs": [],
   "source": [
    "def cross_val_acc(data, label, n_class, model_class, lam=None, n_layer=1, activation='sigmoid'):\n",
    "    n_node = 100 # num of nodes in hidden layer\n",
    "    w_range = [-1, 1] # range of random weights\n",
    "    b_range = [0, 1] # range of random biases\n",
    "    val_acc = []\n",
    "    train_time = []\n",
    "    test_time = []\n",
    "\n",
    "    kf = KFold(n_splits=10, shuffle=True)\n",
    "    # print('Lambda: ', lam)\n",
    "    for i, kf_values in enumerate(kf.split(data, label)):\n",
    "    #     print(f'train: {train_index}, val: {val_index}')\n",
    "        # print('Validation: {}'.format(i + 1))\n",
    "        train_index, val_index = kf_values\n",
    "        X_val_train, X_val_test = data[train_index], data[val_index]\n",
    "        y_val_train, y_val_test = label[train_index], label[val_index]\n",
    "        if model_class in [RVFL, DeepRVFL, EnsembleDeepRVFL]:\n",
    "            model = model_class(n_node, lam, w_range, b_range, n_layer, activation=activation)\n",
    "        elif model_class in [BRVFL, BDeepRVFL, BEnsembleDeepRVFL]:\n",
    "            model = model_class(n_node, w_range, b_range, n_layer, tol=10**(-7), activation=activation)\n",
    "        t = time()\n",
    "        model.train(X_val_train, y_val_train, n_class)\n",
    "        train_t = time()\n",
    "        acc = model.eval(X_val_test, y_val_test)\n",
    "        test_t = time()\n",
    "        train_time.append(train_t - t)\n",
    "        test_time.append(test_t - train_t)\n",
    "\n",
    "        # print(f'Validation accuracy: {acc}')\n",
    "        val_acc.append(acc)\n",
    "\n",
    "    acc = [np.mean(val_acc), np.std(val_acc)]\n",
    "    t = [np.mean(train_time), np.mean(test_time)]\n",
    "    # print(f'Model accuracy: {mean_acc}\\n')\n",
    "    return model, acc, t"
   ]
  },
  {
   "cell_type": "code",
   "execution_count": 4,
   "metadata": {},
   "outputs": [
    {
     "name": "stdout",
     "output_type": "stream",
     "text": [
      "Accuracy:  0.9673611111111111 ± 0.008246070893776327\n",
      "Lambda:  64\n",
      "Train time:  0.24708056449890137\n",
      "Test time:  0.0026417970657348633\n"
     ]
    }
   ],
   "source": [
    "# RVFL\n",
    "acc = []\n",
    "t = []\n",
    "for lam in lams:\n",
    "    _, model_accuracy, duration = cross_val_acc(data, label, n_class, RVFL, lam)\n",
    "    acc.append(model_accuracy)\n",
    "    t.append(duration)\n",
    "\n",
    "max_index = np.argmax(acc, axis=0)[0]\n",
    "opt_lam = lams[max_index]\n",
    "print('Accuracy: ', acc[max_index][0], u\"\\u00B1\", acc[max_index][1])\n",
    "print('Lambda: ', opt_lam)\n",
    "print('Train time: ', t[max_index][0])\n",
    "print('Test time: ', t[max_index][1])"
   ]
  },
  {
   "cell_type": "code",
   "execution_count": 23,
   "metadata": {},
   "outputs": [
    {
     "name": "stdout",
     "output_type": "stream",
     "text": [
      "Accuracy:  0.9715277777777779 ± 0.011805555555555548\n",
      "Lambda:  16\n",
      "Train time:  0.523043179512024\n",
      "Test time:  0.007701730728149414\n"
     ]
    }
   ],
   "source": [
    "# dRVFL\n",
    "acc = []\n",
    "t = []\n",
    "for lam in lams:\n",
    "    _, model_accuracy, duration = cross_val_acc(data, label, n_class, DeepRVFL, lam, n_layer=5)\n",
    "    acc.append(model_accuracy)\n",
    "    t.append(duration)\n",
    "\n",
    "max_index = np.argmax(acc, axis=0)[0]\n",
    "opt_lam = lams[max_index]\n",
    "print('Accuracy: ', acc[max_index][0], u\"\\u00B1\", acc[max_index][1])\n",
    "print('Lambda: ', opt_lam)\n",
    "print('Train time: ', t[max_index][0])\n",
    "print('Test time: ', t[max_index][1])"
   ]
  },
  {
   "cell_type": "code",
   "execution_count": 24,
   "metadata": {},
   "outputs": [
    {
     "name": "stderr",
     "output_type": "stream",
     "text": [
      "/home/yc0009/projects/python/FYP/models.py:33: RuntimeWarning: overflow encountered in power\n",
      "  return 1 / (1 + np.e ** (-x))\n"
     ]
    },
    {
     "name": "stdout",
     "output_type": "stream",
     "text": [
      "Accuracy:  0.9680555555555556 ± 0.019194826334840626\n",
      "Lambda:  64\n",
      "Train time:  1.3181850910186768\n",
      "Test time:  0.01643509864807129\n"
     ]
    }
   ],
   "source": [
    "# edRVFL\n",
    "acc = []\n",
    "t = []\n",
    "for lam in lams:\n",
    "    _, model_accuracy, duration = cross_val_acc(data, label, n_class, EnsembleDeepRVFL, lam, n_layer=5)\n",
    "    acc.append(model_accuracy)\n",
    "    t.append(duration)\n",
    "\n",
    "max_index = np.argmax(acc, axis=0)[0]\n",
    "opt_lam = lams[max_index]\n",
    "print('Accuracy: ', acc[max_index][0], u\"\\u00B1\", acc[max_index][1])\n",
    "print('Lambda: ', opt_lam)\n",
    "print('Train time: ', t[max_index][0])\n",
    "print('Test time: ', t[max_index][1])"
   ]
  },
  {
   "cell_type": "code",
   "execution_count": 4,
   "metadata": {},
   "outputs": [
    {
     "data": {
      "text/html": [
       "\n",
       "    <div>\n",
       "        <style>\n",
       "            /* Turns off some styling */\n",
       "            progress {\n",
       "                /* gets rid of default border in Firefox and Opera. */\n",
       "                border: none;\n",
       "                /* Needs to be in here for Safari polyfill so background images work as expected. */\n",
       "                background-size: auto;\n",
       "            }\n",
       "            .progress-bar-interrupted, .progress-bar-interrupted::-webkit-progress-bar {\n",
       "                background: #F44336;\n",
       "            }\n",
       "        </style>\n",
       "      <progress value='3647' class='' max='3647' style='width:300px; height:20px; vertical-align: middle;'></progress>\n",
       "      100.00% [3647/3647 00:57<00:00 logp = 1.2656e+05, ||grad|| = 408.62]\n",
       "    </div>\n",
       "    "
      ],
      "text/plain": [
       "<IPython.core.display.HTML object>"
      ]
     },
     "metadata": {},
     "output_type": "display_data"
    },
    {
     "name": "stdout",
     "output_type": "stream",
     "text": [
      "\n",
      "Convergence after  27  iterations\n"
     ]
    },
    {
     "data": {
      "text/html": [
       "\n",
       "    <div>\n",
       "        <style>\n",
       "            /* Turns off some styling */\n",
       "            progress {\n",
       "                /* gets rid of default border in Firefox and Opera. */\n",
       "                border: none;\n",
       "                /* Needs to be in here for Safari polyfill so background images work as expected. */\n",
       "                background-size: auto;\n",
       "            }\n",
       "            .progress-bar-interrupted, .progress-bar-interrupted::-webkit-progress-bar {\n",
       "                background: #F44336;\n",
       "            }\n",
       "        </style>\n",
       "      <progress value='4054' class='' max='4054' style='width:300px; height:20px; vertical-align: middle;'></progress>\n",
       "      100.00% [4054/4054 01:33<00:00 logp = 1.2792e+05, ||grad|| = 526.34]\n",
       "    </div>\n",
       "    "
      ],
      "text/plain": [
       "<IPython.core.display.HTML object>"
      ]
     },
     "metadata": {},
     "output_type": "display_data"
    },
    {
     "name": "stdout",
     "output_type": "stream",
     "text": [
      "\n",
      "Convergence after  26  iterations\n"
     ]
    },
    {
     "data": {
      "text/html": [
       "\n",
       "    <div>\n",
       "        <style>\n",
       "            /* Turns off some styling */\n",
       "            progress {\n",
       "                /* gets rid of default border in Firefox and Opera. */\n",
       "                border: none;\n",
       "                /* Needs to be in here for Safari polyfill so background images work as expected. */\n",
       "                background-size: auto;\n",
       "            }\n",
       "            .progress-bar-interrupted, .progress-bar-interrupted::-webkit-progress-bar {\n",
       "                background: #F44336;\n",
       "            }\n",
       "        </style>\n",
       "      <progress value='3113' class='' max='3113' style='width:300px; height:20px; vertical-align: middle;'></progress>\n",
       "      100.00% [3113/3113 01:15<00:00 logp = 1.2742e+05, ||grad|| = 495.31]\n",
       "    </div>\n",
       "    "
      ],
      "text/plain": [
       "<IPython.core.display.HTML object>"
      ]
     },
     "metadata": {},
     "output_type": "display_data"
    },
    {
     "name": "stdout",
     "output_type": "stream",
     "text": [
      "\n",
      "Convergence after  27  iterations\n"
     ]
    },
    {
     "data": {
      "text/html": [
       "\n",
       "    <div>\n",
       "        <style>\n",
       "            /* Turns off some styling */\n",
       "            progress {\n",
       "                /* gets rid of default border in Firefox and Opera. */\n",
       "                border: none;\n",
       "                /* Needs to be in here for Safari polyfill so background images work as expected. */\n",
       "                background-size: auto;\n",
       "            }\n",
       "            .progress-bar-interrupted, .progress-bar-interrupted::-webkit-progress-bar {\n",
       "                background: #F44336;\n",
       "            }\n",
       "        </style>\n",
       "      <progress value='3156' class='' max='3156' style='width:300px; height:20px; vertical-align: middle;'></progress>\n",
       "      100.00% [3156/3156 01:10<00:00 logp = 1.2682e+05, ||grad|| = 756.58]\n",
       "    </div>\n",
       "    "
      ],
      "text/plain": [
       "<IPython.core.display.HTML object>"
      ]
     },
     "metadata": {},
     "output_type": "display_data"
    },
    {
     "name": "stdout",
     "output_type": "stream",
     "text": [
      "\n",
      "Convergence after  26  iterations\n"
     ]
    },
    {
     "data": {
      "text/html": [
       "\n",
       "    <div>\n",
       "        <style>\n",
       "            /* Turns off some styling */\n",
       "            progress {\n",
       "                /* gets rid of default border in Firefox and Opera. */\n",
       "                border: none;\n",
       "                /* Needs to be in here for Safari polyfill so background images work as expected. */\n",
       "                background-size: auto;\n",
       "            }\n",
       "            .progress-bar-interrupted, .progress-bar-interrupted::-webkit-progress-bar {\n",
       "                background: #F44336;\n",
       "            }\n",
       "        </style>\n",
       "      <progress value='3518' class='' max='3518' style='width:300px; height:20px; vertical-align: middle;'></progress>\n",
       "      100.00% [3518/3518 01:17<00:00 logp = 1.2672e+05, ||grad|| = 531.05]\n",
       "    </div>\n",
       "    "
      ],
      "text/plain": [
       "<IPython.core.display.HTML object>"
      ]
     },
     "metadata": {},
     "output_type": "display_data"
    },
    {
     "name": "stdout",
     "output_type": "stream",
     "text": [
      "\n",
      "Convergence after  26  iterations\n"
     ]
    },
    {
     "data": {
      "text/html": [
       "\n",
       "    <div>\n",
       "        <style>\n",
       "            /* Turns off some styling */\n",
       "            progress {\n",
       "                /* gets rid of default border in Firefox and Opera. */\n",
       "                border: none;\n",
       "                /* Needs to be in here for Safari polyfill so background images work as expected. */\n",
       "                background-size: auto;\n",
       "            }\n",
       "            .progress-bar-interrupted, .progress-bar-interrupted::-webkit-progress-bar {\n",
       "                background: #F44336;\n",
       "            }\n",
       "        </style>\n",
       "      <progress value='2854' class='' max='2854' style='width:300px; height:20px; vertical-align: middle;'></progress>\n",
       "      100.00% [2854/2854 00:59<00:00 logp = 1.2696e+05, ||grad|| = 486.34]\n",
       "    </div>\n",
       "    "
      ],
      "text/plain": [
       "<IPython.core.display.HTML object>"
      ]
     },
     "metadata": {},
     "output_type": "display_data"
    },
    {
     "name": "stdout",
     "output_type": "stream",
     "text": [
      "\n",
      "Convergence after  26  iterations\n"
     ]
    },
    {
     "data": {
      "text/html": [
       "\n",
       "    <div>\n",
       "        <style>\n",
       "            /* Turns off some styling */\n",
       "            progress {\n",
       "                /* gets rid of default border in Firefox and Opera. */\n",
       "                border: none;\n",
       "                /* Needs to be in here for Safari polyfill so background images work as expected. */\n",
       "                background-size: auto;\n",
       "            }\n",
       "            .progress-bar-interrupted, .progress-bar-interrupted::-webkit-progress-bar {\n",
       "                background: #F44336;\n",
       "            }\n",
       "        </style>\n",
       "      <progress value='3354' class='' max='3354' style='width:300px; height:20px; vertical-align: middle;'></progress>\n",
       "      100.00% [3354/3354 01:18<00:00 logp = 1.2698e+05, ||grad|| = 414.82]\n",
       "    </div>\n",
       "    "
      ],
      "text/plain": [
       "<IPython.core.display.HTML object>"
      ]
     },
     "metadata": {},
     "output_type": "display_data"
    },
    {
     "name": "stdout",
     "output_type": "stream",
     "text": [
      "\n",
      "Convergence after  26  iterations\n"
     ]
    },
    {
     "data": {
      "text/html": [
       "\n",
       "    <div>\n",
       "        <style>\n",
       "            /* Turns off some styling */\n",
       "            progress {\n",
       "                /* gets rid of default border in Firefox and Opera. */\n",
       "                border: none;\n",
       "                /* Needs to be in here for Safari polyfill so background images work as expected. */\n",
       "                background-size: auto;\n",
       "            }\n",
       "            .progress-bar-interrupted, .progress-bar-interrupted::-webkit-progress-bar {\n",
       "                background: #F44336;\n",
       "            }\n",
       "        </style>\n",
       "      <progress value='3346' class='' max='3346' style='width:300px; height:20px; vertical-align: middle;'></progress>\n",
       "      100.00% [3346/3346 01:16<00:00 logp = 1.2717e+05, ||grad|| = 447.46]\n",
       "    </div>\n",
       "    "
      ],
      "text/plain": [
       "<IPython.core.display.HTML object>"
      ]
     },
     "metadata": {},
     "output_type": "display_data"
    },
    {
     "name": "stdout",
     "output_type": "stream",
     "text": [
      "\n",
      "Convergence after  27  iterations\n"
     ]
    },
    {
     "data": {
      "text/html": [
       "\n",
       "    <div>\n",
       "        <style>\n",
       "            /* Turns off some styling */\n",
       "            progress {\n",
       "                /* gets rid of default border in Firefox and Opera. */\n",
       "                border: none;\n",
       "                /* Needs to be in here for Safari polyfill so background images work as expected. */\n",
       "                background-size: auto;\n",
       "            }\n",
       "            .progress-bar-interrupted, .progress-bar-interrupted::-webkit-progress-bar {\n",
       "                background: #F44336;\n",
       "            }\n",
       "        </style>\n",
       "      <progress value='3579' class='' max='3579' style='width:300px; height:20px; vertical-align: middle;'></progress>\n",
       "      100.00% [3579/3579 01:13<00:00 logp = 1.2713e+05, ||grad|| = 1,047.8]\n",
       "    </div>\n",
       "    "
      ],
      "text/plain": [
       "<IPython.core.display.HTML object>"
      ]
     },
     "metadata": {},
     "output_type": "display_data"
    },
    {
     "name": "stdout",
     "output_type": "stream",
     "text": [
      "\n",
      "Convergence after  26  iterations\n"
     ]
    },
    {
     "data": {
      "text/html": [
       "\n",
       "    <div>\n",
       "        <style>\n",
       "            /* Turns off some styling */\n",
       "            progress {\n",
       "                /* gets rid of default border in Firefox and Opera. */\n",
       "                border: none;\n",
       "                /* Needs to be in here for Safari polyfill so background images work as expected. */\n",
       "                background-size: auto;\n",
       "            }\n",
       "            .progress-bar-interrupted, .progress-bar-interrupted::-webkit-progress-bar {\n",
       "                background: #F44336;\n",
       "            }\n",
       "        </style>\n",
       "      <progress value='3505' class='' max='3505' style='width:300px; height:20px; vertical-align: middle;'></progress>\n",
       "      100.00% [3505/3505 01:12<00:00 logp = 1.2661e+05, ||grad|| = 1,025.3]\n",
       "    </div>\n",
       "    "
      ],
      "text/plain": [
       "<IPython.core.display.HTML object>"
      ]
     },
     "metadata": {},
     "output_type": "display_data"
    },
    {
     "name": "stdout",
     "output_type": "stream",
     "text": [
      "\n",
      "Convergence after  26  iterations\n",
      "Accuracy:  0.9395833333333334 ± 0.022405924729030104\n",
      "Train time:  83.17574417591095\n",
      "Test time:  0.003948736190795899\n",
      "Hyperparameters: \n",
      "Precision:  66.35566003205462\n",
      "Variance:  0.002856025797307477\n"
     ]
    }
   ],
   "source": [
    "# BRVFL\n",
    "model, acc, t = cross_val_acc(data, label, n_class, BRVFL)\n",
    "\n",
    "print('Accuracy: ', acc[0], u\"\\u00B1\", acc[1])\n",
    "print('Train time: ', t[0])\n",
    "print('Test time: ', t[1])\n",
    "print('Hyperparameters: ')\n",
    "print('Precision: ', model.prec)\n",
    "print('Variance: ', model.var)"
   ]
  },
  {
   "cell_type": "code",
   "execution_count": 6,
   "metadata": {},
   "outputs": [
    {
     "data": {
      "text/html": [
       "\n",
       "    <div>\n",
       "        <style>\n",
       "            /* Turns off some styling */\n",
       "            progress {\n",
       "                /* gets rid of default border in Firefox and Opera. */\n",
       "                border: none;\n",
       "                /* Needs to be in here for Safari polyfill so background images work as expected. */\n",
       "                background-size: auto;\n",
       "            }\n",
       "            .progress-bar-interrupted, .progress-bar-interrupted::-webkit-progress-bar {\n",
       "                background: #F44336;\n",
       "            }\n",
       "        </style>\n",
       "      <progress value='5001' class='' max='5001' style='width:300px; height:20px; vertical-align: middle;'></progress>\n",
       "      100.00% [5001/5001 01:27<00:00 logp = 2.0947e+05, ||grad|| = 7.9056e+05]\n",
       "    </div>\n",
       "    "
      ],
      "text/plain": [
       "<IPython.core.display.HTML object>"
      ]
     },
     "metadata": {},
     "output_type": "display_data"
    },
    {
     "name": "stderr",
     "output_type": "stream",
     "text": [
      "\n"
     ]
    },
    {
     "name": "stdout",
     "output_type": "stream",
     "text": [
      "\n"
     ]
    },
    {
     "data": {
      "text/html": [
       "\n",
       "    <div>\n",
       "        <style>\n",
       "            /* Turns off some styling */\n",
       "            progress {\n",
       "                /* gets rid of default border in Firefox and Opera. */\n",
       "                border: none;\n",
       "                /* Needs to be in here for Safari polyfill so background images work as expected. */\n",
       "                background-size: auto;\n",
       "            }\n",
       "            .progress-bar-interrupted, .progress-bar-interrupted::-webkit-progress-bar {\n",
       "                background: #F44336;\n",
       "            }\n",
       "        </style>\n",
       "      <progress value='5001' class='' max='5001' style='width:300px; height:20px; vertical-align: middle;'></progress>\n",
       "      100.00% [5001/5001 01:12<00:00 logp = 2.0905e+05, ||grad|| = 7.1253e+05]\n",
       "    </div>\n",
       "    "
      ],
      "text/plain": [
       "<IPython.core.display.HTML object>"
      ]
     },
     "metadata": {},
     "output_type": "display_data"
    },
    {
     "name": "stderr",
     "output_type": "stream",
     "text": [
      "\n"
     ]
    },
    {
     "name": "stdout",
     "output_type": "stream",
     "text": [
      "\n"
     ]
    },
    {
     "data": {
      "text/html": [
       "\n",
       "    <div>\n",
       "        <style>\n",
       "            /* Turns off some styling */\n",
       "            progress {\n",
       "                /* gets rid of default border in Firefox and Opera. */\n",
       "                border: none;\n",
       "                /* Needs to be in here for Safari polyfill so background images work as expected. */\n",
       "                background-size: auto;\n",
       "            }\n",
       "            .progress-bar-interrupted, .progress-bar-interrupted::-webkit-progress-bar {\n",
       "                background: #F44336;\n",
       "            }\n",
       "        </style>\n",
       "      <progress value='5001' class='' max='5001' style='width:300px; height:20px; vertical-align: middle;'></progress>\n",
       "      100.00% [5001/5001 01:31<00:00 logp = 2.0799e+05, ||grad|| = 4.7562e+05]\n",
       "    </div>\n",
       "    "
      ],
      "text/plain": [
       "<IPython.core.display.HTML object>"
      ]
     },
     "metadata": {},
     "output_type": "display_data"
    },
    {
     "name": "stderr",
     "output_type": "stream",
     "text": [
      "\n"
     ]
    },
    {
     "name": "stdout",
     "output_type": "stream",
     "text": [
      "\n"
     ]
    }
   ],
   "source": [
    "# BdRVFL\n",
    "model, acc, t = cross_val_acc(data, label, n_class, BDeepRVFL, n_layer=5)\n",
    "\n",
    "print('Accuracy: ', acc[0], u\"\\u00B1\", acc[1])\n",
    "print('Train time: ', t[0])\n",
    "print('Test time: ', t[1])\n",
    "print('Hyperparameters: ')\n",
    "print('Precision: ', model.prec)\n",
    "print('Variance: ', model.var)"
   ]
  },
  {
   "cell_type": "code",
   "execution_count": 5,
   "metadata": {},
   "outputs": [
    {
     "name": "stderr",
     "output_type": "stream",
     "text": [
      "/home/yc0009/projects/python/FYP/models.py:33: RuntimeWarning: overflow encountered in power\n",
      "  return 1 / (1 + np.e ** (-x))\n"
     ]
    },
    {
     "data": {
      "text/html": [
       "\n",
       "    <div>\n",
       "        <style>\n",
       "            /* Turns off some styling */\n",
       "            progress {\n",
       "                /* gets rid of default border in Firefox and Opera. */\n",
       "                border: none;\n",
       "                /* Needs to be in here for Safari polyfill so background images work as expected. */\n",
       "                background-size: auto;\n",
       "            }\n",
       "            .progress-bar-interrupted, .progress-bar-interrupted::-webkit-progress-bar {\n",
       "                background: #F44336;\n",
       "            }\n",
       "        </style>\n",
       "      <progress value='3280' class='' max='3280' style='width:300px; height:20px; vertical-align: middle;'></progress>\n",
       "      100.00% [3280/3280 01:20<00:00 logp = 1.2521e+05, ||grad|| = 832.65]\n",
       "    </div>\n",
       "    "
      ],
      "text/plain": [
       "<IPython.core.display.HTML object>"
      ]
     },
     "metadata": {},
     "output_type": "display_data"
    },
    {
     "name": "stdout",
     "output_type": "stream",
     "text": [
      "\n",
      "Convergence after  27  iterations\n",
      "Convergence after  22  iterations\n",
      "Convergence after  22  iterations\n",
      "Convergence after  22  iterations\n",
      "Convergence after  22  iterations\n"
     ]
    },
    {
     "name": "stderr",
     "output_type": "stream",
     "text": [
      "/home/yc0009/projects/python/FYP/models.py:33: RuntimeWarning: overflow encountered in power\n",
      "  return 1 / (1 + np.e ** (-x))\n"
     ]
    },
    {
     "data": {
      "text/html": [
       "\n",
       "    <div>\n",
       "        <style>\n",
       "            /* Turns off some styling */\n",
       "            progress {\n",
       "                /* gets rid of default border in Firefox and Opera. */\n",
       "                border: none;\n",
       "                /* Needs to be in here for Safari polyfill so background images work as expected. */\n",
       "                background-size: auto;\n",
       "            }\n",
       "            .progress-bar-interrupted, .progress-bar-interrupted::-webkit-progress-bar {\n",
       "                background: #F44336;\n",
       "            }\n",
       "        </style>\n",
       "      <progress value='3321' class='' max='3321' style='width:300px; height:20px; vertical-align: middle;'></progress>\n",
       "      100.00% [3321/3321 01:19<00:00 logp = 1.2545e+05, ||grad|| = 1,878.9]\n",
       "    </div>\n",
       "    "
      ],
      "text/plain": [
       "<IPython.core.display.HTML object>"
      ]
     },
     "metadata": {},
     "output_type": "display_data"
    },
    {
     "name": "stdout",
     "output_type": "stream",
     "text": [
      "\n",
      "Convergence after  27  iterations\n",
      "Convergence after  22  iterations\n",
      "Convergence after  22  iterations\n",
      "Convergence after  22  iterations\n",
      "Convergence after  23  iterations\n"
     ]
    },
    {
     "data": {
      "text/html": [
       "\n",
       "    <div>\n",
       "        <style>\n",
       "            /* Turns off some styling */\n",
       "            progress {\n",
       "                /* gets rid of default border in Firefox and Opera. */\n",
       "                border: none;\n",
       "                /* Needs to be in here for Safari polyfill so background images work as expected. */\n",
       "                background-size: auto;\n",
       "            }\n",
       "            .progress-bar-interrupted, .progress-bar-interrupted::-webkit-progress-bar {\n",
       "                background: #F44336;\n",
       "            }\n",
       "        </style>\n",
       "      <progress value='2981' class='' max='2981' style='width:300px; height:20px; vertical-align: middle;'></progress>\n",
       "      100.00% [2981/2981 01:08<00:00 logp = 1.2574e+05, ||grad|| = 265.41]\n",
       "    </div>\n",
       "    "
      ],
      "text/plain": [
       "<IPython.core.display.HTML object>"
      ]
     },
     "metadata": {},
     "output_type": "display_data"
    },
    {
     "name": "stdout",
     "output_type": "stream",
     "text": [
      "\n",
      "Convergence after  26  iterations\n",
      "Convergence after  22  iterations\n",
      "Convergence after  22  iterations\n",
      "Convergence after  22  iterations\n",
      "Convergence after  22  iterations\n"
     ]
    },
    {
     "data": {
      "text/html": [
       "\n",
       "    <div>\n",
       "        <style>\n",
       "            /* Turns off some styling */\n",
       "            progress {\n",
       "                /* gets rid of default border in Firefox and Opera. */\n",
       "                border: none;\n",
       "                /* Needs to be in here for Safari polyfill so background images work as expected. */\n",
       "                background-size: auto;\n",
       "            }\n",
       "            .progress-bar-interrupted, .progress-bar-interrupted::-webkit-progress-bar {\n",
       "                background: #F44336;\n",
       "            }\n",
       "        </style>\n",
       "      <progress value='2675' class='' max='2675' style='width:300px; height:20px; vertical-align: middle;'></progress>\n",
       "      100.00% [2675/2675 01:35<00:00 logp = 1.2603e+05, ||grad|| = 938.13]\n",
       "    </div>\n",
       "    "
      ],
      "text/plain": [
       "<IPython.core.display.HTML object>"
      ]
     },
     "metadata": {},
     "output_type": "display_data"
    },
    {
     "name": "stdout",
     "output_type": "stream",
     "text": [
      "\n",
      "Convergence after  28  iterations\n",
      "Convergence after  22  iterations\n",
      "Convergence after  22  iterations\n",
      "Convergence after  22  iterations\n",
      "Convergence after  22  iterations\n"
     ]
    },
    {
     "data": {
      "text/html": [
       "\n",
       "    <div>\n",
       "        <style>\n",
       "            /* Turns off some styling */\n",
       "            progress {\n",
       "                /* gets rid of default border in Firefox and Opera. */\n",
       "                border: none;\n",
       "                /* Needs to be in here for Safari polyfill so background images work as expected. */\n",
       "                background-size: auto;\n",
       "            }\n",
       "            .progress-bar-interrupted, .progress-bar-interrupted::-webkit-progress-bar {\n",
       "                background: #F44336;\n",
       "            }\n",
       "        </style>\n",
       "      <progress value='3081' class='' max='3081' style='width:300px; height:20px; vertical-align: middle;'></progress>\n",
       "      100.00% [3081/3081 01:50<00:00 logp = 1.256e+05, ||grad|| = 1,322.1]\n",
       "    </div>\n",
       "    "
      ],
      "text/plain": [
       "<IPython.core.display.HTML object>"
      ]
     },
     "metadata": {},
     "output_type": "display_data"
    },
    {
     "name": "stdout",
     "output_type": "stream",
     "text": [
      "\n",
      "Convergence after  27  iterations\n",
      "Convergence after  22  iterations\n",
      "Convergence after  22  iterations\n",
      "Convergence after  22  iterations\n",
      "Convergence after  22  iterations\n"
     ]
    },
    {
     "data": {
      "text/html": [
       "\n",
       "    <div>\n",
       "        <style>\n",
       "            /* Turns off some styling */\n",
       "            progress {\n",
       "                /* gets rid of default border in Firefox and Opera. */\n",
       "                border: none;\n",
       "                /* Needs to be in here for Safari polyfill so background images work as expected. */\n",
       "                background-size: auto;\n",
       "            }\n",
       "            .progress-bar-interrupted, .progress-bar-interrupted::-webkit-progress-bar {\n",
       "                background: #F44336;\n",
       "            }\n",
       "        </style>\n",
       "      <progress value='2684' class='' max='2684' style='width:300px; height:20px; vertical-align: middle;'></progress>\n",
       "      100.00% [2684/2684 01:20<00:00 logp = 1.25e+05, ||grad|| = 445.44]\n",
       "    </div>\n",
       "    "
      ],
      "text/plain": [
       "<IPython.core.display.HTML object>"
      ]
     },
     "metadata": {},
     "output_type": "display_data"
    },
    {
     "name": "stdout",
     "output_type": "stream",
     "text": [
      "\n",
      "Convergence after  27  iterations\n",
      "Convergence after  23  iterations\n",
      "Convergence after  23  iterations\n",
      "Convergence after  23  iterations\n",
      "Convergence after  23  iterations\n"
     ]
    },
    {
     "data": {
      "text/html": [
       "\n",
       "    <div>\n",
       "        <style>\n",
       "            /* Turns off some styling */\n",
       "            progress {\n",
       "                /* gets rid of default border in Firefox and Opera. */\n",
       "                border: none;\n",
       "                /* Needs to be in here for Safari polyfill so background images work as expected. */\n",
       "                background-size: auto;\n",
       "            }\n",
       "            .progress-bar-interrupted, .progress-bar-interrupted::-webkit-progress-bar {\n",
       "                background: #F44336;\n",
       "            }\n",
       "        </style>\n",
       "      <progress value='2813' class='' max='2813' style='width:300px; height:20px; vertical-align: middle;'></progress>\n",
       "      100.00% [2813/2813 01:24<00:00 logp = 1.2438e+05, ||grad|| = 290.55]\n",
       "    </div>\n",
       "    "
      ],
      "text/plain": [
       "<IPython.core.display.HTML object>"
      ]
     },
     "metadata": {},
     "output_type": "display_data"
    },
    {
     "name": "stdout",
     "output_type": "stream",
     "text": [
      "\n",
      "Convergence after  28  iterations\n",
      "Convergence after  22  iterations\n",
      "Convergence after  22  iterations\n",
      "Convergence after  23  iterations\n",
      "Convergence after  23  iterations\n"
     ]
    },
    {
     "data": {
      "text/html": [
       "\n",
       "    <div>\n",
       "        <style>\n",
       "            /* Turns off some styling */\n",
       "            progress {\n",
       "                /* gets rid of default border in Firefox and Opera. */\n",
       "                border: none;\n",
       "                /* Needs to be in here for Safari polyfill so background images work as expected. */\n",
       "                background-size: auto;\n",
       "            }\n",
       "            .progress-bar-interrupted, .progress-bar-interrupted::-webkit-progress-bar {\n",
       "                background: #F44336;\n",
       "            }\n",
       "        </style>\n",
       "      <progress value='2763' class='' max='2763' style='width:300px; height:20px; vertical-align: middle;'></progress>\n",
       "      100.00% [2763/2763 01:33<00:00 logp = 1.251e+05, ||grad|| = 580.47]\n",
       "    </div>\n",
       "    "
      ],
      "text/plain": [
       "<IPython.core.display.HTML object>"
      ]
     },
     "metadata": {},
     "output_type": "display_data"
    },
    {
     "name": "stdout",
     "output_type": "stream",
     "text": [
      "\n",
      "Convergence after  26  iterations\n",
      "Convergence after  22  iterations\n",
      "Convergence after  22  iterations\n",
      "Convergence after  23  iterations\n",
      "Convergence after  22  iterations\n"
     ]
    },
    {
     "data": {
      "text/html": [
       "\n",
       "    <div>\n",
       "        <style>\n",
       "            /* Turns off some styling */\n",
       "            progress {\n",
       "                /* gets rid of default border in Firefox and Opera. */\n",
       "                border: none;\n",
       "                /* Needs to be in here for Safari polyfill so background images work as expected. */\n",
       "                background-size: auto;\n",
       "            }\n",
       "            .progress-bar-interrupted, .progress-bar-interrupted::-webkit-progress-bar {\n",
       "                background: #F44336;\n",
       "            }\n",
       "        </style>\n",
       "      <progress value='2662' class='' max='2662' style='width:300px; height:20px; vertical-align: middle;'></progress>\n",
       "      100.00% [2662/2662 01:24<00:00 logp = 1.2586e+05, ||grad|| = 390.46]\n",
       "    </div>\n",
       "    "
      ],
      "text/plain": [
       "<IPython.core.display.HTML object>"
      ]
     },
     "metadata": {},
     "output_type": "display_data"
    },
    {
     "name": "stdout",
     "output_type": "stream",
     "text": [
      "\n",
      "Convergence after  28  iterations\n",
      "Convergence after  22  iterations\n",
      "Convergence after  22  iterations\n",
      "Convergence after  23  iterations\n",
      "Convergence after  23  iterations\n"
     ]
    },
    {
     "data": {
      "text/html": [
       "\n",
       "    <div>\n",
       "        <style>\n",
       "            /* Turns off some styling */\n",
       "            progress {\n",
       "                /* gets rid of default border in Firefox and Opera. */\n",
       "                border: none;\n",
       "                /* Needs to be in here for Safari polyfill so background images work as expected. */\n",
       "                background-size: auto;\n",
       "            }\n",
       "            .progress-bar-interrupted, .progress-bar-interrupted::-webkit-progress-bar {\n",
       "                background: #F44336;\n",
       "            }\n",
       "        </style>\n",
       "      <progress value='3547' class='' max='3547' style='width:300px; height:20px; vertical-align: middle;'></progress>\n",
       "      100.00% [3547/3547 01:56<00:00 logp = 1.2528e+05, ||grad|| = 487.53]\n",
       "    </div>\n",
       "    "
      ],
      "text/plain": [
       "<IPython.core.display.HTML object>"
      ]
     },
     "metadata": {},
     "output_type": "display_data"
    },
    {
     "name": "stdout",
     "output_type": "stream",
     "text": [
      "\n",
      "Convergence after  27  iterations\n",
      "Convergence after  22  iterations\n",
      "Convergence after  22  iterations\n",
      "Convergence after  22  iterations\n",
      "Convergence after  23  iterations\n",
      "Accuracy:  0.9625000000000001 ± 0.008893228107545626\n",
      "Train time:  139.65744345188142\n",
      "Test time:  0.055353331565856936\n",
      "Hyperparameters: \n",
      "Precision:  [73.98087943213655, 535.1351450826894, 581.4471537151932, 531.5625212043403, 527.7816718313668]\n",
      "Variance:  [0.0038836090231726657, 0.18563509847970536, 0.22728726246125183, 0.18239806647494197, 0.17811290174797648]\n"
     ]
    }
   ],
   "source": [
    "# BedRVFL\n",
    "model, acc, t = cross_val_acc(data, label, n_class, BEnsembleDeepRVFL, n_layer=5)\n",
    "\n",
    "print('Accuracy: ', acc[0], u\"\\u00B1\", acc[1])\n",
    "print('Train time: ', t[0])\n",
    "print('Test time: ', t[1])\n",
    "print('Hyperparameters: ')\n",
    "print('Precision: ', model.prec)\n",
    "print('Variance: ', model.var)"
   ]
  },
  {
   "cell_type": "code",
   "execution_count": null,
   "metadata": {},
   "outputs": [],
   "source": []
  }
 ],
 "metadata": {
  "interpreter": {
   "hash": "d29531488e2b7bac10af08b59c5a0d1dca9077738f8661c2e75b8529990c25ab"
  },
  "kernelspec": {
   "display_name": "Python 3.8.8 64-bit ('base': conda)",
   "name": "python3"
  },
  "language_info": {
   "codemirror_mode": {
    "name": "ipython",
    "version": 3
   },
   "file_extension": ".py",
   "mimetype": "text/x-python",
   "name": "python",
   "nbconvert_exporter": "python",
   "pygments_lexer": "ipython3",
   "version": "3.8.8"
  },
  "orig_nbformat": 4
 },
 "nbformat": 4,
 "nbformat_minor": 2
}
