{
 "cells": [
  {
   "cell_type": "code",
   "execution_count": 2,
   "metadata": {},
   "outputs": [],
   "source": [
    "from datasets import *\n",
    "from run_SS_helpers import *\n",
    "import numpy as np\n",
    "\n",
    "np.random.seed(42)"
   ]
  },
  {
   "cell_type": "code",
   "execution_count": 3,
   "metadata": {},
   "outputs": [],
   "source": [
    "# coil20\n",
    "data, label, n_class = coil20()\n",
    "partition = [40, 1000, 40, 360]\n",
    "NN = 2"
   ]
  },
  {
   "cell_type": "code",
   "execution_count": 3,
   "metadata": {},
   "outputs": [
    {
     "name": "stdout",
     "output_type": "stream",
     "text": [
      "running ELM...\n",
      "Unlab:  0.66275 ± 0.021467514217222886\n",
      "Val:  0.6979166666666666 ± 0.07249880267210548\n",
      "Test:  0.6493055555555557 ± 0.028057045248312297\n",
      "Lambda:  64\n",
      "Train time:  0.22174136837323508\n"
     ]
    }
   ],
   "source": [
    "run_ELM(data, label, n_class, partition)"
   ]
  },
  {
   "cell_type": "code",
   "execution_count": 4,
   "metadata": {},
   "outputs": [
    {
     "name": "stdout",
     "output_type": "stream",
     "text": [
      "running Laplacian ELM...\n",
      "Unlab:  0.822 ± 0.03677861697599117\n",
      "Val:  0.8583333333333334 ± 0.054326686710022075\n",
      "Test:  0.825462962962963 ± 0.0256307602512341\n",
      "Lambda:  [16, 4]\n",
      "Train time:  0.4073963761329651\n"
     ]
    }
   ],
   "source": [
    "run_LapELM(data, label, n_class, partition, NN)"
   ]
  },
  {
   "cell_type": "code",
   "execution_count": 4,
   "metadata": {},
   "outputs": [
    {
     "name": "stdout",
     "output_type": "stream",
     "text": [
      "running RVFL...\n",
      "Unlab:  0.6668333333333333 ± 0.02802032992112849\n",
      "Val:  0.7020833333333334 ± 0.08567035497896705\n",
      "Test:  0.6875 ± 0.043204640335293344\n",
      "Lambda:  256\n",
      "Train time:  0.257198562224706\n"
     ]
    }
   ],
   "source": [
    "run_RVFL(data, label, n_class, partition)"
   ]
  },
  {
   "cell_type": "code",
   "execution_count": 7,
   "metadata": {},
   "outputs": [
    {
     "name": "stdout",
     "output_type": "stream",
     "text": [
      "running Deep RVFL...\n",
      "Unlab:  0.6393333333333334 ± 0.03812989494988007\n",
      "Val:  0.6708333333333334 ± 0.07418539089485357\n",
      "Test:  0.6291666666666668 ± 0.045297087452586204\n",
      "Lambda:  0.25\n",
      "Train time:  6.622173925240834\n"
     ]
    }
   ],
   "source": [
    "run_dRVFL(data, label, n_class, partition)\n"
   ]
  },
  {
   "cell_type": "code",
   "execution_count": 8,
   "metadata": {},
   "outputs": [
    {
     "name": "stdout",
     "output_type": "stream",
     "text": [
      "running Ensemble Deep RVFL...\n",
      "Unlab:  0.6626666666666666 ± 0.04557289642856693\n",
      "Val:  0.6791666666666667 ± 0.062777163222164\n",
      "Test:  0.65 ± 0.04546003988490823\n",
      "Lambda:  0.25\n",
      "Train time:  4.459841509660085\n"
     ]
    }
   ],
   "source": [
    "run_edRVFL(data, label, n_class, partition)"
   ]
  },
  {
   "cell_type": "code",
   "execution_count": 9,
   "metadata": {},
   "outputs": [
    {
     "ename": "TypeError",
     "evalue": "run_BRVFL() missing 1 required positional argument: 'partition'",
     "output_type": "error",
     "traceback": [
      "\u001b[0;31m---------------------------------------------------------------------------\u001b[0m",
      "\u001b[0;31mTypeError\u001b[0m                                 Traceback (most recent call last)",
      "\u001b[0;32m<ipython-input-9-be345361432b>\u001b[0m in \u001b[0;36m<module>\u001b[0;34m\u001b[0m\n\u001b[0;32m----> 1\u001b[0;31m \u001b[0mrun_BRVFL\u001b[0m\u001b[0;34m(\u001b[0m\u001b[0mdata\u001b[0m\u001b[0;34m,\u001b[0m \u001b[0mlabel\u001b[0m\u001b[0;34m,\u001b[0m \u001b[0mn_class\u001b[0m\u001b[0;34m)\u001b[0m\u001b[0;34m\u001b[0m\u001b[0;34m\u001b[0m\u001b[0m\n\u001b[0m",
      "\u001b[0;31mTypeError\u001b[0m: run_BRVFL() missing 1 required positional argument: 'partition'"
     ]
    }
   ],
   "source": [
    "run_BRVFL(data, label, n_class, partition)\n"
   ]
  },
  {
   "cell_type": "code",
   "execution_count": 3,
   "metadata": {},
   "outputs": [
    {
     "name": "stdout",
     "output_type": "stream",
     "text": [
      "running Bayesian Deep RVFL...\n",
      "Validation: 1"
     ]
    },
    {
     "name": "stderr",
     "output_type": "stream",
     "text": [
      "\n"
     ]
    },
    {
     "name": "stdout",
     "output_type": "stream",
     "text": [
      "Validation: 2"
     ]
    },
    {
     "name": "stderr",
     "output_type": "stream",
     "text": [
      "\n"
     ]
    },
    {
     "name": "stdout",
     "output_type": "stream",
     "text": [
      "Validation: 3"
     ]
    },
    {
     "name": "stderr",
     "output_type": "stream",
     "text": [
      "\n"
     ]
    },
    {
     "name": "stdout",
     "output_type": "stream",
     "text": [
      "Validation: 4"
     ]
    },
    {
     "name": "stderr",
     "output_type": "stream",
     "text": [
      "\n"
     ]
    },
    {
     "name": "stdout",
     "output_type": "stream",
     "text": [
      "Validation: 5"
     ]
    },
    {
     "name": "stderr",
     "output_type": "stream",
     "text": [
      "\n"
     ]
    },
    {
     "name": "stdout",
     "output_type": "stream",
     "text": [
      "Validation: 6"
     ]
    },
    {
     "name": "stderr",
     "output_type": "stream",
     "text": [
      "\n"
     ]
    },
    {
     "name": "stdout",
     "output_type": "stream",
     "text": [
      "Validation: 7"
     ]
    },
    {
     "name": "stderr",
     "output_type": "stream",
     "text": [
      "\n"
     ]
    },
    {
     "name": "stdout",
     "output_type": "stream",
     "text": [
      "Validation: 8"
     ]
    },
    {
     "name": "stderr",
     "output_type": "stream",
     "text": [
      "\n"
     ]
    },
    {
     "name": "stdout",
     "output_type": "stream",
     "text": [
      "Validation: 9"
     ]
    },
    {
     "name": "stderr",
     "output_type": "stream",
     "text": [
      "\n"
     ]
    },
    {
     "name": "stdout",
     "output_type": "stream",
     "text": [
      "Validation: 10"
     ]
    },
    {
     "name": "stderr",
     "output_type": "stream",
     "text": [
      "\n"
     ]
    },
    {
     "name": "stdout",
     "output_type": "stream",
     "text": [
      "Accuracy:  0.9381944444444444 ± 0.018749999999999996\n",
      "Train time:  508.48341209888457\n",
      "Test time:  0.012239789962768555\n",
      "Hyperparameters: \n",
      "Precision:  67.44775595527686\n",
      "Variance:  6.14126188020987e-06\n"
     ]
    }
   ],
   "source": [
    "run_BdRVFL(data, label, n_class, partition)\n"
   ]
  },
  {
   "cell_type": "code",
   "execution_count": 13,
   "metadata": {},
   "outputs": [
    {
     "name": "stdout",
     "output_type": "stream",
     "text": [
      "running Bayesian Ensemble Deep RVFL...\n",
      "Validation: 10 Convergence after  28  iterations Convergence after  23  iterations Convergence after  23  iterations Convergence after  23  iterations Convergence after  23  iterationsAccuracy:  0.9652777777777779 ± 0.014894174020505016\n",
      "Train time:  35.06854329109192\n",
      "Test time:  0.011912298202514649\n",
      "Hyperparameters: \n",
      "Precision:  [78.95114744676583, 560.4604517432653, 578.6525430359645, 569.1265820338983, 569.9723689953801]\n",
      "Variance:  [0.004460804199861254, 0.19997031831038165, 0.21607801124306442, 0.21050527454187587, 0.21249484214748438]\n"
     ]
    }
   ],
   "source": [
    "run_BedRVFL(data, label, n_class, partition)\n"
   ]
  },
  {
   "cell_type": "code",
   "execution_count": 14,
   "metadata": {},
   "outputs": [
    {
     "name": "stdout",
     "output_type": "stream",
     "text": [
      "Accuracy:  0.961111111111111 ± 0.015590239111558072\n",
      "Lambda:  [4, 0.015625]\n",
      "Train time:  0.5842551708221435\n",
      "Test time:  0.0023134708404541015\n"
     ]
    }
   ],
   "source": [
    "run_LapRVFL(data, label, n_class)\n"
   ]
  },
  {
   "cell_type": "code",
   "execution_count": 15,
   "metadata": {},
   "outputs": [
    {
     "name": "stdout",
     "output_type": "stream",
     "text": [
      "Accuracy:  0.9631944444444445 ± 0.013555014788849398\n",
      "Lambda:  [64, 0.015625]\n",
      "Train time:  0.6402457475662231\n",
      "Test time:  0.004654479026794433\n"
     ]
    }
   ],
   "source": [
    "run_LapdRVFL(data, label, n_class)\n"
   ]
  },
  {
   "cell_type": "code",
   "execution_count": 16,
   "metadata": {},
   "outputs": [
    {
     "name": "stdout",
     "output_type": "stream",
     "text": [
      "Accuracy:  0.9604166666666668 ± 0.010780676872402799\n",
      "Lambda:  [64, 0.015625]\n",
      "Train time:  0.6261738777160645\n",
      "Test time:  0.004500675201416016\n"
     ]
    }
   ],
   "source": [
    "run_LapedRVFL(data, label, n_class)"
   ]
  },
  {
   "cell_type": "code",
   "execution_count": null,
   "metadata": {},
   "outputs": [],
   "source": []
  }
 ],
 "metadata": {
  "interpreter": {
   "hash": "d29531488e2b7bac10af08b59c5a0d1dca9077738f8661c2e75b8529990c25ab"
  },
  "kernelspec": {
   "display_name": "Python 3.8.8 64-bit ('base': conda)",
   "name": "python3"
  },
  "language_info": {
   "codemirror_mode": {
    "name": "ipython",
    "version": 3
   },
   "file_extension": ".py",
   "mimetype": "text/x-python",
   "name": "python",
   "nbconvert_exporter": "python",
   "pygments_lexer": "ipython3",
   "version": "3.8.8"
  }
 },
 "nbformat": 4,
 "nbformat_minor": 5
}
