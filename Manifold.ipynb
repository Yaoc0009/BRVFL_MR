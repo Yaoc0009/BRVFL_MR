{
 "cells": [
  {
   "cell_type": "code",
   "execution_count": 6,
   "metadata": {},
   "outputs": [],
   "source": [
    "import numpy as np\n",
    "from scipy.io import loadmat\n",
    "from scipy import sparse\n",
    "\n",
    "from sklearn.datasets import make_moons\n",
    "from sklearn.neighbors import kneighbors_graph\n",
    "from sklearn.cluster import KMeans\n",
    "from sklearn.metrics import homogeneity_score, completeness_score,v_measure_score\n",
    "\n",
    "import matplotlib.pyplot as plt\n"
   ]
  },
  {
   "cell_type": "code",
   "execution_count": 5,
   "metadata": {},
   "outputs": [],
   "source": [
    "dataset = loadmat('coil20.mat')\n",
    "label = np.array([dataset['Y'][i][0] - 1 for i in range(len(dataset['Y']))])\n",
    "data = dataset['X']\n",
    "n_class = len(np.unique(label))"
   ]
  },
  {
   "cell_type": "code",
   "execution_count": 7,
   "metadata": {},
   "outputs": [],
   "source": [
    "n_neighbors = 10\n",
    "knn_dist_graph = kneighbors_graph(X=data,\n",
    "                                 n_neighbors=n_neighbors,\n",
    "                                 mode='distance',\n",
    "                                 metric='euclidean',\n",
    "                                 n_jobs=6)"
   ]
  },
  {
   "cell_type": "code",
   "execution_count": 8,
   "metadata": {},
   "outputs": [
    {
     "data": {
      "text/plain": [
       "matrix([[0.        , 1.26885262, 2.66702216, 3.67019378, 4.72927933,\n",
       "         0.        , 0.        , 0.        , 0.        , 0.        ,\n",
       "         0.        , 0.        , 0.        , 0.        , 0.        ,\n",
       "         0.        , 0.        , 0.        , 0.        , 0.        ,\n",
       "         0.        , 0.        , 0.        , 0.        , 0.        ,\n",
       "         0.        , 0.        , 0.        , 0.        , 0.        ,\n",
       "         0.        , 0.        , 0.        , 0.        , 0.        ,\n",
       "         0.        , 0.        , 0.        , 0.        , 0.        ,\n",
       "         0.        , 0.        , 0.        , 0.        , 0.        ,\n",
       "         0.        , 0.        , 0.        , 0.        , 0.        ]])"
      ]
     },
     "execution_count": 8,
     "metadata": {},
     "output_type": "execute_result"
    }
   ],
   "source": [
    "knn_dist_graph.todense()[0][:,:50]"
   ]
  },
  {
   "cell_type": "code",
   "execution_count": 9,
   "metadata": {},
   "outputs": [
    {
     "name": "stderr",
     "output_type": "stream",
     "text": [
      "C:\\Users\\yc000\\miniconda3\\envs\\pm3env\\lib\\site-packages\\scipy\\sparse\\_index.py:125: SparseEfficiencyWarning: Changing the sparsity structure of a csr_matrix is expensive. lil_matrix is more efficient.\n",
      "  self._set_arrayXarray(i, j, x)\n"
     ]
    },
    {
     "data": {
      "text/plain": [
       "matrix([[0.00000000e+00, 4.47090841e-01, 2.85384323e-02, 1.18838361e-03,\n",
       "         1.39080678e-05, 1.89489814e-08, 0.00000000e+00, 0.00000000e+00,\n",
       "         0.00000000e+00, 0.00000000e+00, 0.00000000e+00, 0.00000000e+00,\n",
       "         0.00000000e+00, 0.00000000e+00, 0.00000000e+00, 0.00000000e+00,\n",
       "         0.00000000e+00, 0.00000000e+00, 0.00000000e+00, 0.00000000e+00,\n",
       "         0.00000000e+00, 0.00000000e+00, 0.00000000e+00, 0.00000000e+00,\n",
       "         0.00000000e+00, 0.00000000e+00, 0.00000000e+00, 0.00000000e+00,\n",
       "         0.00000000e+00, 0.00000000e+00, 0.00000000e+00, 0.00000000e+00,\n",
       "         0.00000000e+00, 0.00000000e+00, 0.00000000e+00, 0.00000000e+00,\n",
       "         0.00000000e+00, 0.00000000e+00, 0.00000000e+00, 0.00000000e+00,\n",
       "         0.00000000e+00, 0.00000000e+00, 0.00000000e+00, 0.00000000e+00,\n",
       "         0.00000000e+00, 0.00000000e+00, 0.00000000e+00, 0.00000000e+00,\n",
       "         0.00000000e+00, 0.00000000e+00]])"
      ]
     },
     "execution_count": 9,
     "metadata": {},
     "output_type": "execute_result"
    }
   ],
   "source": [
    "sigma = 1\n",
    "similarity_graph = sparse.csr_matrix(knn_dist_graph.shape)\n",
    "nonzeroindices = knn_dist_graph.nonzero()\n",
    "\n",
    "similarity_graph[nonzeroindices] = np.exp(-np.asarray(knn_dist_graph[nonzeroindices])**2 / 2.0 * sigma**2)\n",
    "\n",
    "similarity_graph = 0.5 * (similarity_graph + similarity_graph.T)\n",
    "similarity_graph.todense()[0][:,:50]"
   ]
  },
  {
   "cell_type": "code",
   "execution_count": 10,
   "metadata": {},
   "outputs": [],
   "source": [
    "degree_matrix = similarity_graph.sum(axis=1)\n",
    "diagonal_matrix = np.diag(np.asarray(degree_matrix).reshape(len(data),))\n",
    "\n",
    "L =  diagonal_matrix - similarity_graph"
   ]
  },
  {
   "cell_type": "code",
   "execution_count": 11,
   "metadata": {},
   "outputs": [
    {
     "data": {
      "text/plain": [
       "matrix([[ 0.87646982, -0.44709084, -0.02853843, ...,  0.        ,\n",
       "          0.        ,  0.        ],\n",
       "        [-0.44709084,  0.71876647, -0.20767633, ...,  0.        ,\n",
       "          0.        ,  0.        ],\n",
       "        [-0.02853843, -0.20767633,  0.67805609, ...,  0.        ,\n",
       "          0.        ,  0.        ],\n",
       "        ...,\n",
       "        [ 0.        ,  0.        ,  0.        , ...,  0.48957492,\n",
       "         -0.15864191, -0.0360337 ],\n",
       "        [ 0.        ,  0.        ,  0.        , ..., -0.15864191,\n",
       "          0.31722138, -0.08538867],\n",
       "        [ 0.        ,  0.        ,  0.        , ..., -0.0360337 ,\n",
       "         -0.08538867,  0.58968072]])"
      ]
     },
     "execution_count": 11,
     "metadata": {},
     "output_type": "execute_result"
    }
   ],
   "source": [
    "L"
   ]
  },
  {
   "cell_type": "code",
   "execution_count": null,
   "metadata": {},
   "outputs": [],
   "source": []
  }
 ],
 "metadata": {
  "interpreter": {
   "hash": "53e53f2e48b5b02ad96e830940e12ad58baf9aca82a333a77928015526d4f330"
  },
  "kernelspec": {
   "display_name": "Python 3.9.7 64-bit ('pm3env': conda)",
   "name": "python3"
  },
  "language_info": {
   "codemirror_mode": {
    "name": "ipython",
    "version": 3
   },
   "file_extension": ".py",
   "mimetype": "text/x-python",
   "name": "python",
   "nbconvert_exporter": "python",
   "pygments_lexer": "ipython3",
   "version": "3.9.7"
  },
  "orig_nbformat": 4
 },
 "nbformat": 4,
 "nbformat_minor": 2
}
