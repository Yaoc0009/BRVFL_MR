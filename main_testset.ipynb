{
 "cells": [
  {
   "cell_type": "code",
   "execution_count": 1,
   "metadata": {},
   "outputs": [],
   "source": [
    "from sklearn.model_selection import train_test_split, KFold\n",
    "from scipy.io import loadmat\n",
    "import numpy as np\n",
    "from models import *\n",
    "\n",
    "# set random seed\n",
    "np.random.seed(42)\n",
    "\n",
    "dataset = loadmat('coil20.mat')\n",
    "label = np.array([dataset['Y'][i][0] - 1 for i in range(len(dataset['Y']))])\n",
    "data = dataset['X']\n",
    "n_class = len(np.unique(label))\n",
    "\n",
    "# train-test-split\n",
    "X_train, X_test, y_train, y_test = train_test_split(data, label, test_size=0.2)\n",
    "kf = KFold(n_splits=10, shuffle=True)\n",
    "val_acc = []\n",
    "max_index = -1\n"
   ]
  },
  {
   "cell_type": "code",
   "execution_count": 5,
   "metadata": {},
   "outputs": [
    {
     "name": "stdout",
     "output_type": "stream",
     "text": [
      "Validation: 1\n",
      "Validation accuracy: 0.9396551724137931\n",
      "Validation: 2\n",
      "Validation accuracy: 0.9310344827586207\n",
      "Validation: 3\n",
      "Validation accuracy: 0.9478260869565217\n",
      "Validation: 4\n",
      "Validation accuracy: 0.9565217391304348\n",
      "Validation: 5\n",
      "Validation accuracy: 0.9391304347826087\n",
      "Validation: 6\n",
      "Validation accuracy: 0.9217391304347826\n",
      "Validation: 7\n",
      "Validation accuracy: 0.9652173913043478\n",
      "Validation: 8\n",
      "Validation accuracy: 0.9478260869565217\n",
      "Validation: 9\n",
      "Validation accuracy: 0.9478260869565217\n",
      "Validation: 10\n",
      "Validation accuracy: 0.9565217391304348\n",
      "\n",
      "Test accuracy: 0.9236111111111112\n"
     ]
    }
   ],
   "source": [
    "# RVFL\n",
    "\n",
    "n_node = 10 # num of nodes in hidden layer\n",
    "lam = 1 # regularization parameter, lambda\n",
    "w_range = [-1, 1] # range of random weights\n",
    "b_range = [0, 1] # range of random biases\n",
    "\n",
    "for i, kf_values in enumerate(kf.split(X_train, y_train)):\n",
    "#     print(f'train: {train_index}, val: {val_index}')\n",
    "    print('Validation: {}'.format(i + 1))\n",
    "    train_index, val_index = kf_values\n",
    "    X_val_train, X_val_test = X_train[train_index], X_train[val_index]\n",
    "    y_val_train, y_val_test = y_train[train_index], y_train[val_index]\n",
    "    model = RVFL(n_node, lam, w_range, b_range)\n",
    "    model.train(X_val_train, y_val_train, n_class)\n",
    "    prediction = model.predict(X_val_test, True)\n",
    "    acc = model.eval(X_val_test, y_val_test)\n",
    "    print(f'Validation accuracy: {acc}')\n",
    "    val_acc.append(acc)\n",
    "    if acc >= max(val_acc):\n",
    "        max_index = train_index\n",
    "\n",
    "X_train, y_train = X_train[max_index], y_train[max_index]\n",
    "model = RVFL(n_node, lam, w_range, b_range)\n",
    "model.train(X_train, y_train, n_class)\n",
    "prediction = model.predict(X_test, True)\n",
    "acc = model.eval(X_test, y_test)\n",
    "print(f'\\nTest accuracy: {acc}')"
   ]
  },
  {
   "cell_type": "code",
   "execution_count": 6,
   "metadata": {},
   "outputs": [
    {
     "name": "stdout",
     "output_type": "stream",
     "text": [
      "Validation: 1\n",
      "Validation accuracy: 0.9396551724137931\n",
      "Validation: 2\n",
      "Validation accuracy: 0.9482758620689655\n",
      "Validation: 3\n",
      "Validation accuracy: 0.9391304347826087\n",
      "Validation: 4\n",
      "Validation accuracy: 0.9652173913043478\n",
      "Validation: 5\n",
      "Validation accuracy: 0.9304347826086956\n",
      "Validation: 6\n",
      "Validation accuracy: 0.9217391304347826\n",
      "Validation: 7\n",
      "Validation accuracy: 0.9652173913043478\n",
      "Validation: 8\n",
      "Validation accuracy: 0.9304347826086956\n",
      "Validation: 9\n",
      "Validation accuracy: 0.9652173913043478\n",
      "Validation: 10\n",
      "Validation accuracy: 0.9652173913043478\n",
      "\n",
      "Test accuracy: 0.9305555555555556\n"
     ]
    }
   ],
   "source": [
    "# dRVFL\n",
    "\n",
    "n_node = 10 # num of nodes in hidden layer\n",
    "n_layer = 2 # num of hidden layers\n",
    "lam = 1 # regularization parameter, lambda\n",
    "w_range = [-1, 1] # range of random weights\n",
    "b_range = [0, 1] # range of random biases\n",
    "\n",
    "for i, kf_values in enumerate(kf.split(X_train, y_train)):\n",
    "#     print(f'train: {train_index}, val: {val_index}')\n",
    "    print('Validation: {}'.format(i + 1))\n",
    "    train_index, val_index = kf_values\n",
    "    X_val_train, X_val_test = X_train[train_index], X_train[val_index]\n",
    "    y_val_train, y_val_test = y_train[train_index], y_train[val_index]\n",
    "    model = DeepRVFL(n_node, lam, w_range, b_range, n_layer)\n",
    "    model.train(X_val_train, y_val_train, n_class)\n",
    "    prediction = model.predict(X_val_test, False)\n",
    "    acc = model.eval(X_val_test, y_val_test)\n",
    "    print(f'Validation accuracy: {acc}')\n",
    "    val_acc.append(acc)\n",
    "    if acc >= max(val_acc):\n",
    "        max_index = train_index\n",
    "\n",
    "X_train, y_train = X_train[max_index], y_train[max_index]\n",
    "model = DeepRVFL(n_node, lam, w_range, b_range, n_layer)\n",
    "model.train(X_train, y_train, n_class)\n",
    "prediction = model.predict(X_test, False)\n",
    "acc = model.eval(X_test, y_test)\n",
    "print(f'\\nTest accuracy: {acc}')"
   ]
  },
  {
   "cell_type": "code",
   "execution_count": 7,
   "metadata": {},
   "outputs": [
    {
     "name": "stdout",
     "output_type": "stream",
     "text": [
      "Validation: 1\n",
      "Validation accuracy: 0.9310344827586207\n",
      "Validation: 2\n",
      "Validation accuracy: 0.9482758620689655\n",
      "Validation: 3\n",
      "Validation accuracy: 0.9478260869565217\n",
      "Validation: 4\n",
      "Validation accuracy: 0.9565217391304348\n",
      "Validation: 5\n",
      "Validation accuracy: 0.9217391304347826\n",
      "Validation: 6\n",
      "Validation accuracy: 0.9304347826086956\n",
      "Validation: 7\n",
      "Validation accuracy: 0.9652173913043478\n",
      "Validation: 8\n",
      "Validation accuracy: 0.9565217391304348\n",
      "Validation: 9\n",
      "Validation accuracy: 0.9652173913043478\n",
      "Validation: 10\n",
      "Validation accuracy: 0.9391304347826087\n",
      "\n",
      "Test accuracy: 0.9236111111111112\n"
     ]
    }
   ],
   "source": [
    "# edRVFL\n",
    "\n",
    "n_node = 10 # num of nodes in hidden layer\n",
    "n_layer = 2 # num of hidden layers\n",
    "lam = 1 # regularization parameter, lambda\n",
    "w_range = [-1, 1] # range of random weights\n",
    "b_range = [0, 1] # range of random biases\n",
    "\n",
    "for i, kf_values in enumerate(kf.split(X_train, y_train)):\n",
    "#     print(f'train: {train_index}, val: {val_index}')\n",
    "    print('Validation: {}'.format(i + 1))\n",
    "    train_index, val_index = kf_values\n",
    "    X_val_train, X_val_test = X_train[train_index], X_train[val_index]\n",
    "    y_val_train, y_val_test = y_train[train_index], y_train[val_index]\n",
    "    model = EnsembleDeepRVFL(n_node, lam, w_range, b_range, n_layer)\n",
    "    model.train(X_val_train, y_val_train, n_class)\n",
    "    prediction = model.predict(X_val_test, False)\n",
    "    acc = model.eval(X_val_test, y_val_test)\n",
    "    print(f'Validation accuracy: {acc}')\n",
    "    val_acc.append(acc)\n",
    "    if acc >= max(val_acc):\n",
    "        max_index = train_index\n",
    "\n",
    "X_train, y_train = X_train[max_index], y_train[max_index]\n",
    "model = EnsembleDeepRVFL(n_node, lam, w_range, b_range, n_layer)\n",
    "model.train(X_train, y_train, n_class)\n",
    "prediction = model.predict(X_test, False)\n",
    "acc = model.eval(X_test, y_test)\n",
    "print(f'\\nTest accuracy: {acc}')"
   ]
  },
  {
   "cell_type": "code",
   "execution_count": 3,
   "metadata": {},
   "outputs": [
    {
     "name": "stdout",
     "output_type": "stream",
     "text": [
      "Validation: 1\n"
     ]
    },
    {
     "data": {
      "text/html": [
       "\n",
       "    <div>\n",
       "        <style>\n",
       "            /* Turns off some styling */\n",
       "            progress {\n",
       "                /* gets rid of default border in Firefox and Opera. */\n",
       "                border: none;\n",
       "                /* Needs to be in here for Safari polyfill so background images work as expected. */\n",
       "                background-size: auto;\n",
       "            }\n",
       "            .progress-bar-interrupted, .progress-bar-interrupted::-webkit-progress-bar {\n",
       "                background: #F44336;\n",
       "            }\n",
       "        </style>\n",
       "      <progress value='5001' class='' max='5001' style='width:300px; height:20px; vertical-align: middle;'></progress>\n",
       "      100.00% [5001/5001 01:37<00:00 logp = 1.1275e+05, ||grad|| = 73,753]\n",
       "    </div>\n",
       "    "
      ],
      "text/plain": [
       "<IPython.core.display.HTML object>"
      ]
     },
     "metadata": {},
     "output_type": "display_data"
    },
    {
     "name": "stderr",
     "output_type": "stream",
     "text": [
      "\n"
     ]
    },
    {
     "name": "stdout",
     "output_type": "stream",
     "text": [
      "\n",
      "Convergence after  17  iterations\n",
      "Validation accuracy: 0.896551724137931\n",
      "Validation: 2\n"
     ]
    },
    {
     "data": {
      "text/html": [
       "\n",
       "    <div>\n",
       "        <style>\n",
       "            /* Turns off some styling */\n",
       "            progress {\n",
       "                /* gets rid of default border in Firefox and Opera. */\n",
       "                border: none;\n",
       "                /* Needs to be in here for Safari polyfill so background images work as expected. */\n",
       "                background-size: auto;\n",
       "            }\n",
       "            .progress-bar-interrupted, .progress-bar-interrupted::-webkit-progress-bar {\n",
       "                background: #F44336;\n",
       "            }\n",
       "        </style>\n",
       "      <progress value='5001' class='' max='5001' style='width:300px; height:20px; vertical-align: middle;'></progress>\n",
       "      100.00% [5001/5001 01:37<00:00 logp = 1.1374e+05, ||grad|| = 49,675]\n",
       "    </div>\n",
       "    "
      ],
      "text/plain": [
       "<IPython.core.display.HTML object>"
      ]
     },
     "metadata": {},
     "output_type": "display_data"
    },
    {
     "name": "stderr",
     "output_type": "stream",
     "text": [
      "\n"
     ]
    },
    {
     "name": "stdout",
     "output_type": "stream",
     "text": [
      "\n",
      "Convergence after  16  iterations\n",
      "Validation accuracy: 0.8706896551724138\n",
      "Validation: 3\n"
     ]
    },
    {
     "data": {
      "text/html": [
       "\n",
       "    <div>\n",
       "        <style>\n",
       "            /* Turns off some styling */\n",
       "            progress {\n",
       "                /* gets rid of default border in Firefox and Opera. */\n",
       "                border: none;\n",
       "                /* Needs to be in here for Safari polyfill so background images work as expected. */\n",
       "                background-size: auto;\n",
       "            }\n",
       "            .progress-bar-interrupted, .progress-bar-interrupted::-webkit-progress-bar {\n",
       "                background: #F44336;\n",
       "            }\n",
       "        </style>\n",
       "      <progress value='5001' class='' max='5001' style='width:300px; height:20px; vertical-align: middle;'></progress>\n",
       "      100.00% [5001/5001 01:37<00:00 logp = 1.1379e+05, ||grad|| = 45,205]\n",
       "    </div>\n",
       "    "
      ],
      "text/plain": [
       "<IPython.core.display.HTML object>"
      ]
     },
     "metadata": {},
     "output_type": "display_data"
    },
    {
     "name": "stderr",
     "output_type": "stream",
     "text": [
      "\n"
     ]
    },
    {
     "name": "stdout",
     "output_type": "stream",
     "text": [
      "\n",
      "Convergence after  17  iterations\n",
      "Validation accuracy: 0.9217391304347826\n",
      "Validation: 4\n"
     ]
    },
    {
     "data": {
      "text/html": [
       "\n",
       "    <div>\n",
       "        <style>\n",
       "            /* Turns off some styling */\n",
       "            progress {\n",
       "                /* gets rid of default border in Firefox and Opera. */\n",
       "                border: none;\n",
       "                /* Needs to be in here for Safari polyfill so background images work as expected. */\n",
       "                background-size: auto;\n",
       "            }\n",
       "            .progress-bar-interrupted, .progress-bar-interrupted::-webkit-progress-bar {\n",
       "                background: #F44336;\n",
       "            }\n",
       "        </style>\n",
       "      <progress value='989' class='' max='989' style='width:300px; height:20px; vertical-align: middle;'></progress>\n",
       "      100.00% [989/989 00:17<00:00 logp = 1.083e+05, ||grad|| = 484.82]\n",
       "    </div>\n",
       "    "
      ],
      "text/plain": [
       "<IPython.core.display.HTML object>"
      ]
     },
     "metadata": {},
     "output_type": "display_data"
    },
    {
     "name": "stdout",
     "output_type": "stream",
     "text": [
      "\n",
      "Convergence after  16  iterations\n",
      "Validation accuracy: 0.9652173913043478\n",
      "Validation: 5\n"
     ]
    },
    {
     "data": {
      "text/html": [
       "\n",
       "    <div>\n",
       "        <style>\n",
       "            /* Turns off some styling */\n",
       "            progress {\n",
       "                /* gets rid of default border in Firefox and Opera. */\n",
       "                border: none;\n",
       "                /* Needs to be in here for Safari polyfill so background images work as expected. */\n",
       "                background-size: auto;\n",
       "            }\n",
       "            .progress-bar-interrupted, .progress-bar-interrupted::-webkit-progress-bar {\n",
       "                background: #F44336;\n",
       "            }\n",
       "        </style>\n",
       "      <progress value='5001' class='' max='5001' style='width:300px; height:20px; vertical-align: middle;'></progress>\n",
       "      100.00% [5001/5001 01:23<00:00 logp = 1.1423e+05, ||grad|| = 24,582]\n",
       "    </div>\n",
       "    "
      ],
      "text/plain": [
       "<IPython.core.display.HTML object>"
      ]
     },
     "metadata": {},
     "output_type": "display_data"
    },
    {
     "name": "stderr",
     "output_type": "stream",
     "text": [
      "\n"
     ]
    },
    {
     "name": "stdout",
     "output_type": "stream",
     "text": [
      "\n",
      "Convergence after  16  iterations\n",
      "Validation accuracy: 0.8782608695652174\n",
      "Validation: 6\n"
     ]
    },
    {
     "data": {
      "text/html": [
       "\n",
       "    <div>\n",
       "        <style>\n",
       "            /* Turns off some styling */\n",
       "            progress {\n",
       "                /* gets rid of default border in Firefox and Opera. */\n",
       "                border: none;\n",
       "                /* Needs to be in here for Safari polyfill so background images work as expected. */\n",
       "                background-size: auto;\n",
       "            }\n",
       "            .progress-bar-interrupted, .progress-bar-interrupted::-webkit-progress-bar {\n",
       "                background: #F44336;\n",
       "            }\n",
       "        </style>\n",
       "      <progress value='5001' class='' max='5001' style='width:300px; height:20px; vertical-align: middle;'></progress>\n",
       "      100.00% [5001/5001 01:26<00:00 logp = 1.1416e+05, ||grad|| = 45,942]\n",
       "    </div>\n",
       "    "
      ],
      "text/plain": [
       "<IPython.core.display.HTML object>"
      ]
     },
     "metadata": {},
     "output_type": "display_data"
    },
    {
     "name": "stderr",
     "output_type": "stream",
     "text": [
      "\n"
     ]
    },
    {
     "name": "stdout",
     "output_type": "stream",
     "text": [
      "\n",
      "Convergence after  17  iterations\n",
      "Validation accuracy: 0.8608695652173913\n",
      "Validation: 7\n"
     ]
    },
    {
     "data": {
      "text/html": [
       "\n",
       "    <div>\n",
       "        <style>\n",
       "            /* Turns off some styling */\n",
       "            progress {\n",
       "                /* gets rid of default border in Firefox and Opera. */\n",
       "                border: none;\n",
       "                /* Needs to be in here for Safari polyfill so background images work as expected. */\n",
       "                background-size: auto;\n",
       "            }\n",
       "            .progress-bar-interrupted, .progress-bar-interrupted::-webkit-progress-bar {\n",
       "                background: #F44336;\n",
       "            }\n",
       "        </style>\n",
       "      <progress value='5001' class='' max='5001' style='width:300px; height:20px; vertical-align: middle;'></progress>\n",
       "      100.00% [5001/5001 01:25<00:00 logp = 1.142e+05, ||grad|| = 48,200]\n",
       "    </div>\n",
       "    "
      ],
      "text/plain": [
       "<IPython.core.display.HTML object>"
      ]
     },
     "metadata": {},
     "output_type": "display_data"
    },
    {
     "name": "stderr",
     "output_type": "stream",
     "text": [
      "\n"
     ]
    },
    {
     "name": "stdout",
     "output_type": "stream",
     "text": [
      "\n",
      "Convergence after  17  iterations\n",
      "Validation accuracy: 0.9304347826086956\n",
      "Validation: 8\n"
     ]
    },
    {
     "data": {
      "text/html": [
       "\n",
       "    <div>\n",
       "        <style>\n",
       "            /* Turns off some styling */\n",
       "            progress {\n",
       "                /* gets rid of default border in Firefox and Opera. */\n",
       "                border: none;\n",
       "                /* Needs to be in here for Safari polyfill so background images work as expected. */\n",
       "                background-size: auto;\n",
       "            }\n",
       "            .progress-bar-interrupted, .progress-bar-interrupted::-webkit-progress-bar {\n",
       "                background: #F44336;\n",
       "            }\n",
       "        </style>\n",
       "      <progress value='5001' class='' max='5001' style='width:300px; height:20px; vertical-align: middle;'></progress>\n",
       "      100.00% [5001/5001 01:26<00:00 logp = 1.1346e+05, ||grad|| = 53,988]\n",
       "    </div>\n",
       "    "
      ],
      "text/plain": [
       "<IPython.core.display.HTML object>"
      ]
     },
     "metadata": {},
     "output_type": "display_data"
    },
    {
     "name": "stderr",
     "output_type": "stream",
     "text": [
      "\n"
     ]
    },
    {
     "name": "stdout",
     "output_type": "stream",
     "text": [
      "\n",
      "Convergence after  17  iterations\n",
      "Validation accuracy: 0.8782608695652174\n",
      "Validation: 9\n"
     ]
    },
    {
     "data": {
      "text/html": [
       "\n",
       "    <div>\n",
       "        <style>\n",
       "            /* Turns off some styling */\n",
       "            progress {\n",
       "                /* gets rid of default border in Firefox and Opera. */\n",
       "                border: none;\n",
       "                /* Needs to be in here for Safari polyfill so background images work as expected. */\n",
       "                background-size: auto;\n",
       "            }\n",
       "            .progress-bar-interrupted, .progress-bar-interrupted::-webkit-progress-bar {\n",
       "                background: #F44336;\n",
       "            }\n",
       "        </style>\n",
       "      <progress value='1101' class='' max='1101' style='width:300px; height:20px; vertical-align: middle;'></progress>\n",
       "      100.00% [1101/1101 00:11<00:00 logp = 1.0817e+05, ||grad|| = 1,589.2]\n",
       "    </div>\n",
       "    "
      ],
      "text/plain": [
       "<IPython.core.display.HTML object>"
      ]
     },
     "metadata": {},
     "output_type": "display_data"
    },
    {
     "name": "stdout",
     "output_type": "stream",
     "text": [
      "\n",
      "Convergence after  16  iterations\n",
      "Validation accuracy: 0.9652173913043478\n",
      "Validation: 10\n"
     ]
    },
    {
     "data": {
      "text/html": [
       "\n",
       "    <div>\n",
       "        <style>\n",
       "            /* Turns off some styling */\n",
       "            progress {\n",
       "                /* gets rid of default border in Firefox and Opera. */\n",
       "                border: none;\n",
       "                /* Needs to be in here for Safari polyfill so background images work as expected. */\n",
       "                background-size: auto;\n",
       "            }\n",
       "            .progress-bar-interrupted, .progress-bar-interrupted::-webkit-progress-bar {\n",
       "                background: #F44336;\n",
       "            }\n",
       "        </style>\n",
       "      <progress value='5001' class='' max='5001' style='width:300px; height:20px; vertical-align: middle;'></progress>\n",
       "      100.00% [5001/5001 00:50<00:00 logp = 1.1435e+05, ||grad|| = 34,733]\n",
       "    </div>\n",
       "    "
      ],
      "text/plain": [
       "<IPython.core.display.HTML object>"
      ]
     },
     "metadata": {},
     "output_type": "display_data"
    },
    {
     "name": "stderr",
     "output_type": "stream",
     "text": [
      "\n"
     ]
    },
    {
     "name": "stdout",
     "output_type": "stream",
     "text": [
      "\n",
      "Convergence after  17  iterations\n",
      "Validation accuracy: 0.8869565217391304\n"
     ]
    },
    {
     "data": {
      "text/html": [
       "\n",
       "    <div>\n",
       "        <style>\n",
       "            /* Turns off some styling */\n",
       "            progress {\n",
       "                /* gets rid of default border in Firefox and Opera. */\n",
       "                border: none;\n",
       "                /* Needs to be in here for Safari polyfill so background images work as expected. */\n",
       "                background-size: auto;\n",
       "            }\n",
       "            .progress-bar-interrupted, .progress-bar-interrupted::-webkit-progress-bar {\n",
       "                background: #F44336;\n",
       "            }\n",
       "        </style>\n",
       "      <progress value='1486' class='' max='1486' style='width:300px; height:20px; vertical-align: middle;'></progress>\n",
       "      100.00% [1486/1486 00:14<00:00 logp = 1.8707e+05, ||grad|| = 46,810]\n",
       "    </div>\n",
       "    "
      ],
      "text/plain": [
       "<IPython.core.display.HTML object>"
      ]
     },
     "metadata": {},
     "output_type": "display_data"
    },
    {
     "name": "stdout",
     "output_type": "stream",
     "text": [
      "\n",
      "Convergence after  14  iterations\n",
      "\n",
      "Test accuracy: 0.9166666666666666\n"
     ]
    }
   ],
   "source": [
    "# BRVFL\n",
    "\n",
    "n_node = 10 # num of nodes in hidden layer\n",
    "w_range = [-1, 1] # range of random weights\n",
    "b_range = [0, 1] # range of random biases\n",
    "\n",
    "for i, kf_values in enumerate(kf.split(X_train, y_train)):\n",
    "#     print(f'train: {train_index}, val: {val_index}')\n",
    "    print('Validation: {}'.format(i + 1))\n",
    "    train_index, val_index = kf_values\n",
    "    X_val_train, X_val_test = X_train[train_index], X_train[val_index]\n",
    "    y_val_train, y_val_test = y_train[train_index], y_train[val_index]\n",
    "    brvfl = BRVFL(n_node, w_range, b_range)\n",
    "    brvfl.train(X_val_train, y_val_train, n_class)\n",
    "    prediction = brvfl.predict(X_val_test, True)\n",
    "    acc = brvfl.eval(X_val_test, y_val_test)\n",
    "    print(f'Validation accuracy: {acc}')\n",
    "    val_acc.append(acc)\n",
    "    if acc >= max(val_acc):\n",
    "        max_index = train_index\n",
    "\n",
    "X_train, y_train = X_train[max_index], y_train[max_index]\n",
    "brvfl = BRVFL(n_node, w_range, b_range)\n",
    "brvfl.train(X_train, y_train, n_class)\n",
    "prediction = brvfl.predict(X_test, True)\n",
    "acc = brvfl.eval(X_test, y_test)\n",
    "print(f'\\nTest accuracy: {acc}')"
   ]
  },
  {
   "cell_type": "code",
   "execution_count": 2,
   "metadata": {},
   "outputs": [
    {
     "name": "stdout",
     "output_type": "stream",
     "text": [
      "Validation: 1\n"
     ]
    },
    {
     "data": {
      "text/html": [
       "\n",
       "    <div>\n",
       "        <style>\n",
       "            /* Turns off some styling */\n",
       "            progress {\n",
       "                /* gets rid of default border in Firefox and Opera. */\n",
       "                border: none;\n",
       "                /* Needs to be in here for Safari polyfill so background images work as expected. */\n",
       "                background-size: auto;\n",
       "            }\n",
       "            .progress-bar-interrupted, .progress-bar-interrupted::-webkit-progress-bar {\n",
       "                background: #F44336;\n",
       "            }\n",
       "        </style>\n",
       "      <progress value='5001' class='' max='5001' style='width:300px; height:20px; vertical-align: middle;'></progress>\n",
       "      100.00% [5001/5001 01:44<00:00 logp = 1.2084e+05, ||grad|| = 40,917]\n",
       "    </div>\n",
       "    "
      ],
      "text/plain": [
       "<IPython.core.display.HTML object>"
      ]
     },
     "metadata": {},
     "output_type": "display_data"
    },
    {
     "name": "stderr",
     "output_type": "stream",
     "text": [
      "\n"
     ]
    },
    {
     "name": "stdout",
     "output_type": "stream",
     "text": [
      "\n",
      "Convergence after  16  iterations\n",
      "Validation accuracy: 0.9051724137931034\n",
      "Validation: 2\n"
     ]
    },
    {
     "data": {
      "text/html": [
       "\n",
       "    <div>\n",
       "        <style>\n",
       "            /* Turns off some styling */\n",
       "            progress {\n",
       "                /* gets rid of default border in Firefox and Opera. */\n",
       "                border: none;\n",
       "                /* Needs to be in here for Safari polyfill so background images work as expected. */\n",
       "                background-size: auto;\n",
       "            }\n",
       "            .progress-bar-interrupted, .progress-bar-interrupted::-webkit-progress-bar {\n",
       "                background: #F44336;\n",
       "            }\n",
       "        </style>\n",
       "      <progress value='5001' class='' max='5001' style='width:300px; height:20px; vertical-align: middle;'></progress>\n",
       "      100.00% [5001/5001 01:42<00:00 logp = 1.2142e+05, ||grad|| = 99,491]\n",
       "    </div>\n",
       "    "
      ],
      "text/plain": [
       "<IPython.core.display.HTML object>"
      ]
     },
     "metadata": {},
     "output_type": "display_data"
    },
    {
     "name": "stderr",
     "output_type": "stream",
     "text": [
      "\n"
     ]
    },
    {
     "name": "stdout",
     "output_type": "stream",
     "text": [
      "\n",
      "Convergence after  16  iterations\n",
      "Validation accuracy: 0.8793103448275862\n",
      "Validation: 3\n"
     ]
    },
    {
     "data": {
      "text/html": [
       "\n",
       "    <div>\n",
       "        <style>\n",
       "            /* Turns off some styling */\n",
       "            progress {\n",
       "                /* gets rid of default border in Firefox and Opera. */\n",
       "                border: none;\n",
       "                /* Needs to be in here for Safari polyfill so background images work as expected. */\n",
       "                background-size: auto;\n",
       "            }\n",
       "            .progress-bar-interrupted, .progress-bar-interrupted::-webkit-progress-bar {\n",
       "                background: #F44336;\n",
       "            }\n",
       "        </style>\n",
       "      <progress value='5001' class='' max='5001' style='width:300px; height:20px; vertical-align: middle;'></progress>\n",
       "      100.00% [5001/5001 01:41<00:00 logp = 1.2189e+05, ||grad|| = 47,994]\n",
       "    </div>\n",
       "    "
      ],
      "text/plain": [
       "<IPython.core.display.HTML object>"
      ]
     },
     "metadata": {},
     "output_type": "display_data"
    },
    {
     "name": "stderr",
     "output_type": "stream",
     "text": [
      "\n"
     ]
    },
    {
     "name": "stdout",
     "output_type": "stream",
     "text": [
      "\n",
      "Convergence after  15  iterations\n",
      "Validation accuracy: 0.9391304347826087\n",
      "Validation: 4\n"
     ]
    },
    {
     "data": {
      "text/html": [
       "\n",
       "    <div>\n",
       "        <style>\n",
       "            /* Turns off some styling */\n",
       "            progress {\n",
       "                /* gets rid of default border in Firefox and Opera. */\n",
       "                border: none;\n",
       "                /* Needs to be in here for Safari polyfill so background images work as expected. */\n",
       "                background-size: auto;\n",
       "            }\n",
       "            .progress-bar-interrupted, .progress-bar-interrupted::-webkit-progress-bar {\n",
       "                background: #F44336;\n",
       "            }\n",
       "        </style>\n",
       "      <progress value='5001' class='' max='5001' style='width:300px; height:20px; vertical-align: middle;'></progress>\n",
       "      100.00% [5001/5001 01:38<00:00 logp = 1.1994e+05, ||grad|| = 47,417]\n",
       "    </div>\n",
       "    "
      ],
      "text/plain": [
       "<IPython.core.display.HTML object>"
      ]
     },
     "metadata": {},
     "output_type": "display_data"
    },
    {
     "name": "stderr",
     "output_type": "stream",
     "text": [
      "\n"
     ]
    },
    {
     "name": "stdout",
     "output_type": "stream",
     "text": [
      "\n",
      "Convergence after  16  iterations\n",
      "Validation accuracy: 0.9565217391304348\n",
      "Validation: 5\n"
     ]
    },
    {
     "data": {
      "text/html": [
       "\n",
       "    <div>\n",
       "        <style>\n",
       "            /* Turns off some styling */\n",
       "            progress {\n",
       "                /* gets rid of default border in Firefox and Opera. */\n",
       "                border: none;\n",
       "                /* Needs to be in here for Safari polyfill so background images work as expected. */\n",
       "                background-size: auto;\n",
       "            }\n",
       "            .progress-bar-interrupted, .progress-bar-interrupted::-webkit-progress-bar {\n",
       "                background: #F44336;\n",
       "            }\n",
       "        </style>\n",
       "      <progress value='5001' class='' max='5001' style='width:300px; height:20px; vertical-align: middle;'></progress>\n",
       "      100.00% [5001/5001 01:32<00:00 logp = 1.2243e+05, ||grad|| = 52,652]\n",
       "    </div>\n",
       "    "
      ],
      "text/plain": [
       "<IPython.core.display.HTML object>"
      ]
     },
     "metadata": {},
     "output_type": "display_data"
    },
    {
     "name": "stderr",
     "output_type": "stream",
     "text": [
      "\n"
     ]
    },
    {
     "name": "stdout",
     "output_type": "stream",
     "text": [
      "\n",
      "Convergence after  16  iterations\n",
      "Validation accuracy: 0.9217391304347826\n",
      "Validation: 6\n"
     ]
    },
    {
     "data": {
      "text/html": [
       "\n",
       "    <div>\n",
       "        <style>\n",
       "            /* Turns off some styling */\n",
       "            progress {\n",
       "                /* gets rid of default border in Firefox and Opera. */\n",
       "                border: none;\n",
       "                /* Needs to be in here for Safari polyfill so background images work as expected. */\n",
       "                background-size: auto;\n",
       "            }\n",
       "            .progress-bar-interrupted, .progress-bar-interrupted::-webkit-progress-bar {\n",
       "                background: #F44336;\n",
       "            }\n",
       "        </style>\n",
       "      <progress value='5001' class='' max='5001' style='width:300px; height:20px; vertical-align: middle;'></progress>\n",
       "      100.00% [5001/5001 01:33<00:00 logp = 1.2101e+05, ||grad|| = 56,568]\n",
       "    </div>\n",
       "    "
      ],
      "text/plain": [
       "<IPython.core.display.HTML object>"
      ]
     },
     "metadata": {},
     "output_type": "display_data"
    },
    {
     "name": "stderr",
     "output_type": "stream",
     "text": [
      "\n"
     ]
    },
    {
     "name": "stdout",
     "output_type": "stream",
     "text": [
      "\n",
      "Convergence after  16  iterations\n",
      "Validation accuracy: 0.8782608695652174\n",
      "Validation: 7\n"
     ]
    },
    {
     "data": {
      "text/html": [
       "\n",
       "    <div>\n",
       "        <style>\n",
       "            /* Turns off some styling */\n",
       "            progress {\n",
       "                /* gets rid of default border in Firefox and Opera. */\n",
       "                border: none;\n",
       "                /* Needs to be in here for Safari polyfill so background images work as expected. */\n",
       "                background-size: auto;\n",
       "            }\n",
       "            .progress-bar-interrupted, .progress-bar-interrupted::-webkit-progress-bar {\n",
       "                background: #F44336;\n",
       "            }\n",
       "        </style>\n",
       "      <progress value='5001' class='' max='5001' style='width:300px; height:20px; vertical-align: middle;'></progress>\n",
       "      100.00% [5001/5001 01:32<00:00 logp = 1.215e+05, ||grad|| = 43,579]\n",
       "    </div>\n",
       "    "
      ],
      "text/plain": [
       "<IPython.core.display.HTML object>"
      ]
     },
     "metadata": {},
     "output_type": "display_data"
    },
    {
     "name": "stderr",
     "output_type": "stream",
     "text": [
      "\n"
     ]
    },
    {
     "name": "stdout",
     "output_type": "stream",
     "text": [
      "\n",
      "Convergence after  16  iterations\n",
      "Validation accuracy: 0.9043478260869565\n",
      "Validation: 8\n"
     ]
    },
    {
     "data": {
      "text/html": [
       "\n",
       "    <div>\n",
       "        <style>\n",
       "            /* Turns off some styling */\n",
       "            progress {\n",
       "                /* gets rid of default border in Firefox and Opera. */\n",
       "                border: none;\n",
       "                /* Needs to be in here for Safari polyfill so background images work as expected. */\n",
       "                background-size: auto;\n",
       "            }\n",
       "            .progress-bar-interrupted, .progress-bar-interrupted::-webkit-progress-bar {\n",
       "                background: #F44336;\n",
       "            }\n",
       "        </style>\n",
       "      <progress value='5001' class='' max='5001' style='width:300px; height:20px; vertical-align: middle;'></progress>\n",
       "      100.00% [5001/5001 01:31<00:00 logp = 1.21e+05, ||grad|| = 96,809]\n",
       "    </div>\n",
       "    "
      ],
      "text/plain": [
       "<IPython.core.display.HTML object>"
      ]
     },
     "metadata": {},
     "output_type": "display_data"
    },
    {
     "name": "stderr",
     "output_type": "stream",
     "text": [
      "\n"
     ]
    },
    {
     "name": "stdout",
     "output_type": "stream",
     "text": [
      "\n",
      "Convergence after  16  iterations\n",
      "Validation accuracy: 0.9130434782608695\n",
      "Validation: 9\n"
     ]
    },
    {
     "data": {
      "text/html": [
       "\n",
       "    <div>\n",
       "        <style>\n",
       "            /* Turns off some styling */\n",
       "            progress {\n",
       "                /* gets rid of default border in Firefox and Opera. */\n",
       "                border: none;\n",
       "                /* Needs to be in here for Safari polyfill so background images work as expected. */\n",
       "                background-size: auto;\n",
       "            }\n",
       "            .progress-bar-interrupted, .progress-bar-interrupted::-webkit-progress-bar {\n",
       "                background: #F44336;\n",
       "            }\n",
       "        </style>\n",
       "      <progress value='1012' class='' max='1012' style='width:300px; height:20px; vertical-align: middle;'></progress>\n",
       "      100.00% [1012/1012 00:19<00:00 logp = 1.1362e+05, ||grad|| = 598.31]\n",
       "    </div>\n",
       "    "
      ],
      "text/plain": [
       "<IPython.core.display.HTML object>"
      ]
     },
     "metadata": {},
     "output_type": "display_data"
    },
    {
     "name": "stdout",
     "output_type": "stream",
     "text": [
      "\n",
      "Convergence after  16  iterations\n",
      "Validation accuracy: 0.9652173913043478\n",
      "Validation: 10\n"
     ]
    },
    {
     "data": {
      "text/html": [
       "\n",
       "    <div>\n",
       "        <style>\n",
       "            /* Turns off some styling */\n",
       "            progress {\n",
       "                /* gets rid of default border in Firefox and Opera. */\n",
       "                border: none;\n",
       "                /* Needs to be in here for Safari polyfill so background images work as expected. */\n",
       "                background-size: auto;\n",
       "            }\n",
       "            .progress-bar-interrupted, .progress-bar-interrupted::-webkit-progress-bar {\n",
       "                background: #F44336;\n",
       "            }\n",
       "        </style>\n",
       "      <progress value='5001' class='' max='5001' style='width:300px; height:20px; vertical-align: middle;'></progress>\n",
       "      100.00% [5001/5001 01:34<00:00 logp = 1.2199e+05, ||grad|| = 44,500]\n",
       "    </div>\n",
       "    "
      ],
      "text/plain": [
       "<IPython.core.display.HTML object>"
      ]
     },
     "metadata": {},
     "output_type": "display_data"
    },
    {
     "name": "stderr",
     "output_type": "stream",
     "text": [
      "\n"
     ]
    },
    {
     "name": "stdout",
     "output_type": "stream",
     "text": [
      "\n",
      "Convergence after  16  iterations\n",
      "Validation accuracy: 0.9043478260869565\n"
     ]
    },
    {
     "data": {
      "text/html": [
       "\n",
       "    <div>\n",
       "        <style>\n",
       "            /* Turns off some styling */\n",
       "            progress {\n",
       "                /* gets rid of default border in Firefox and Opera. */\n",
       "                border: none;\n",
       "                /* Needs to be in here for Safari polyfill so background images work as expected. */\n",
       "                background-size: auto;\n",
       "            }\n",
       "            .progress-bar-interrupted, .progress-bar-interrupted::-webkit-progress-bar {\n",
       "                background: #F44336;\n",
       "            }\n",
       "        </style>\n",
       "      <progress value='5001' class='' max='5001' style='width:300px; height:20px; vertical-align: middle;'></progress>\n",
       "      100.00% [5001/5001 01:31<00:00 logp = 1.2117e+05, ||grad|| = 70,954]\n",
       "    </div>\n",
       "    "
      ],
      "text/plain": [
       "<IPython.core.display.HTML object>"
      ]
     },
     "metadata": {},
     "output_type": "display_data"
    },
    {
     "name": "stderr",
     "output_type": "stream",
     "text": [
      "\n"
     ]
    },
    {
     "name": "stdout",
     "output_type": "stream",
     "text": [
      "\n",
      "Convergence after  16  iterations\n",
      "\n",
      "Test accuracy: 0.8645833333333334\n"
     ]
    }
   ],
   "source": [
    "# BdRVFL\n",
    "\n",
    "n_node = 10 # num of nodes in hidden layer\n",
    "n_layer = 5 # num of hidden layers\n",
    "w_range = [-1, 1] # range of random weights\n",
    "b_range = [0, 1] # range of random biases\n",
    "\n",
    "for i, kf_values in enumerate(kf.split(X_train, y_train)):\n",
    "#     print(f'train: {train_index}, val: {val_index}')\n",
    "    print('Validation: {}'.format(i + 1))\n",
    "    train_index, val_index = kf_values\n",
    "    X_val_train, X_val_test = X_train[train_index], X_train[val_index]\n",
    "    y_val_train, y_val_test = y_train[train_index], y_train[val_index]\n",
    "    model = BayesianDeepRVFL(n_node, w_range, b_range, n_layer)\n",
    "    model.train(X_val_train, y_val_train, n_class)\n",
    "    prediction = model.predict(X_val_test, True)\n",
    "    acc = model.eval(X_val_test, y_val_test)\n",
    "    print(f'Validation accuracy: {acc}')\n",
    "    val_acc.append(acc)\n",
    "    if acc >= max(val_acc):\n",
    "        max_index = train_index\n",
    "\n",
    "X_train, y_train = X_train[max_index], y_train[max_index]\n",
    "model = BayesianDeepRVFL(n_node, w_range, b_range, n_layer)\n",
    "model.train(X_train, y_train, n_class)\n",
    "prediction = model.predict(X_test, True)\n",
    "acc = model.eval(X_test, y_test)\n",
    "print(f'\\nTest accuracy: {acc}')"
   ]
  },
  {
   "cell_type": "code",
   "execution_count": 2,
   "metadata": {},
   "outputs": [
    {
     "data": {
      "text/html": [
       "\n",
       "    <div>\n",
       "        <style>\n",
       "            /* Turns off some styling */\n",
       "            progress {\n",
       "                /* gets rid of default border in Firefox and Opera. */\n",
       "                border: none;\n",
       "                /* Needs to be in here for Safari polyfill so background images work as expected. */\n",
       "                background-size: auto;\n",
       "            }\n",
       "            .progress-bar-interrupted, .progress-bar-interrupted::-webkit-progress-bar {\n",
       "                background: #F44336;\n",
       "            }\n",
       "        </style>\n",
       "      <progress value='5001' class='' max='5001' style='width:300px; height:20px; vertical-align: middle;'></progress>\n",
       "      100.00% [5001/5001 01:45<00:00 logp = 1.107e+05, ||grad|| = 61,797]\n",
       "    </div>\n",
       "    "
      ],
      "text/plain": [
       "<IPython.core.display.HTML object>"
      ]
     },
     "metadata": {},
     "output_type": "display_data"
    },
    {
     "name": "stderr",
     "output_type": "stream",
     "text": [
      "\n"
     ]
    },
    {
     "name": "stdout",
     "output_type": "stream",
     "text": [
      "\n",
      "Convergence after  17  iterations\n"
     ]
    },
    {
     "data": {
      "text/html": [
       "\n",
       "    <div>\n",
       "        <style>\n",
       "            /* Turns off some styling */\n",
       "            progress {\n",
       "                /* gets rid of default border in Firefox and Opera. */\n",
       "                border: none;\n",
       "                /* Needs to be in here for Safari polyfill so background images work as expected. */\n",
       "                background-size: auto;\n",
       "            }\n",
       "            .progress-bar-interrupted, .progress-bar-interrupted::-webkit-progress-bar {\n",
       "                background: #F44336;\n",
       "            }\n",
       "        </style>\n",
       "      <progress value='5001' class='' max='5001' style='width:300px; height:20px; vertical-align: middle;'></progress>\n",
       "      100.00% [5001/5001 01:49<00:00 logp = 1.133e+05, ||grad|| = 6,643.7]\n",
       "    </div>\n",
       "    "
      ],
      "text/plain": [
       "<IPython.core.display.HTML object>"
      ]
     },
     "metadata": {},
     "output_type": "display_data"
    },
    {
     "name": "stderr",
     "output_type": "stream",
     "text": [
      "\n"
     ]
    },
    {
     "name": "stdout",
     "output_type": "stream",
     "text": [
      "\n",
      "Convergence after  16  iterations\n"
     ]
    },
    {
     "data": {
      "text/html": [
       "\n",
       "    <div>\n",
       "        <style>\n",
       "            /* Turns off some styling */\n",
       "            progress {\n",
       "                /* gets rid of default border in Firefox and Opera. */\n",
       "                border: none;\n",
       "                /* Needs to be in here for Safari polyfill so background images work as expected. */\n",
       "                background-size: auto;\n",
       "            }\n",
       "            .progress-bar-interrupted, .progress-bar-interrupted::-webkit-progress-bar {\n",
       "                background: #F44336;\n",
       "            }\n",
       "        </style>\n",
       "      <progress value='5001' class='' max='5001' style='width:300px; height:20px; vertical-align: middle;'></progress>\n",
       "      100.00% [5001/5001 01:23<00:00 logp = 1.1333e+05, ||grad|| = 7,789.3]\n",
       "    </div>\n",
       "    "
      ],
      "text/plain": [
       "<IPython.core.display.HTML object>"
      ]
     },
     "metadata": {},
     "output_type": "display_data"
    },
    {
     "name": "stderr",
     "output_type": "stream",
     "text": [
      "\n"
     ]
    },
    {
     "name": "stdout",
     "output_type": "stream",
     "text": [
      "\n",
      "Convergence after  17  iterations\n"
     ]
    },
    {
     "data": {
      "text/html": [
       "\n",
       "    <div>\n",
       "        <style>\n",
       "            /* Turns off some styling */\n",
       "            progress {\n",
       "                /* gets rid of default border in Firefox and Opera. */\n",
       "                border: none;\n",
       "                /* Needs to be in here for Safari polyfill so background images work as expected. */\n",
       "                background-size: auto;\n",
       "            }\n",
       "            .progress-bar-interrupted, .progress-bar-interrupted::-webkit-progress-bar {\n",
       "                background: #F44336;\n",
       "            }\n",
       "        </style>\n",
       "      <progress value='5001' class='' max='5001' style='width:300px; height:20px; vertical-align: middle;'></progress>\n",
       "      100.00% [5001/5001 01:50<00:00 logp = 1.1271e+05, ||grad|| = 4,960.8]\n",
       "    </div>\n",
       "    "
      ],
      "text/plain": [
       "<IPython.core.display.HTML object>"
      ]
     },
     "metadata": {},
     "output_type": "display_data"
    },
    {
     "name": "stderr",
     "output_type": "stream",
     "text": [
      "\n"
     ]
    },
    {
     "name": "stdout",
     "output_type": "stream",
     "text": [
      "\n",
      "Convergence after  17  iterations\n"
     ]
    },
    {
     "data": {
      "text/html": [
       "\n",
       "    <div>\n",
       "        <style>\n",
       "            /* Turns off some styling */\n",
       "            progress {\n",
       "                /* gets rid of default border in Firefox and Opera. */\n",
       "                border: none;\n",
       "                /* Needs to be in here for Safari polyfill so background images work as expected. */\n",
       "                background-size: auto;\n",
       "            }\n",
       "            .progress-bar-interrupted, .progress-bar-interrupted::-webkit-progress-bar {\n",
       "                background: #F44336;\n",
       "            }\n",
       "        </style>\n",
       "      <progress value='5001' class='' max='5001' style='width:300px; height:20px; vertical-align: middle;'></progress>\n",
       "      100.00% [5001/5001 01:43<00:00 logp = 1.1288e+05, ||grad|| = 7,603.7]\n",
       "    </div>\n",
       "    "
      ],
      "text/plain": [
       "<IPython.core.display.HTML object>"
      ]
     },
     "metadata": {},
     "output_type": "display_data"
    },
    {
     "name": "stderr",
     "output_type": "stream",
     "text": [
      "\n"
     ]
    },
    {
     "name": "stdout",
     "output_type": "stream",
     "text": [
      "\n",
      "Convergence after  17  iterations\n",
      "\n",
      "Test accuracy: 0.9201388888888888\n"
     ]
    }
   ],
   "source": [
    "# BedRVFL\n",
    "\n",
    "n_node = 10 # num of nodes in hidden layer\n",
    "n_layer = 5 # num of hidden layers\n",
    "w_range = [-1, 1] # range of random weights\n",
    "b_range = [0, 1] # range of random biases\n",
    "\n",
    "# for i, kf_values in enumerate(kf.split(X_train, y_train)):\n",
    "# #     print(f'train: {train_index}, val: {val_index}')\n",
    "#     print('Validation: {}'.format(i + 1))\n",
    "#     train_index, val_index = kf_values\n",
    "#     X_val_train, X_val_test = X_train[train_index], X_train[val_index]\n",
    "#     y_val_train, y_val_test = y_train[train_index], y_train[val_index]\n",
    "#     model = BayesianEnsembleDeepRVFL(n_node, w_range, b_range, n_layer)\n",
    "#     model.train(X_val_train, y_val_train, n_class)\n",
    "#     prediction = model.predict(X_val_test, False)\n",
    "#     acc = model.eval(X_val_test, y_val_test)\n",
    "#     print(f'Validation accuracy: {acc}')\n",
    "#     val_acc.append(acc)\n",
    "#     if acc >= max(val_acc):\n",
    "#         max_index = train_index\n",
    "\n",
    "# X_train, y_train = X_train[max_index], y_train[max_index]\n",
    "model = BayesianEnsembleDeepRVFL(n_node, w_range, b_range, n_layer)\n",
    "model.train(X_train, y_train, n_class)\n",
    "prediction = model.predict(X_test, False)\n",
    "acc = model.eval(X_test, y_test)\n",
    "print(f'\\nTest accuracy: {acc}')"
   ]
  },
  {
   "cell_type": "code",
   "execution_count": null,
   "metadata": {},
   "outputs": [],
   "source": []
  }
 ],
 "metadata": {
  "interpreter": {
   "hash": "d29531488e2b7bac10af08b59c5a0d1dca9077738f8661c2e75b8529990c25ab"
  },
  "kernelspec": {
   "display_name": "Python 3.8.8 64-bit ('base': conda)",
   "name": "python3"
  },
  "language_info": {
   "codemirror_mode": {
    "name": "ipython",
    "version": 3
   },
   "file_extension": ".py",
   "mimetype": "text/x-python",
   "name": "python",
   "nbconvert_exporter": "python",
   "pygments_lexer": "ipython3",
   "version": "3.8.8"
  },
  "orig_nbformat": 4
 },
 "nbformat": 4,
 "nbformat_minor": 2
}
