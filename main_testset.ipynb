{
 "cells": [
  {
   "cell_type": "code",
   "execution_count": 1,
   "metadata": {},
   "outputs": [],
   "source": [
    "from sklearn.model_selection import train_test_split, KFold, ShuffleSplit\n",
    "from sklearn.utils import shuffle\n",
    "import numpy as np\n",
    "from datasets import *\n",
    "from models_test import *\n",
    "from models_MR import LapRVFL, LapDeepRVFL, LapEnsembleDeepRVFL, LapBRVFL, LapBDeepRVFL, LapBEnsembleDeepRVFL\n",
    "from time import time\n",
    "\n",
    "# set random seed\n",
    "np.random.seed(42)\n",
    "\n",
    "data, label, n_class = coil20()"
   ]
  },
  {
   "cell_type": "code",
   "execution_count": 2,
   "metadata": {},
   "outputs": [],
   "source": [
    "def run_SS(data, label, n_class, model_class, partition, lam=1, n_layer=1, activation='sigmoid'):\n",
    "    L, U, V, T = partition[0], partition[1], partition[2], partition[3]\n",
    "    n_reps = 3\n",
    "\n",
    "    n_node = 2000 # num of nodes in hidden layer\n",
    "    w_range = [-1, 1] # range of random weights\n",
    "    b_range = [0, 1] # range of random biases\n",
    "\n",
    "    unlab_accs = []\n",
    "    val_accs = []\n",
    "    test_accs = []\n",
    "    train_time = []\n",
    "    \n",
    "    data, label = shuffle(data, label)\n",
    "    # Cross-validation split\n",
    "    for i in range(n_reps):\n",
    "        ss = ShuffleSplit(n_splits=4, test_size=T, random_state=42)\n",
    "        for i, ss_values in enumerate(ss.split(data, label)):\n",
    "            train_index, test_index = ss_values\n",
    "            X_train, X_test = data[train_index], data[test_index]\n",
    "            y_train, y_test = label[train_index], label[test_index]\n",
    "\n",
    "            _labeled = []\n",
    "            _validation = []\n",
    "\n",
    "            used = set()\n",
    "            # fill up labeled set with one element from each class\n",
    "            present = []\n",
    "            for i in range(len(X_train)):\n",
    "                if len(_labeled) == L:\n",
    "                    break\n",
    "                if (y_train[i] not in present) and (i not in used):\n",
    "                    _labeled.append(i)\n",
    "                    present.append(y_train[i])\n",
    "                    used.add(i)\n",
    "\n",
    "            # fill up validation set with one element from each class\n",
    "            present = []\n",
    "            for i in range(len(X_train)):\n",
    "                if len(_validation) == V:\n",
    "                    break\n",
    "                if (y_train[i] not in present) and (i not in used):\n",
    "                    _validation.append(i)\n",
    "                    present.append(y_train[i])\n",
    "                    used.add(i)\n",
    "\n",
    "            # remaining training samples\n",
    "            remaining = [i for i in range(len(X_train)) if i not in used]\n",
    "            # print(len(remaining))\n",
    "            lab_missing = L - len(_labeled)\n",
    "            val_missing = V - len(_validation)\n",
    "            # labeled\n",
    "            X_lab, X_remain, y_lab, y_remain = train_test_split(X_train[remaining], y_train[remaining], train_size=lab_missing)\n",
    "            # validation, unlabelled\n",
    "            X_val, X_unlab, y_val, y_unlab = train_test_split(X_remain, y_remain, train_size=val_missing)\n",
    "            X_lab, y_lab = np.append(X_lab, X_train[_labeled], 0), np.append(y_lab, y_train[_labeled], 0)\n",
    "            X_val, y_val = np.append(X_val, X_train[_validation], 0), np.append(y_val, y_train[_validation], 0)\n",
    "\n",
    "            assert len(X_lab) == L\n",
    "            assert len(y_lab) == L\n",
    "            assert len(X_unlab) == U\n",
    "            assert len(y_unlab) == U\n",
    "            assert len(X_val) == V\n",
    "            assert len(y_val) == V\n",
    "            assert len(X_test) == T\n",
    "            assert len(y_test) == T\n",
    "\n",
    "            # predict unlabelled dataset\n",
    "            if model_class in [RVFL, DeepRVFL, EnsembleDeepRVFL, LapRVFL, LapDeepRVFL, LapEnsembleDeepRVFL]:\n",
    "                model = model_class(n_node, lam, w_range, b_range, n_layer, activation=activation)\n",
    "            elif model_class in [BRVFL, BDeepRVFL, BEnsembleDeepRVFL, LapBRVFL, LapBDeepRVFL, LapBEnsembleDeepRVFL]:\n",
    "                model = model_class(n_node, w_range, b_range, n_layer, tol=10**(-7), activation=activation)\n",
    "            t = time()\n",
    "            model.train(X_lab, y_lab, n_class)\n",
    "            train_time.append(time() - t)\n",
    "            unlab_acc, unlab_pred = model.eval(X_unlab, y_unlab)\n",
    "            # print('Unlabelled Accuracy: ', unlab_acc)\n",
    "            unlab_accs.append(unlab_acc)\n",
    "\n",
    "            # retrain on y_lab and unlab prediction, eval on val set\n",
    "            new_X_train, new_y_train = np.append(X_lab, X_unlab, 0), np.append(y_lab, unlab_pred, 0)\n",
    "            if model_class in [RVFL, DeepRVFL, EnsembleDeepRVFL, LapRVFL, LapDeepRVFL, LapEnsembleDeepRVFL]:\n",
    "                model = model_class(n_node, lam, w_range, b_range, n_layer, activation=activation)\n",
    "            elif model_class in [BRVFL, BDeepRVFL, BEnsembleDeepRVFL, LapBRVFL, LapBDeepRVFL, LapBEnsembleDeepRVFL]:\n",
    "                model = model_class(n_node, w_range, b_range, n_layer, tol=10**(-7), activation=activation)\n",
    "            t = time()\n",
    "            model.train(new_X_train, new_y_train, n_class)\n",
    "            train_time.append(time() - t)\n",
    "            val_acc, _ = model.eval(X_val, y_val)\n",
    "            val_accs.append(val_acc)\n",
    "\n",
    "            test_acc, _ = model.eval(X_test, y_test)\n",
    "            # print('Test accuracy: ', test_acc)val_acc\n",
    "            test_accs.append(test_acc)\n",
    "\n",
    "    # find average acc\n",
    "    mean_unlab_acc = np.mean(unlab_accs), np.std(unlab_accs)\n",
    "    mean_val_acc = np.mean(val_accs), np.std(val_accs)\n",
    "    mean_test_acc = np.mean(test_accs), np.std(test_accs)\n",
    "    mean_train_time = np.mean(train_time)\n",
    "    # print('Validation Accuracy', mean_val_acc)\n",
    "    # print('Test accuracy: ', mean_test_acc)\n",
    "\n",
    "    return mean_unlab_acc, mean_val_acc, mean_test_acc, mean_train_time\n"
   ]
  },
  {
   "cell_type": "code",
   "execution_count": 4,
   "metadata": {},
   "outputs": [
    {
     "name": "stdout",
     "output_type": "stream",
     "text": [
      "Unlab:  0.652 ± 0.024637369989509845\n",
      "Val:  0.6729166666666667 ± 0.05632710764414904\n",
      "Test:  0.6752314814814815 ± 0.02815618032329325\n",
      "Lambda:  0.25\n",
      "Train time:  0.2524547179539998\n"
     ]
    }
   ],
   "source": [
    "partition = [40, 1000, 40, 360]\n",
    "lam = 1\n",
    "n_layer = 1\n",
    "activation='sigmoid'\n",
    "model_class = RVFL\n",
    "lams = [2**i for i in range(-6, 12, 2)] # regularization parameter, lambda\n",
    "\n",
    "unlab = []\n",
    "val = []\n",
    "test = []\n",
    "t = []\n",
    "for i, lam in enumerate(lams):\n",
    "    unlab_acc, val_acc, test_acc, train_time = run_SS(data, label, n_class, model_class, partition, lam=lam, n_layer=1, activation='sigmoid')\n",
    "    unlab.append(unlab_acc)\n",
    "    val.append(val_acc)\n",
    "    test.append(test_acc)\n",
    "    t.append(train_time)\n",
    "\n",
    "max_index = np.argmax(val, axis=0)[0]\n",
    "opt_lam = lams[max_index]\n",
    "print('Unlab: ', unlab[max_index][0], u\"\\u00B1\", unlab[max_index][1])\n",
    "print('Val: ', val[max_index][0], u\"\\u00B1\", val[max_index][1])\n",
    "print('Test: ', test[max_index][0], u\"\\u00B1\", test[max_index][1])\n",
    "print('Lambda: ', opt_lam)\n",
    "print('Train time: ', t[max_index])\n"
   ]
  },
  {
   "cell_type": "code",
   "execution_count": 22,
   "metadata": {},
   "outputs": [
    {
     "name": "stdout",
     "output_type": "stream",
     "text": [
      "[(0.6591666666666667, 0.02933664754004603), (0.6663333333333333, 0.02112397269033979), (0.64975, 0.03482126984090808), (0.6728333333333333, 0.022912272305954766), (0.6655000000000001, 0.02587952858921507), (0.6629166666666667, 0.026465255000135975), (0.6693333333333333, 0.0266312264498318), (0.6705833333333334, 0.030070634438860027), (0.6464166666666668, 0.034922433891252325)]\n",
      "[(0.6770833333333334, 0.04012783392553796), (0.6729166666666666, 0.06881310235380728), (0.6208333333333333, 0.07204840194079408), (0.6833333333333332, 0.060667582410670995), (0.6625, 0.07180703308172534), (0.6541666666666667, 0.07276770498572074), (0.69375, 0.07577722283113839), (0.6604166666666668, 0.05991168268561835), (0.6562499999999999, 0.07438987946398802)]\n"
     ]
    }
   ],
   "source": [
    "print(unlab)\n",
    "print(val)"
   ]
  },
  {
   "cell_type": "code",
   "execution_count": 5,
   "metadata": {},
   "outputs": [
    {
     "name": "stdout",
     "output_type": "stream",
     "text": [
      "Validation: 1\n",
      "Validation accuracy: 0.9396551724137931\n",
      "Validation: 2\n",
      "Validation accuracy: 0.9310344827586207\n",
      "Validation: 3\n",
      "Validation accuracy: 0.9478260869565217\n",
      "Validation: 4\n",
      "Validation accuracy: 0.9565217391304348\n",
      "Validation: 5\n",
      "Validation accuracy: 0.9391304347826087\n",
      "Validation: 6\n",
      "Validation accuracy: 0.9217391304347826\n",
      "Validation: 7\n",
      "Validation accuracy: 0.9652173913043478\n",
      "Validation: 8\n",
      "Validation accuracy: 0.9478260869565217\n",
      "Validation: 9\n",
      "Validation accuracy: 0.9478260869565217\n",
      "Validation: 10\n",
      "Validation accuracy: 0.9565217391304348\n",
      "\n",
      "Test accuracy: 0.9236111111111112\n"
     ]
    }
   ],
   "source": [
    "# RVFL\n",
    "\n",
    "n_node = 10 # num of nodes in hidden layer\n",
    "lam = 1 # regularization parameter, lambda\n",
    "w_range = [-1, 1] # range of random weights\n",
    "b_range = [0, 1] # range of random biases\n",
    "\n",
    "for i, kf_values in enumerate(kf.split(X_train, y_train)):\n",
    "#     print(f'train: {train_index}, val: {val_index}')\n",
    "    print('Validation: {}'.format(i + 1))\n",
    "    train_index, val_index = kf_values\n",
    "    X_val_train, X_val_test = X_train[train_index], X_train[val_index]\n",
    "    y_val_train, y_val_test = y_train[train_index], y_train[val_index]\n",
    "    model = RVFL(n_node, lam, w_range, b_range)\n",
    "    model.train(X_val_train, y_val_train, n_class)\n",
    "    prediction = model.predict(X_val_test, True)\n",
    "    acc = model.eval(X_val_test, y_val_test)\n",
    "    print(f'Validation accuracy: {acc}')\n",
    "    val_acc.append(acc)\n",
    "    if acc >= max(val_acc):\n",
    "        max_index = train_index\n",
    "\n",
    "X_train, y_train = X_train[max_index], y_train[max_index]\n",
    "model = RVFL(n_node, lam, w_range, b_range)\n",
    "model.train(X_train, y_train, n_class)\n",
    "prediction = model.predict(X_test, True)\n",
    "acc = model.eval(X_test, y_test)\n",
    "print(f'\\nTest accuracy: {acc}')"
   ]
  },
  {
   "cell_type": "code",
   "execution_count": 6,
   "metadata": {},
   "outputs": [
    {
     "name": "stdout",
     "output_type": "stream",
     "text": [
      "Validation: 1\n",
      "Validation accuracy: 0.9396551724137931\n",
      "Validation: 2\n",
      "Validation accuracy: 0.9482758620689655\n",
      "Validation: 3\n",
      "Validation accuracy: 0.9391304347826087\n",
      "Validation: 4\n",
      "Validation accuracy: 0.9652173913043478\n",
      "Validation: 5\n",
      "Validation accuracy: 0.9304347826086956\n",
      "Validation: 6\n",
      "Validation accuracy: 0.9217391304347826\n",
      "Validation: 7\n",
      "Validation accuracy: 0.9652173913043478\n",
      "Validation: 8\n",
      "Validation accuracy: 0.9304347826086956\n",
      "Validation: 9\n",
      "Validation accuracy: 0.9652173913043478\n",
      "Validation: 10\n",
      "Validation accuracy: 0.9652173913043478\n",
      "\n",
      "Test accuracy: 0.9305555555555556\n"
     ]
    }
   ],
   "source": [
    "# dRVFL\n",
    "\n",
    "n_node = 10 # num of nodes in hidden layer\n",
    "n_layer = 2 # num of hidden layers\n",
    "lam = 1 # regularization parameter, lambda\n",
    "w_range = [-1, 1] # range of random weights\n",
    "b_range = [0, 1] # range of random biases\n",
    "\n",
    "for i, kf_values in enumerate(kf.split(X_train, y_train)):\n",
    "#     print(f'train: {train_index}, val: {val_index}')\n",
    "    print('Validation: {}'.format(i + 1))\n",
    "    train_index, val_index = kf_values\n",
    "    X_val_train, X_val_test = X_train[train_index], X_train[val_index]\n",
    "    y_val_train, y_val_test = y_train[train_index], y_train[val_index]\n",
    "    model = DeepRVFL(n_node, lam, w_range, b_range, n_layer)\n",
    "    model.train(X_val_train, y_val_train, n_class)\n",
    "    prediction = model.predict(X_val_test, False)\n",
    "    acc = model.eval(X_val_test, y_val_test)\n",
    "    print(f'Validation accuracy: {acc}')\n",
    "    val_acc.append(acc)\n",
    "    if acc >= max(val_acc):\n",
    "        max_index = train_index\n",
    "\n",
    "X_train, y_train = X_train[max_index], y_train[max_index]\n",
    "model = DeepRVFL(n_node, lam, w_range, b_range, n_layer)\n",
    "model.train(X_train, y_train, n_class)\n",
    "prediction = model.predict(X_test, False)\n",
    "acc = model.eval(X_test, y_test)\n",
    "print(f'\\nTest accuracy: {acc}')"
   ]
  },
  {
   "cell_type": "code",
   "execution_count": 7,
   "metadata": {},
   "outputs": [
    {
     "name": "stdout",
     "output_type": "stream",
     "text": [
      "Validation: 1\n",
      "Validation accuracy: 0.9310344827586207\n",
      "Validation: 2\n",
      "Validation accuracy: 0.9482758620689655\n",
      "Validation: 3\n",
      "Validation accuracy: 0.9478260869565217\n",
      "Validation: 4\n",
      "Validation accuracy: 0.9565217391304348\n",
      "Validation: 5\n",
      "Validation accuracy: 0.9217391304347826\n",
      "Validation: 6\n",
      "Validation accuracy: 0.9304347826086956\n",
      "Validation: 7\n",
      "Validation accuracy: 0.9652173913043478\n",
      "Validation: 8\n",
      "Validation accuracy: 0.9565217391304348\n",
      "Validation: 9\n",
      "Validation accuracy: 0.9652173913043478\n",
      "Validation: 10\n",
      "Validation accuracy: 0.9391304347826087\n",
      "\n",
      "Test accuracy: 0.9236111111111112\n"
     ]
    }
   ],
   "source": [
    "# edRVFL\n",
    "\n",
    "n_node = 10 # num of nodes in hidden layer\n",
    "n_layer = 2 # num of hidden layers\n",
    "lam = 1 # regularization parameter, lambda\n",
    "w_range = [-1, 1] # range of random weights\n",
    "b_range = [0, 1] # range of random biases\n",
    "\n",
    "for i, kf_values in enumerate(kf.split(X_train, y_train)):\n",
    "#     print(f'train: {train_index}, val: {val_index}')\n",
    "    print('Validation: {}'.format(i + 1))\n",
    "    train_index, val_index = kf_values\n",
    "    X_val_train, X_val_test = X_train[train_index], X_train[val_index]\n",
    "    y_val_train, y_val_test = y_train[train_index], y_train[val_index]\n",
    "    model = EnsembleDeepRVFL(n_node, lam, w_range, b_range, n_layer)\n",
    "    model.train(X_val_train, y_val_train, n_class)\n",
    "    prediction = model.predict(X_val_test, False)\n",
    "    acc = model.eval(X_val_test, y_val_test)\n",
    "    print(f'Validation accuracy: {acc}')\n",
    "    val_acc.append(acc)\n",
    "    if acc >= max(val_acc):\n",
    "        max_index = train_index\n",
    "\n",
    "X_train, y_train = X_train[max_index], y_train[max_index]\n",
    "model = EnsembleDeepRVFL(n_node, lam, w_range, b_range, n_layer)\n",
    "model.train(X_train, y_train, n_class)\n",
    "prediction = model.predict(X_test, False)\n",
    "acc = model.eval(X_test, y_test)\n",
    "print(f'\\nTest accuracy: {acc}')"
   ]
  },
  {
   "cell_type": "code",
   "execution_count": 3,
   "metadata": {},
   "outputs": [
    {
     "name": "stdout",
     "output_type": "stream",
     "text": [
      "Validation: 1\n"
     ]
    },
    {
     "data": {
      "text/html": [
       "\n",
       "    <div>\n",
       "        <style>\n",
       "            /* Turns off some styling */\n",
       "            progress {\n",
       "                /* gets rid of default border in Firefox and Opera. */\n",
       "                border: none;\n",
       "                /* Needs to be in here for Safari polyfill so background images work as expected. */\n",
       "                background-size: auto;\n",
       "            }\n",
       "            .progress-bar-interrupted, .progress-bar-interrupted::-webkit-progress-bar {\n",
       "                background: #F44336;\n",
       "            }\n",
       "        </style>\n",
       "      <progress value='5001' class='' max='5001' style='width:300px; height:20px; vertical-align: middle;'></progress>\n",
       "      100.00% [5001/5001 01:37<00:00 logp = 1.1275e+05, ||grad|| = 73,753]\n",
       "    </div>\n",
       "    "
      ],
      "text/plain": [
       "<IPython.core.display.HTML object>"
      ]
     },
     "metadata": {},
     "output_type": "display_data"
    },
    {
     "name": "stderr",
     "output_type": "stream",
     "text": [
      "\n"
     ]
    },
    {
     "name": "stdout",
     "output_type": "stream",
     "text": [
      "\n",
      "Convergence after  17  iterations\n",
      "Validation accuracy: 0.896551724137931\n",
      "Validation: 2\n"
     ]
    },
    {
     "data": {
      "text/html": [
       "\n",
       "    <div>\n",
       "        <style>\n",
       "            /* Turns off some styling */\n",
       "            progress {\n",
       "                /* gets rid of default border in Firefox and Opera. */\n",
       "                border: none;\n",
       "                /* Needs to be in here for Safari polyfill so background images work as expected. */\n",
       "                background-size: auto;\n",
       "            }\n",
       "            .progress-bar-interrupted, .progress-bar-interrupted::-webkit-progress-bar {\n",
       "                background: #F44336;\n",
       "            }\n",
       "        </style>\n",
       "      <progress value='5001' class='' max='5001' style='width:300px; height:20px; vertical-align: middle;'></progress>\n",
       "      100.00% [5001/5001 01:37<00:00 logp = 1.1374e+05, ||grad|| = 49,675]\n",
       "    </div>\n",
       "    "
      ],
      "text/plain": [
       "<IPython.core.display.HTML object>"
      ]
     },
     "metadata": {},
     "output_type": "display_data"
    },
    {
     "name": "stderr",
     "output_type": "stream",
     "text": [
      "\n"
     ]
    },
    {
     "name": "stdout",
     "output_type": "stream",
     "text": [
      "\n",
      "Convergence after  16  iterations\n",
      "Validation accuracy: 0.8706896551724138\n",
      "Validation: 3\n"
     ]
    },
    {
     "data": {
      "text/html": [
       "\n",
       "    <div>\n",
       "        <style>\n",
       "            /* Turns off some styling */\n",
       "            progress {\n",
       "                /* gets rid of default border in Firefox and Opera. */\n",
       "                border: none;\n",
       "                /* Needs to be in here for Safari polyfill so background images work as expected. */\n",
       "                background-size: auto;\n",
       "            }\n",
       "            .progress-bar-interrupted, .progress-bar-interrupted::-webkit-progress-bar {\n",
       "                background: #F44336;\n",
       "            }\n",
       "        </style>\n",
       "      <progress value='5001' class='' max='5001' style='width:300px; height:20px; vertical-align: middle;'></progress>\n",
       "      100.00% [5001/5001 01:37<00:00 logp = 1.1379e+05, ||grad|| = 45,205]\n",
       "    </div>\n",
       "    "
      ],
      "text/plain": [
       "<IPython.core.display.HTML object>"
      ]
     },
     "metadata": {},
     "output_type": "display_data"
    },
    {
     "name": "stderr",
     "output_type": "stream",
     "text": [
      "\n"
     ]
    },
    {
     "name": "stdout",
     "output_type": "stream",
     "text": [
      "\n",
      "Convergence after  17  iterations\n",
      "Validation accuracy: 0.9217391304347826\n",
      "Validation: 4\n"
     ]
    },
    {
     "data": {
      "text/html": [
       "\n",
       "    <div>\n",
       "        <style>\n",
       "            /* Turns off some styling */\n",
       "            progress {\n",
       "                /* gets rid of default border in Firefox and Opera. */\n",
       "                border: none;\n",
       "                /* Needs to be in here for Safari polyfill so background images work as expected. */\n",
       "                background-size: auto;\n",
       "            }\n",
       "            .progress-bar-interrupted, .progress-bar-interrupted::-webkit-progress-bar {\n",
       "                background: #F44336;\n",
       "            }\n",
       "        </style>\n",
       "      <progress value='989' class='' max='989' style='width:300px; height:20px; vertical-align: middle;'></progress>\n",
       "      100.00% [989/989 00:17<00:00 logp = 1.083e+05, ||grad|| = 484.82]\n",
       "    </div>\n",
       "    "
      ],
      "text/plain": [
       "<IPython.core.display.HTML object>"
      ]
     },
     "metadata": {},
     "output_type": "display_data"
    },
    {
     "name": "stdout",
     "output_type": "stream",
     "text": [
      "\n",
      "Convergence after  16  iterations\n",
      "Validation accuracy: 0.9652173913043478\n",
      "Validation: 5\n"
     ]
    },
    {
     "data": {
      "text/html": [
       "\n",
       "    <div>\n",
       "        <style>\n",
       "            /* Turns off some styling */\n",
       "            progress {\n",
       "                /* gets rid of default border in Firefox and Opera. */\n",
       "                border: none;\n",
       "                /* Needs to be in here for Safari polyfill so background images work as expected. */\n",
       "                background-size: auto;\n",
       "            }\n",
       "            .progress-bar-interrupted, .progress-bar-interrupted::-webkit-progress-bar {\n",
       "                background: #F44336;\n",
       "            }\n",
       "        </style>\n",
       "      <progress value='5001' class='' max='5001' style='width:300px; height:20px; vertical-align: middle;'></progress>\n",
       "      100.00% [5001/5001 01:23<00:00 logp = 1.1423e+05, ||grad|| = 24,582]\n",
       "    </div>\n",
       "    "
      ],
      "text/plain": [
       "<IPython.core.display.HTML object>"
      ]
     },
     "metadata": {},
     "output_type": "display_data"
    },
    {
     "name": "stderr",
     "output_type": "stream",
     "text": [
      "\n"
     ]
    },
    {
     "name": "stdout",
     "output_type": "stream",
     "text": [
      "\n",
      "Convergence after  16  iterations\n",
      "Validation accuracy: 0.8782608695652174\n",
      "Validation: 6\n"
     ]
    },
    {
     "data": {
      "text/html": [
       "\n",
       "    <div>\n",
       "        <style>\n",
       "            /* Turns off some styling */\n",
       "            progress {\n",
       "                /* gets rid of default border in Firefox and Opera. */\n",
       "                border: none;\n",
       "                /* Needs to be in here for Safari polyfill so background images work as expected. */\n",
       "                background-size: auto;\n",
       "            }\n",
       "            .progress-bar-interrupted, .progress-bar-interrupted::-webkit-progress-bar {\n",
       "                background: #F44336;\n",
       "            }\n",
       "        </style>\n",
       "      <progress value='5001' class='' max='5001' style='width:300px; height:20px; vertical-align: middle;'></progress>\n",
       "      100.00% [5001/5001 01:26<00:00 logp = 1.1416e+05, ||grad|| = 45,942]\n",
       "    </div>\n",
       "    "
      ],
      "text/plain": [
       "<IPython.core.display.HTML object>"
      ]
     },
     "metadata": {},
     "output_type": "display_data"
    },
    {
     "name": "stderr",
     "output_type": "stream",
     "text": [
      "\n"
     ]
    },
    {
     "name": "stdout",
     "output_type": "stream",
     "text": [
      "\n",
      "Convergence after  17  iterations\n",
      "Validation accuracy: 0.8608695652173913\n",
      "Validation: 7\n"
     ]
    },
    {
     "data": {
      "text/html": [
       "\n",
       "    <div>\n",
       "        <style>\n",
       "            /* Turns off some styling */\n",
       "            progress {\n",
       "                /* gets rid of default border in Firefox and Opera. */\n",
       "                border: none;\n",
       "                /* Needs to be in here for Safari polyfill so background images work as expected. */\n",
       "                background-size: auto;\n",
       "            }\n",
       "            .progress-bar-interrupted, .progress-bar-interrupted::-webkit-progress-bar {\n",
       "                background: #F44336;\n",
       "            }\n",
       "        </style>\n",
       "      <progress value='5001' class='' max='5001' style='width:300px; height:20px; vertical-align: middle;'></progress>\n",
       "      100.00% [5001/5001 01:25<00:00 logp = 1.142e+05, ||grad|| = 48,200]\n",
       "    </div>\n",
       "    "
      ],
      "text/plain": [
       "<IPython.core.display.HTML object>"
      ]
     },
     "metadata": {},
     "output_type": "display_data"
    },
    {
     "name": "stderr",
     "output_type": "stream",
     "text": [
      "\n"
     ]
    },
    {
     "name": "stdout",
     "output_type": "stream",
     "text": [
      "\n",
      "Convergence after  17  iterations\n",
      "Validation accuracy: 0.9304347826086956\n",
      "Validation: 8\n"
     ]
    },
    {
     "data": {
      "text/html": [
       "\n",
       "    <div>\n",
       "        <style>\n",
       "            /* Turns off some styling */\n",
       "            progress {\n",
       "                /* gets rid of default border in Firefox and Opera. */\n",
       "                border: none;\n",
       "                /* Needs to be in here for Safari polyfill so background images work as expected. */\n",
       "                background-size: auto;\n",
       "            }\n",
       "            .progress-bar-interrupted, .progress-bar-interrupted::-webkit-progress-bar {\n",
       "                background: #F44336;\n",
       "            }\n",
       "        </style>\n",
       "      <progress value='5001' class='' max='5001' style='width:300px; height:20px; vertical-align: middle;'></progress>\n",
       "      100.00% [5001/5001 01:26<00:00 logp = 1.1346e+05, ||grad|| = 53,988]\n",
       "    </div>\n",
       "    "
      ],
      "text/plain": [
       "<IPython.core.display.HTML object>"
      ]
     },
     "metadata": {},
     "output_type": "display_data"
    },
    {
     "name": "stderr",
     "output_type": "stream",
     "text": [
      "\n"
     ]
    },
    {
     "name": "stdout",
     "output_type": "stream",
     "text": [
      "\n",
      "Convergence after  17  iterations\n",
      "Validation accuracy: 0.8782608695652174\n",
      "Validation: 9\n"
     ]
    },
    {
     "data": {
      "text/html": [
       "\n",
       "    <div>\n",
       "        <style>\n",
       "            /* Turns off some styling */\n",
       "            progress {\n",
       "                /* gets rid of default border in Firefox and Opera. */\n",
       "                border: none;\n",
       "                /* Needs to be in here for Safari polyfill so background images work as expected. */\n",
       "                background-size: auto;\n",
       "            }\n",
       "            .progress-bar-interrupted, .progress-bar-interrupted::-webkit-progress-bar {\n",
       "                background: #F44336;\n",
       "            }\n",
       "        </style>\n",
       "      <progress value='1101' class='' max='1101' style='width:300px; height:20px; vertical-align: middle;'></progress>\n",
       "      100.00% [1101/1101 00:11<00:00 logp = 1.0817e+05, ||grad|| = 1,589.2]\n",
       "    </div>\n",
       "    "
      ],
      "text/plain": [
       "<IPython.core.display.HTML object>"
      ]
     },
     "metadata": {},
     "output_type": "display_data"
    },
    {
     "name": "stdout",
     "output_type": "stream",
     "text": [
      "\n",
      "Convergence after  16  iterations\n",
      "Validation accuracy: 0.9652173913043478\n",
      "Validation: 10\n"
     ]
    },
    {
     "data": {
      "text/html": [
       "\n",
       "    <div>\n",
       "        <style>\n",
       "            /* Turns off some styling */\n",
       "            progress {\n",
       "                /* gets rid of default border in Firefox and Opera. */\n",
       "                border: none;\n",
       "                /* Needs to be in here for Safari polyfill so background images work as expected. */\n",
       "                background-size: auto;\n",
       "            }\n",
       "            .progress-bar-interrupted, .progress-bar-interrupted::-webkit-progress-bar {\n",
       "                background: #F44336;\n",
       "            }\n",
       "        </style>\n",
       "      <progress value='5001' class='' max='5001' style='width:300px; height:20px; vertical-align: middle;'></progress>\n",
       "      100.00% [5001/5001 00:50<00:00 logp = 1.1435e+05, ||grad|| = 34,733]\n",
       "    </div>\n",
       "    "
      ],
      "text/plain": [
       "<IPython.core.display.HTML object>"
      ]
     },
     "metadata": {},
     "output_type": "display_data"
    },
    {
     "name": "stderr",
     "output_type": "stream",
     "text": [
      "\n"
     ]
    },
    {
     "name": "stdout",
     "output_type": "stream",
     "text": [
      "\n",
      "Convergence after  17  iterations\n",
      "Validation accuracy: 0.8869565217391304\n"
     ]
    },
    {
     "data": {
      "text/html": [
       "\n",
       "    <div>\n",
       "        <style>\n",
       "            /* Turns off some styling */\n",
       "            progress {\n",
       "                /* gets rid of default border in Firefox and Opera. */\n",
       "                border: none;\n",
       "                /* Needs to be in here for Safari polyfill so background images work as expected. */\n",
       "                background-size: auto;\n",
       "            }\n",
       "            .progress-bar-interrupted, .progress-bar-interrupted::-webkit-progress-bar {\n",
       "                background: #F44336;\n",
       "            }\n",
       "        </style>\n",
       "      <progress value='1486' class='' max='1486' style='width:300px; height:20px; vertical-align: middle;'></progress>\n",
       "      100.00% [1486/1486 00:14<00:00 logp = 1.8707e+05, ||grad|| = 46,810]\n",
       "    </div>\n",
       "    "
      ],
      "text/plain": [
       "<IPython.core.display.HTML object>"
      ]
     },
     "metadata": {},
     "output_type": "display_data"
    },
    {
     "name": "stdout",
     "output_type": "stream",
     "text": [
      "\n",
      "Convergence after  14  iterations\n",
      "\n",
      "Test accuracy: 0.9166666666666666\n"
     ]
    }
   ],
   "source": [
    "# BRVFL\n",
    "\n",
    "n_node = 10 # num of nodes in hidden layer\n",
    "w_range = [-1, 1] # range of random weights\n",
    "b_range = [0, 1] # range of random biases\n",
    "\n",
    "for i, kf_values in enumerate(kf.split(X_train, y_train)):\n",
    "#     print(f'train: {train_index}, val: {val_index}')\n",
    "    print('Validation: {}'.format(i + 1))\n",
    "    train_index, val_index = kf_values\n",
    "    X_val_train, X_val_test = X_train[train_index], X_train[val_index]\n",
    "    y_val_train, y_val_test = y_train[train_index], y_train[val_index]\n",
    "    brvfl = BRVFL(n_node, w_range, b_range)\n",
    "    brvfl.train(X_val_train, y_val_train, n_class)\n",
    "    prediction = brvfl.predict(X_val_test, True)\n",
    "    acc = brvfl.eval(X_val_test, y_val_test)\n",
    "    print(f'Validation accuracy: {acc}')\n",
    "    val_acc.append(acc)\n",
    "    if acc >= max(val_acc):\n",
    "        max_index = train_index\n",
    "\n",
    "X_train, y_train = X_train[max_index], y_train[max_index]\n",
    "brvfl = BRVFL(n_node, w_range, b_range)\n",
    "brvfl.train(X_train, y_train, n_class)\n",
    "prediction = brvfl.predict(X_test, True)\n",
    "acc = brvfl.eval(X_test, y_test)\n",
    "print(f'\\nTest accuracy: {acc}')"
   ]
  },
  {
   "cell_type": "code",
   "execution_count": 2,
   "metadata": {},
   "outputs": [
    {
     "name": "stdout",
     "output_type": "stream",
     "text": [
      "Validation: 1\n"
     ]
    },
    {
     "data": {
      "text/html": [
       "\n",
       "    <div>\n",
       "        <style>\n",
       "            /* Turns off some styling */\n",
       "            progress {\n",
       "                /* gets rid of default border in Firefox and Opera. */\n",
       "                border: none;\n",
       "                /* Needs to be in here for Safari polyfill so background images work as expected. */\n",
       "                background-size: auto;\n",
       "            }\n",
       "            .progress-bar-interrupted, .progress-bar-interrupted::-webkit-progress-bar {\n",
       "                background: #F44336;\n",
       "            }\n",
       "        </style>\n",
       "      <progress value='5001' class='' max='5001' style='width:300px; height:20px; vertical-align: middle;'></progress>\n",
       "      100.00% [5001/5001 01:44<00:00 logp = 1.2084e+05, ||grad|| = 40,917]\n",
       "    </div>\n",
       "    "
      ],
      "text/plain": [
       "<IPython.core.display.HTML object>"
      ]
     },
     "metadata": {},
     "output_type": "display_data"
    },
    {
     "name": "stderr",
     "output_type": "stream",
     "text": [
      "\n"
     ]
    },
    {
     "name": "stdout",
     "output_type": "stream",
     "text": [
      "\n",
      "Convergence after  16  iterations\n",
      "Validation accuracy: 0.9051724137931034\n",
      "Validation: 2\n"
     ]
    },
    {
     "data": {
      "text/html": [
       "\n",
       "    <div>\n",
       "        <style>\n",
       "            /* Turns off some styling */\n",
       "            progress {\n",
       "                /* gets rid of default border in Firefox and Opera. */\n",
       "                border: none;\n",
       "                /* Needs to be in here for Safari polyfill so background images work as expected. */\n",
       "                background-size: auto;\n",
       "            }\n",
       "            .progress-bar-interrupted, .progress-bar-interrupted::-webkit-progress-bar {\n",
       "                background: #F44336;\n",
       "            }\n",
       "        </style>\n",
       "      <progress value='5001' class='' max='5001' style='width:300px; height:20px; vertical-align: middle;'></progress>\n",
       "      100.00% [5001/5001 01:42<00:00 logp = 1.2142e+05, ||grad|| = 99,491]\n",
       "    </div>\n",
       "    "
      ],
      "text/plain": [
       "<IPython.core.display.HTML object>"
      ]
     },
     "metadata": {},
     "output_type": "display_data"
    },
    {
     "name": "stderr",
     "output_type": "stream",
     "text": [
      "\n"
     ]
    },
    {
     "name": "stdout",
     "output_type": "stream",
     "text": [
      "\n",
      "Convergence after  16  iterations\n",
      "Validation accuracy: 0.8793103448275862\n",
      "Validation: 3\n"
     ]
    },
    {
     "data": {
      "text/html": [
       "\n",
       "    <div>\n",
       "        <style>\n",
       "            /* Turns off some styling */\n",
       "            progress {\n",
       "                /* gets rid of default border in Firefox and Opera. */\n",
       "                border: none;\n",
       "                /* Needs to be in here for Safari polyfill so background images work as expected. */\n",
       "                background-size: auto;\n",
       "            }\n",
       "            .progress-bar-interrupted, .progress-bar-interrupted::-webkit-progress-bar {\n",
       "                background: #F44336;\n",
       "            }\n",
       "        </style>\n",
       "      <progress value='5001' class='' max='5001' style='width:300px; height:20px; vertical-align: middle;'></progress>\n",
       "      100.00% [5001/5001 01:41<00:00 logp = 1.2189e+05, ||grad|| = 47,994]\n",
       "    </div>\n",
       "    "
      ],
      "text/plain": [
       "<IPython.core.display.HTML object>"
      ]
     },
     "metadata": {},
     "output_type": "display_data"
    },
    {
     "name": "stderr",
     "output_type": "stream",
     "text": [
      "\n"
     ]
    },
    {
     "name": "stdout",
     "output_type": "stream",
     "text": [
      "\n",
      "Convergence after  15  iterations\n",
      "Validation accuracy: 0.9391304347826087\n",
      "Validation: 4\n"
     ]
    },
    {
     "data": {
      "text/html": [
       "\n",
       "    <div>\n",
       "        <style>\n",
       "            /* Turns off some styling */\n",
       "            progress {\n",
       "                /* gets rid of default border in Firefox and Opera. */\n",
       "                border: none;\n",
       "                /* Needs to be in here for Safari polyfill so background images work as expected. */\n",
       "                background-size: auto;\n",
       "            }\n",
       "            .progress-bar-interrupted, .progress-bar-interrupted::-webkit-progress-bar {\n",
       "                background: #F44336;\n",
       "            }\n",
       "        </style>\n",
       "      <progress value='5001' class='' max='5001' style='width:300px; height:20px; vertical-align: middle;'></progress>\n",
       "      100.00% [5001/5001 01:38<00:00 logp = 1.1994e+05, ||grad|| = 47,417]\n",
       "    </div>\n",
       "    "
      ],
      "text/plain": [
       "<IPython.core.display.HTML object>"
      ]
     },
     "metadata": {},
     "output_type": "display_data"
    },
    {
     "name": "stderr",
     "output_type": "stream",
     "text": [
      "\n"
     ]
    },
    {
     "name": "stdout",
     "output_type": "stream",
     "text": [
      "\n",
      "Convergence after  16  iterations\n",
      "Validation accuracy: 0.9565217391304348\n",
      "Validation: 5\n"
     ]
    },
    {
     "data": {
      "text/html": [
       "\n",
       "    <div>\n",
       "        <style>\n",
       "            /* Turns off some styling */\n",
       "            progress {\n",
       "                /* gets rid of default border in Firefox and Opera. */\n",
       "                border: none;\n",
       "                /* Needs to be in here for Safari polyfill so background images work as expected. */\n",
       "                background-size: auto;\n",
       "            }\n",
       "            .progress-bar-interrupted, .progress-bar-interrupted::-webkit-progress-bar {\n",
       "                background: #F44336;\n",
       "            }\n",
       "        </style>\n",
       "      <progress value='5001' class='' max='5001' style='width:300px; height:20px; vertical-align: middle;'></progress>\n",
       "      100.00% [5001/5001 01:32<00:00 logp = 1.2243e+05, ||grad|| = 52,652]\n",
       "    </div>\n",
       "    "
      ],
      "text/plain": [
       "<IPython.core.display.HTML object>"
      ]
     },
     "metadata": {},
     "output_type": "display_data"
    },
    {
     "name": "stderr",
     "output_type": "stream",
     "text": [
      "\n"
     ]
    },
    {
     "name": "stdout",
     "output_type": "stream",
     "text": [
      "\n",
      "Convergence after  16  iterations\n",
      "Validation accuracy: 0.9217391304347826\n",
      "Validation: 6\n"
     ]
    },
    {
     "data": {
      "text/html": [
       "\n",
       "    <div>\n",
       "        <style>\n",
       "            /* Turns off some styling */\n",
       "            progress {\n",
       "                /* gets rid of default border in Firefox and Opera. */\n",
       "                border: none;\n",
       "                /* Needs to be in here for Safari polyfill so background images work as expected. */\n",
       "                background-size: auto;\n",
       "            }\n",
       "            .progress-bar-interrupted, .progress-bar-interrupted::-webkit-progress-bar {\n",
       "                background: #F44336;\n",
       "            }\n",
       "        </style>\n",
       "      <progress value='5001' class='' max='5001' style='width:300px; height:20px; vertical-align: middle;'></progress>\n",
       "      100.00% [5001/5001 01:33<00:00 logp = 1.2101e+05, ||grad|| = 56,568]\n",
       "    </div>\n",
       "    "
      ],
      "text/plain": [
       "<IPython.core.display.HTML object>"
      ]
     },
     "metadata": {},
     "output_type": "display_data"
    },
    {
     "name": "stderr",
     "output_type": "stream",
     "text": [
      "\n"
     ]
    },
    {
     "name": "stdout",
     "output_type": "stream",
     "text": [
      "\n",
      "Convergence after  16  iterations\n",
      "Validation accuracy: 0.8782608695652174\n",
      "Validation: 7\n"
     ]
    },
    {
     "data": {
      "text/html": [
       "\n",
       "    <div>\n",
       "        <style>\n",
       "            /* Turns off some styling */\n",
       "            progress {\n",
       "                /* gets rid of default border in Firefox and Opera. */\n",
       "                border: none;\n",
       "                /* Needs to be in here for Safari polyfill so background images work as expected. */\n",
       "                background-size: auto;\n",
       "            }\n",
       "            .progress-bar-interrupted, .progress-bar-interrupted::-webkit-progress-bar {\n",
       "                background: #F44336;\n",
       "            }\n",
       "        </style>\n",
       "      <progress value='5001' class='' max='5001' style='width:300px; height:20px; vertical-align: middle;'></progress>\n",
       "      100.00% [5001/5001 01:32<00:00 logp = 1.215e+05, ||grad|| = 43,579]\n",
       "    </div>\n",
       "    "
      ],
      "text/plain": [
       "<IPython.core.display.HTML object>"
      ]
     },
     "metadata": {},
     "output_type": "display_data"
    },
    {
     "name": "stderr",
     "output_type": "stream",
     "text": [
      "\n"
     ]
    },
    {
     "name": "stdout",
     "output_type": "stream",
     "text": [
      "\n",
      "Convergence after  16  iterations\n",
      "Validation accuracy: 0.9043478260869565\n",
      "Validation: 8\n"
     ]
    },
    {
     "data": {
      "text/html": [
       "\n",
       "    <div>\n",
       "        <style>\n",
       "            /* Turns off some styling */\n",
       "            progress {\n",
       "                /* gets rid of default border in Firefox and Opera. */\n",
       "                border: none;\n",
       "                /* Needs to be in here for Safari polyfill so background images work as expected. */\n",
       "                background-size: auto;\n",
       "            }\n",
       "            .progress-bar-interrupted, .progress-bar-interrupted::-webkit-progress-bar {\n",
       "                background: #F44336;\n",
       "            }\n",
       "        </style>\n",
       "      <progress value='5001' class='' max='5001' style='width:300px; height:20px; vertical-align: middle;'></progress>\n",
       "      100.00% [5001/5001 01:31<00:00 logp = 1.21e+05, ||grad|| = 96,809]\n",
       "    </div>\n",
       "    "
      ],
      "text/plain": [
       "<IPython.core.display.HTML object>"
      ]
     },
     "metadata": {},
     "output_type": "display_data"
    },
    {
     "name": "stderr",
     "output_type": "stream",
     "text": [
      "\n"
     ]
    },
    {
     "name": "stdout",
     "output_type": "stream",
     "text": [
      "\n",
      "Convergence after  16  iterations\n",
      "Validation accuracy: 0.9130434782608695\n",
      "Validation: 9\n"
     ]
    },
    {
     "data": {
      "text/html": [
       "\n",
       "    <div>\n",
       "        <style>\n",
       "            /* Turns off some styling */\n",
       "            progress {\n",
       "                /* gets rid of default border in Firefox and Opera. */\n",
       "                border: none;\n",
       "                /* Needs to be in here for Safari polyfill so background images work as expected. */\n",
       "                background-size: auto;\n",
       "            }\n",
       "            .progress-bar-interrupted, .progress-bar-interrupted::-webkit-progress-bar {\n",
       "                background: #F44336;\n",
       "            }\n",
       "        </style>\n",
       "      <progress value='1012' class='' max='1012' style='width:300px; height:20px; vertical-align: middle;'></progress>\n",
       "      100.00% [1012/1012 00:19<00:00 logp = 1.1362e+05, ||grad|| = 598.31]\n",
       "    </div>\n",
       "    "
      ],
      "text/plain": [
       "<IPython.core.display.HTML object>"
      ]
     },
     "metadata": {},
     "output_type": "display_data"
    },
    {
     "name": "stdout",
     "output_type": "stream",
     "text": [
      "\n",
      "Convergence after  16  iterations\n",
      "Validation accuracy: 0.9652173913043478\n",
      "Validation: 10\n"
     ]
    },
    {
     "data": {
      "text/html": [
       "\n",
       "    <div>\n",
       "        <style>\n",
       "            /* Turns off some styling */\n",
       "            progress {\n",
       "                /* gets rid of default border in Firefox and Opera. */\n",
       "                border: none;\n",
       "                /* Needs to be in here for Safari polyfill so background images work as expected. */\n",
       "                background-size: auto;\n",
       "            }\n",
       "            .progress-bar-interrupted, .progress-bar-interrupted::-webkit-progress-bar {\n",
       "                background: #F44336;\n",
       "            }\n",
       "        </style>\n",
       "      <progress value='5001' class='' max='5001' style='width:300px; height:20px; vertical-align: middle;'></progress>\n",
       "      100.00% [5001/5001 01:34<00:00 logp = 1.2199e+05, ||grad|| = 44,500]\n",
       "    </div>\n",
       "    "
      ],
      "text/plain": [
       "<IPython.core.display.HTML object>"
      ]
     },
     "metadata": {},
     "output_type": "display_data"
    },
    {
     "name": "stderr",
     "output_type": "stream",
     "text": [
      "\n"
     ]
    },
    {
     "name": "stdout",
     "output_type": "stream",
     "text": [
      "\n",
      "Convergence after  16  iterations\n",
      "Validation accuracy: 0.9043478260869565\n"
     ]
    },
    {
     "data": {
      "text/html": [
       "\n",
       "    <div>\n",
       "        <style>\n",
       "            /* Turns off some styling */\n",
       "            progress {\n",
       "                /* gets rid of default border in Firefox and Opera. */\n",
       "                border: none;\n",
       "                /* Needs to be in here for Safari polyfill so background images work as expected. */\n",
       "                background-size: auto;\n",
       "            }\n",
       "            .progress-bar-interrupted, .progress-bar-interrupted::-webkit-progress-bar {\n",
       "                background: #F44336;\n",
       "            }\n",
       "        </style>\n",
       "      <progress value='5001' class='' max='5001' style='width:300px; height:20px; vertical-align: middle;'></progress>\n",
       "      100.00% [5001/5001 01:31<00:00 logp = 1.2117e+05, ||grad|| = 70,954]\n",
       "    </div>\n",
       "    "
      ],
      "text/plain": [
       "<IPython.core.display.HTML object>"
      ]
     },
     "metadata": {},
     "output_type": "display_data"
    },
    {
     "name": "stderr",
     "output_type": "stream",
     "text": [
      "\n"
     ]
    },
    {
     "name": "stdout",
     "output_type": "stream",
     "text": [
      "\n",
      "Convergence after  16  iterations\n",
      "\n",
      "Test accuracy: 0.8645833333333334\n"
     ]
    }
   ],
   "source": [
    "# BdRVFL\n",
    "\n",
    "n_node = 10 # num of nodes in hidden layer\n",
    "n_layer = 5 # num of hidden layers\n",
    "w_range = [-1, 1] # range of random weights\n",
    "b_range = [0, 1] # range of random biases\n",
    "\n",
    "for i, kf_values in enumerate(kf.split(X_train, y_train)):\n",
    "#     print(f'train: {train_index}, val: {val_index}')\n",
    "    print('Validation: {}'.format(i + 1))\n",
    "    train_index, val_index = kf_values\n",
    "    X_val_train, X_val_test = X_train[train_index], X_train[val_index]\n",
    "    y_val_train, y_val_test = y_train[train_index], y_train[val_index]\n",
    "    model = BayesianDeepRVFL(n_node, w_range, b_range, n_layer)\n",
    "    model.train(X_val_train, y_val_train, n_class)\n",
    "    prediction = model.predict(X_val_test, True)\n",
    "    acc = model.eval(X_val_test, y_val_test)\n",
    "    print(f'Validation accuracy: {acc}')\n",
    "    val_acc.append(acc)\n",
    "    if acc >= max(val_acc):\n",
    "        max_index = train_index\n",
    "\n",
    "X_train, y_train = X_train[max_index], y_train[max_index]\n",
    "model = BayesianDeepRVFL(n_node, w_range, b_range, n_layer)\n",
    "model.train(X_train, y_train, n_class)\n",
    "prediction = model.predict(X_test, True)\n",
    "acc = model.eval(X_test, y_test)\n",
    "print(f'\\nTest accuracy: {acc}')"
   ]
  },
  {
   "cell_type": "code",
   "execution_count": 2,
   "metadata": {},
   "outputs": [
    {
     "data": {
      "text/html": [
       "\n",
       "    <div>\n",
       "        <style>\n",
       "            /* Turns off some styling */\n",
       "            progress {\n",
       "                /* gets rid of default border in Firefox and Opera. */\n",
       "                border: none;\n",
       "                /* Needs to be in here for Safari polyfill so background images work as expected. */\n",
       "                background-size: auto;\n",
       "            }\n",
       "            .progress-bar-interrupted, .progress-bar-interrupted::-webkit-progress-bar {\n",
       "                background: #F44336;\n",
       "            }\n",
       "        </style>\n",
       "      <progress value='5001' class='' max='5001' style='width:300px; height:20px; vertical-align: middle;'></progress>\n",
       "      100.00% [5001/5001 01:45<00:00 logp = 1.107e+05, ||grad|| = 61,797]\n",
       "    </div>\n",
       "    "
      ],
      "text/plain": [
       "<IPython.core.display.HTML object>"
      ]
     },
     "metadata": {},
     "output_type": "display_data"
    },
    {
     "name": "stderr",
     "output_type": "stream",
     "text": [
      "\n"
     ]
    },
    {
     "name": "stdout",
     "output_type": "stream",
     "text": [
      "\n",
      "Convergence after  17  iterations\n"
     ]
    },
    {
     "data": {
      "text/html": [
       "\n",
       "    <div>\n",
       "        <style>\n",
       "            /* Turns off some styling */\n",
       "            progress {\n",
       "                /* gets rid of default border in Firefox and Opera. */\n",
       "                border: none;\n",
       "                /* Needs to be in here for Safari polyfill so background images work as expected. */\n",
       "                background-size: auto;\n",
       "            }\n",
       "            .progress-bar-interrupted, .progress-bar-interrupted::-webkit-progress-bar {\n",
       "                background: #F44336;\n",
       "            }\n",
       "        </style>\n",
       "      <progress value='5001' class='' max='5001' style='width:300px; height:20px; vertical-align: middle;'></progress>\n",
       "      100.00% [5001/5001 01:49<00:00 logp = 1.133e+05, ||grad|| = 6,643.7]\n",
       "    </div>\n",
       "    "
      ],
      "text/plain": [
       "<IPython.core.display.HTML object>"
      ]
     },
     "metadata": {},
     "output_type": "display_data"
    },
    {
     "name": "stderr",
     "output_type": "stream",
     "text": [
      "\n"
     ]
    },
    {
     "name": "stdout",
     "output_type": "stream",
     "text": [
      "\n",
      "Convergence after  16  iterations\n"
     ]
    },
    {
     "data": {
      "text/html": [
       "\n",
       "    <div>\n",
       "        <style>\n",
       "            /* Turns off some styling */\n",
       "            progress {\n",
       "                /* gets rid of default border in Firefox and Opera. */\n",
       "                border: none;\n",
       "                /* Needs to be in here for Safari polyfill so background images work as expected. */\n",
       "                background-size: auto;\n",
       "            }\n",
       "            .progress-bar-interrupted, .progress-bar-interrupted::-webkit-progress-bar {\n",
       "                background: #F44336;\n",
       "            }\n",
       "        </style>\n",
       "      <progress value='5001' class='' max='5001' style='width:300px; height:20px; vertical-align: middle;'></progress>\n",
       "      100.00% [5001/5001 01:23<00:00 logp = 1.1333e+05, ||grad|| = 7,789.3]\n",
       "    </div>\n",
       "    "
      ],
      "text/plain": [
       "<IPython.core.display.HTML object>"
      ]
     },
     "metadata": {},
     "output_type": "display_data"
    },
    {
     "name": "stderr",
     "output_type": "stream",
     "text": [
      "\n"
     ]
    },
    {
     "name": "stdout",
     "output_type": "stream",
     "text": [
      "\n",
      "Convergence after  17  iterations\n"
     ]
    },
    {
     "data": {
      "text/html": [
       "\n",
       "    <div>\n",
       "        <style>\n",
       "            /* Turns off some styling */\n",
       "            progress {\n",
       "                /* gets rid of default border in Firefox and Opera. */\n",
       "                border: none;\n",
       "                /* Needs to be in here for Safari polyfill so background images work as expected. */\n",
       "                background-size: auto;\n",
       "            }\n",
       "            .progress-bar-interrupted, .progress-bar-interrupted::-webkit-progress-bar {\n",
       "                background: #F44336;\n",
       "            }\n",
       "        </style>\n",
       "      <progress value='5001' class='' max='5001' style='width:300px; height:20px; vertical-align: middle;'></progress>\n",
       "      100.00% [5001/5001 01:50<00:00 logp = 1.1271e+05, ||grad|| = 4,960.8]\n",
       "    </div>\n",
       "    "
      ],
      "text/plain": [
       "<IPython.core.display.HTML object>"
      ]
     },
     "metadata": {},
     "output_type": "display_data"
    },
    {
     "name": "stderr",
     "output_type": "stream",
     "text": [
      "\n"
     ]
    },
    {
     "name": "stdout",
     "output_type": "stream",
     "text": [
      "\n",
      "Convergence after  17  iterations\n"
     ]
    },
    {
     "data": {
      "text/html": [
       "\n",
       "    <div>\n",
       "        <style>\n",
       "            /* Turns off some styling */\n",
       "            progress {\n",
       "                /* gets rid of default border in Firefox and Opera. */\n",
       "                border: none;\n",
       "                /* Needs to be in here for Safari polyfill so background images work as expected. */\n",
       "                background-size: auto;\n",
       "            }\n",
       "            .progress-bar-interrupted, .progress-bar-interrupted::-webkit-progress-bar {\n",
       "                background: #F44336;\n",
       "            }\n",
       "        </style>\n",
       "      <progress value='5001' class='' max='5001' style='width:300px; height:20px; vertical-align: middle;'></progress>\n",
       "      100.00% [5001/5001 01:43<00:00 logp = 1.1288e+05, ||grad|| = 7,603.7]\n",
       "    </div>\n",
       "    "
      ],
      "text/plain": [
       "<IPython.core.display.HTML object>"
      ]
     },
     "metadata": {},
     "output_type": "display_data"
    },
    {
     "name": "stderr",
     "output_type": "stream",
     "text": [
      "\n"
     ]
    },
    {
     "name": "stdout",
     "output_type": "stream",
     "text": [
      "\n",
      "Convergence after  17  iterations\n",
      "\n",
      "Test accuracy: 0.9201388888888888\n"
     ]
    }
   ],
   "source": [
    "# BedRVFL\n",
    "\n",
    "n_node = 10 # num of nodes in hidden layer\n",
    "n_layer = 5 # num of hidden layers\n",
    "w_range = [-1, 1] # range of random weights\n",
    "b_range = [0, 1] # range of random biases\n",
    "\n",
    "# for i, kf_values in enumerate(kf.split(X_train, y_train)):\n",
    "# #     print(f'train: {train_index}, val: {val_index}')\n",
    "#     print('Validation: {}'.format(i + 1))\n",
    "#     train_index, val_index = kf_values\n",
    "#     X_val_train, X_val_test = X_train[train_index], X_train[val_index]\n",
    "#     y_val_train, y_val_test = y_train[train_index], y_train[val_index]\n",
    "#     model = BayesianEnsembleDeepRVFL(n_node, w_range, b_range, n_layer)\n",
    "#     model.train(X_val_train, y_val_train, n_class)\n",
    "#     prediction = model.predict(X_val_test, False)\n",
    "#     acc = model.eval(X_val_test, y_val_test)\n",
    "#     print(f'Validation accuracy: {acc}')\n",
    "#     val_acc.append(acc)\n",
    "#     if acc >= max(val_acc):\n",
    "#         max_index = train_index\n",
    "\n",
    "# X_train, y_train = X_train[max_index], y_train[max_index]\n",
    "model = BayesianEnsembleDeepRVFL(n_node, w_range, b_range, n_layer)\n",
    "model.train(X_train, y_train, n_class)\n",
    "prediction = model.predict(X_test, False)\n",
    "acc = model.eval(X_test, y_test)\n",
    "print(f'\\nTest accuracy: {acc}')"
   ]
  },
  {
   "cell_type": "code",
   "execution_count": null,
   "metadata": {},
   "outputs": [],
   "source": []
  }
 ],
 "metadata": {
  "interpreter": {
   "hash": "d29531488e2b7bac10af08b59c5a0d1dca9077738f8661c2e75b8529990c25ab"
  },
  "kernelspec": {
   "display_name": "Python 3.8.8 64-bit ('base': conda)",
   "name": "python3"
  },
  "language_info": {
   "codemirror_mode": {
    "name": "ipython",
    "version": 3
   },
   "file_extension": ".py",
   "mimetype": "text/x-python",
   "name": "python",
   "nbconvert_exporter": "python",
   "pygments_lexer": "ipython3",
   "version": "3.8.8"
  },
  "orig_nbformat": 4
 },
 "nbformat": 4,
 "nbformat_minor": 2
}
